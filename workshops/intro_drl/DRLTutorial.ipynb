{
  "cells": [
    {
      "cell_type": "markdown",
      "metadata": {
        "id": "view-in-github",
        "colab_type": "text"
      },
      "source": [
        "<a href=\"https://colab.research.google.com/github/rhiga2/AIHawaii/blob/main/workshops/intro_drl/DRLTutorial.ipynb\" target=\"_parent\"><img src=\"https://colab.research.google.com/assets/colab-badge.svg\" alt=\"Open In Colab\"/></a>"
      ]
    },
    {
      "cell_type": "code",
      "execution_count": 2,
      "metadata": {
        "id": "Be8CpGMueWdQ"
      },
      "outputs": [],
      "source": [
        "%%capture\n",
        "!pip install stable-baselines3\n",
        "!apt install swig\n",
        "!apt install xvfb python3-opengl ffmpeg\n",
        "!pip install gymnasium[box2d]\n",
        "!pip install pyvirtualdisplay\n",
        "!pip install huggingface-sb3"
      ]
    },
    {
      "cell_type": "code",
      "execution_count": 3,
      "metadata": {
        "colab": {
          "base_uri": "https://localhost:8080/"
        },
        "id": "Q3mZKoH9osj4",
        "outputId": "69eba985-a789-427d-9753-2ab54a17fb04"
      },
      "outputs": [
        {
          "output_type": "execute_result",
          "data": {
            "text/plain": [
              "<pyvirtualdisplay.display.Display at 0x78584dd0bc70>"
            ]
          },
          "metadata": {},
          "execution_count": 3
        }
      ],
      "source": [
        "from pyvirtualdisplay import Display\n",
        "from IPython import display as ipythondisplay\n",
        "display = Display(visible=0, size=(400, 300))\n",
        "display.start()"
      ]
    },
    {
      "cell_type": "code",
      "execution_count": 4,
      "metadata": {
        "id": "CyRbppYsuLJo"
      },
      "outputs": [],
      "source": [
        "import glob\n",
        "import io\n",
        "import base64\n",
        "from IPython.display import HTML\n",
        "\n",
        "def show_video():\n",
        "  mp4list = glob.glob('video/*.mp4')\n",
        "  if len(mp4list) > 0:\n",
        "    mp4 = mp4list[0]\n",
        "    video = io.open(mp4, 'r+b').read()\n",
        "    encoded = base64.b64encode(video)\n",
        "    ipythondisplay.display(HTML(data='''<video alt=\"test\" autoplay\n",
        "                loop controls style=\"height: 400px;\">\n",
        "                <source src=\"data:video/mp4;base64,{0}\" type=\"video/mp4\" />\n",
        "             </video>'''.format(encoded.decode('ascii'))))\n",
        "  else:\n",
        "    print(\"Could not find video\")"
      ]
    },
    {
      "cell_type": "code",
      "source": [
        "# Log into huggingface\n",
        "from huggingface_sb3 import load_from_hub, package_to_hub\n",
        "from huggingface_hub import notebook_login\n",
        "notebook_login()\n",
        "!git config --global credential.helper store"
      ],
      "metadata": {
        "colab": {
          "base_uri": "https://localhost:8080/",
          "height": 145,
          "referenced_widgets": [
            "fb899e0a5799485cb4804f30ae9841ec",
            "95e7265a2887458e9091cd9b2ab453a9",
            "bb70ee583ce54db0a131564c95993e18",
            "718fc7fd4dd945668ea01122bab88b78",
            "5c725bcab34d4b5db3781a955f84272a",
            "b737df6ec8184e57a6a1d48d76d91b18",
            "d1662d4071d94112a74db8e362422834",
            "f2ce4cdf4cb24772832d7ff45a27d9f1",
            "9741c66a3d9047f9b462a519630f4c77",
            "3f82b36507ab458d860d6a10a0f17294",
            "2c619275a70e4ac1ba3d6f01501f7fd4",
            "d320ee316b424f5796f524f56e8ef939",
            "ccbf0c731f9943be937f04e9ecdb5a38",
            "4b71ca78d47e4244ade9346adc8e4d4c",
            "fea9bbfec9e047da971d28ebf15ec9e7",
            "01f68f694c1945d0a581eaf776a5fde2",
            "c81c2fa8ce774e29a5e117f990bd10d2",
            "11c5ed8a1ff448a7ab7ee9b2794bdff8",
            "3abca505b8064e22a58a6fff0e2bb1f1",
            "88c43e275e9642b9b4afa44ca7d4ce06",
            "8ad584f1f04541e4ae422d7407f714e5",
            "96c2ff49321c4e5ba07099d89935e163",
            "3e5cca2851404bd1ab5696733c0582ab",
            "2db080d3563b42baa0a96f8028a1d948",
            "96789c63c95d4f4e846c75c7ba33b533",
            "5cc0ccff00f24de9bb2792346058397f",
            "ff2467f292cb416aa08bf139bc4baa59",
            "67a04ce135544cf6948fe8c5e3e835cd",
            "6efbc71ea5dd4f6a9147952e0cfbcd57",
            "65003f88b85040f5b4dbfaba076836e5",
            "87bac28c2c6a475a909aa556490b4193",
            "a49351440e024833ac5dc10f5afe0a8f"
          ]
        },
        "id": "fkjbtXEsdLgC",
        "outputId": "9bad9a18-c25b-482b-fd78-222add4e3fae"
      },
      "execution_count": 5,
      "outputs": [
        {
          "output_type": "display_data",
          "data": {
            "text/plain": [
              "VBox(children=(HTML(value='<center> <img\\nsrc=https://huggingface.co/front/assets/huggingface_logo-noborder.sv…"
            ],
            "application/vnd.jupyter.widget-view+json": {
              "version_major": 2,
              "version_minor": 0,
              "model_id": "fb899e0a5799485cb4804f30ae9841ec"
            }
          },
          "metadata": {}
        }
      ]
    },
    {
      "cell_type": "code",
      "source": [
        "import gymnasium as gym\n",
        "from stable_baselines3.common.env_util import make_vec_env\n",
        "\n",
        "env_id = \"LunarLander-v2\"\n",
        "def make_env():\n",
        "  return gym.make(\n",
        "    env_id,\n",
        "    render_mode=\"rgb_array\",\n",
        "  )\n",
        "\n",
        "env = make_env()"
      ],
      "metadata": {
        "colab": {
          "base_uri": "https://localhost:8080/"
        },
        "id": "qjLiQSPnB9U8",
        "outputId": "315c308b-87dd-4c82-dd46-84561c322c60"
      },
      "execution_count": 6,
      "outputs": [
        {
          "output_type": "stream",
          "name": "stderr",
          "text": [
            "/usr/local/lib/python3.10/dist-packages/ipykernel/ipkernel.py:283: DeprecationWarning: `should_run_async` will not call `transform_cell` automatically in the future. Please pass the result to `transformed_cell` argument and any exception that happen during thetransform in `preprocessing_exc_tuple` in IPython 7.17 and above.\n",
            "  and should_run_async(code)\n"
          ]
        }
      ]
    },
    {
      "cell_type": "code",
      "execution_count": 7,
      "metadata": {
        "colab": {
          "base_uri": "https://localhost:8080/",
          "height": 512
        },
        "id": "eOHhDwBujAnR",
        "outputId": "0bd5e229-6081-46c0-9114-f17b1177cb8c"
      },
      "outputs": [
        {
          "output_type": "stream",
          "name": "stderr",
          "text": [
            "/usr/local/lib/python3.10/dist-packages/gym/core.py:317: DeprecationWarning: \u001b[33mWARN: Initializing wrapper in old step API which returns one bool instead of two. It is recommended to set `new_step_api=True` to use new step API. This will be the default behaviour in future.\u001b[0m\n",
            "  deprecation(\n",
            "/usr/local/lib/python3.10/dist-packages/gymnasium/core.py:311: UserWarning: \u001b[33mWARN: env.is_vector_env to get variables from other wrappers is deprecated and will be removed in v1.0, to get this variable you can do `env.unwrapped.is_vector_env` for environment variables or `env.get_wrapper_attr('is_vector_env')` that will search the reminding wrappers.\u001b[0m\n",
            "  logger.warn(\n"
          ]
        },
        {
          "output_type": "display_data",
          "data": {
            "text/plain": [
              "<IPython.core.display.HTML object>"
            ],
            "text/html": [
              "<video alt=\"test\" autoplay\n",
              "                loop controls style=\"height: 400px;\">\n",
              "                <source src=\"data:video/mp4;base64,AAAAIGZ0eXBpc29tAAACAGlzb21pc28yYXZjMW1wNDEAAAAIZnJlZQAAW8FtZGF0AAACrgYF//+q3EXpvebZSLeWLNgg2SPu73gyNjQgLSBjb3JlIDE2MyByMzA2MCA1ZGI2YWE2IC0gSC4yNjQvTVBFRy00IEFWQyBjb2RlYyAtIENvcHlsZWZ0IDIwMDMtMjAyMSAtIGh0dHA6Ly93d3cudmlkZW9sYW4ub3JnL3gyNjQuaHRtbCAtIG9wdGlvbnM6IGNhYmFjPTEgcmVmPTMgZGVibG9jaz0xOjA6MCBhbmFseXNlPTB4MzoweDExMyBtZT1oZXggc3VibWU9NyBwc3k9MSBwc3lfcmQ9MS4wMDowLjAwIG1peGVkX3JlZj0xIG1lX3JhbmdlPTE2IGNocm9tYV9tZT0xIHRyZWxsaXM9MSA4eDhkY3Q9MSBjcW09MCBkZWFkem9uZT0yMSwxMSBmYXN0X3Bza2lwPTEgY2hyb21hX3FwX29mZnNldD0tMiB0aHJlYWRzPTMgbG9va2FoZWFkX3RocmVhZHM9MSBzbGljZWRfdGhyZWFkcz0wIG5yPTAgZGVjaW1hdGU9MSBpbnRlcmxhY2VkPTAgYmx1cmF5X2NvbXBhdD0wIGNvbnN0cmFpbmVkX2ludHJhPTAgYmZyYW1lcz0zIGJfcHlyYW1pZD0yIGJfYWRhcHQ9MSBiX2JpYXM9MCBkaXJlY3Q9MSB3ZWlnaHRiPTEgb3Blbl9nb3A9MCB3ZWlnaHRwPTIga2V5aW50PTI1MCBrZXlpbnRfbWluPTI1IHNjZW5lY3V0PTQwIGludHJhX3JlZnJlc2g9MCByY19sb29rYWhlYWQ9NDAgcmM9Y3JmIG1idHJlZT0xIGNyZj0yMy4wIHFjb21wPTAuNjAgcXBtaW49MCBxcG1heD02OSBxcHN0ZXA9NCBpcF9yYXRpbz0xLjQwIGFxPTE6MS4wMACAAAAHCWWIhAAz//727L4FNhTIUJcRLMXaSnA+KqSAgHc0+h4/xAxS2APzPDmSpvIXYPtm3nH5rg5laHIHwimhBTvHxDj4lwzS1+H1FxRokbm8M28/03Rhd7h6Uv6bNEhsLrAPDCVqSp3QtL372rixvCzS6X7+jVe6NjweGIcHSSCYgK/yCC2MsInvyFKR8uHp3VwmYieu8rIxVH3Xy7Je+fC/+fKsNOURwuxat4Mwayclg6pnmIzkY7y3xjyNtSVE7oHCwAAAAwABLTQOAw+L3zrx5f9OeO7EJfgAALWD6rwIGXFBFaHMI4PYbw5RukOLoC8DdVwOeRFtY3em+JOpv6XUJDrC1kb0N2nEdzZJp4GBSBjT2V7aIxwTykuVL50rPMjuCTAFPv0i0UfDAzJbcvqlkDvjlRbN+rGS4OVzVCe197avzVj9QXLYqdRDhP6S+PMbNZY8SFl+HuzoYIYcnDeclmwJqN1K+48B/Dgb3HcmlnnrojlQEZBfFNR5BLOk5gwttBBt1m9zgOT3mcDpPpclhA6XWaZ+l/obaMEYCurjullB96woqrdBxgweTZOqsba47JbjidyW7Ul/ul8AColFFoydqdkzLP+HCB2jHuTqxncIFzJEsPeG3Ut9pxMpTNoHBjcz1UFbqJ0zrsft9Q02TuR36XczughFBQo1HDVQMJTrPXdbSAWbMSxUpSk9DV1Eg+VpbqEzP19ZlX4wp+eha3PgvGFk3UROWqAvNxvyg4Qct4BcyifjmnSmvedpVK3gtl8RIvIm4V4VMQ96ZaE/jvt9Ez7i8pQBmLy0e1up7AT2k/Ef/gp60D8mK1Xpk4FIYnweW+78xAEOroDbhJcd4LrtSeOFjwSsw47DY1bZcdrn2kb1N+WCFIpzWi4HrNuEWR0tcamqrRcX6ACpNLfwawLgFY03NLXe8vfqsy+EaOfYSESCc8wNPMJXQeqsl52XknZqpEbH5qRniTRvGWPCTp0aeuwdU3cq46qOz5azV+rVXFavF0huAYymKRxlX1rz9UwPdSs2HbQF11EYYIij5ZJohKpRLt+LYqf4XSi2r3FA2V04Q1u4xiqaN9DCela4divUChwMoJLRkJ0078oRES/5FlqINL6ShpzpWXx72SlzKo3HGJR69lmusIO3WWmRA7rFc3O2zjgOxoxrRSjP7SRIvUFXcV00NXlCQJq75C5bPIRLfnDUVf1wNf84qRUkz/OF3Xi3Oz9AAeebof6eO3PV/GFB/xV2qHQHGu37LH+Y7HaRxUP6RC3KgMTD3gZoZSxzZXxfD3Z38sebqRl+XRU7g783CJWMjcO9ZgNgor1jczy5YYNpIngHyxzsx0LEGExyA4cvZOBabr+phkxiBgohYirmLurj57r4I9RD9njzsRY/xxrcKUgxgeePph2uyiDg+fvQlMGx8yS/6VibQKuAuYjh+HIhbst716Cdr90fGOFAvDiAalgL6zN9vJ9iguWz5DClx8zlE9EmTONr3rPo54gXphJ83aeizbiwhzQ8kMx3+9r4r8+NeWDYu86OK///TcN4KJ1ZDjn2Heqz+IsFZmUg5qVK30Nj3Mwi/ncDd7dGQls4x6MBhubxf04IDRcl468C+j4JfiRapcocQSWEj+SS3BxmUSayH0J0EcAwhTrIGu97Q4aJiDsKmSsLjZMwavjRMFQBHFbBt8zj5PQwE533wz1F54VQKAyxKe0yo4fRNaJKp4v59MNqeNZFaKXT2mi+DNftuWOOO4GtLShC2zW1+o8VmZo7JeZOTHk28vAGdF6BwJ23Tm9JTg+36xEgme2mWtN/wmk80NP3Pk3K/a9ZGY1S1+WuVpXQwZwdpn4XVqnI5/vSoE4KYw0Q4b9bVL1NsLKWQc2/aKBw4gHHzKy3QF0IbUUBIWMtOnk3zrdPWbkHHunE9iQBfnnYJ5w2vKPTv/qbhr5i1YMhQJRzqcNG2QS20SkK/ePSS1lchvE/bYInjjPq6QxSNJCjaWbZPYHdj3VKLw6zbSJeCluSUN61Q8ImKIqBBoa2F/gdltJtWGr3HuFjTz7sUvV4+29noInckKEB4ZtfFHHHcMDPKqkT8f205I8NMGwSABsIcv9oQpiXLZvjjx8x0j3WWSncvJSce99Hcw2dLqsRreqRh77iI2FWwLtWSB2dUOTbOG/1I2zzv/4uDKZCK4Wy3sh2hIA3ssMgftiSCjzRsgvtqtr0fBi65V3M8+xzv598yWZ2wxyoTlwmZjehepSu1BgC6x9uJcjBPfRZIufYgtdRthEa4ndY7GdGdVmGexptc0eDGppX+l/I+/LmAPZ4BVGOrcbKyv4CxVgykR2UCKaQ/pjZhf4VEJEkybWIPNywAn2ayhYfUKScW/x0J+yVlDNG5FRHzWiVtAAAAwIOYAABuwCJgFWghYEAAAEDQZokbEL//ozOpe2pSEWWw5sxYHQAcEHtv2WNemcnPl6cIpwdvBkmAxgINp3vy9CRve8U+HP5ovMwaMhvvkEETz38seD+O+DOYsaQeGEjU+6gwGSxrc0IICe+8O8OB6S+pspyV0x6mPWpF1/Fu1vpJdN3t0K4NkzUQJwVrM4L3V0xlSkoPBPxKt1c2/01V4lOC4J/iRniaJrKEHSJhVAagGyyOtbnt1oPYIiVvzIJtGoux9dEHkx8lvMDPP6uWiCe2YMwLHp21Pm9UNqUY20pLm856b+AGF++CRU2XUB0dEp6/uw0E6ZghnG6AB4yVUv/W52bk+PaHJ73qTTxWylRFkAB9wAAAERBnkJ4hH8PMwEa5Dz3ROQgYm2+YgBnFYMjsa3c6NlYevctc7mjgstAAmvlhzXmLYDVoeTzWqvWadzqZOJ5Pr//Dj8PSQAAAD0BnmF0R/8UsoxHwAhsp3g8ybpUNr5GS0yxor5M1rcgAHv27PIqeW662ZamJS0TEmKGCrmHMZupMu3QAKSAAAAALQGeY2pH/xUFgdvCrFAC0V7eMjO0Sh7OACKiriNFfNj3Wy0dxow1IwIIN3ArYQAAAK5BmmhJqEFomUwIX//+jNMzf6WCRLCrg3tADZ9PPlbTOvTQ+/13+mPgP2e8cd6nAV9VOAXrvN2n0fqwZqZPv/U2tOQAAAMATyXXFjXIwiNkNlu7vYfsySr70AFo+Y/9xabzYI+LYcAk2sZ5OLd21TLpAsS+N8o0M6cgeOfI4FXQIiqrpsfC4wHiNWJxqyQ8J1XtMGb4zYuBsNNSsw5D/OkfvWJZr7tpAJ10IuvQBzUAAABJQZ6GRREsI/8PglZlqIAEI1bPR7mi2k2LU5EeTcSOHvpa4Q7gFHPY9wbn8ABsFKweNNcHVOC4GgpE8o2KGv0gB7Om067OJ8QYEQAAAD0BnqV0R/8VAWtLug3iGpAAkSCIF4/kX3hOFEp8WVaouzCa5kqesi9YACe75WVTwTicAhaOt3B1x95O8A6ZAAAAPAGep2pH/xUXiHruAFrP0vuI7dW2oNSKZaZm9YEhC/yfmwviQ+UfsAD8zqiyOeVgwXRJiBHzR0WgVB4GpAAAAKBBmqpJqEFsmUwUTDP//p4hT5wlfr9vIO7MABm8cYz7tRi8/pJAxncHTBSTswxO5x7ZmoDwjEqwDjs5r4iP+jIMNv2dAcLnLOLpIQVrgAAAD6gbBGImWSyE+921TL5hxzL2tvVdYVWc/rBwql32g2IZyOYPh/Vo9ud9bxdygQDmw3OWVeQyPjPF8sppEee42wNPA2DD8dzOYQGwH/KuoAg4AAAAbAGeyWpH/xM1b9Efm8ALKvX5v5OjsFiueMoAicUdHiGv0YWk4IHIH9rwQlNrbW25y4bV6s80ky2VYmyK4aag8f/OmISWiTMGjf/ahD5hvq2huLIczpFKgItwpoaDbZzQCtTSCHm2Ujej3IoBEwAAALxBms5J4QpSZTAhn/6eImouvXNVTFAA2opQW4L1sMz8Bo1Jq+P9n+Q0pNudZgP+pjkHZ2VJyna5K0l6V9HsIshQm7AAAAMADinE9lnyNiy3asD4wWE5P6jhB8Kg6EOg/9bpD6R1H3bVMtvEzT0FiC9hiEA+cfctfSv4epPpRVVdftdceXHg/1bmVeXGj7NC4JNPTi10kMiHhr6C4B4a6uTOm7egKWUtLwN82gcNL1OYAH7jzr3v8uQWUgAFJAAAAH9BnuxFNEwj/w3MDD3/kS6qAIfPeKmliHtgptibg9NIF5EPJqwCiQuDeY9bUm6HHf9H/5BmpWqtJZo13k0y9ILL0a5+UJJOaPrMeSuewIwBGqhUzx5DzWv6gIay0DZ8EvCpKH1PKRx/sDrvAOb+4SO31vBjsTtdO5F3zwItKYFJAAAAdQGfC3RH/xUjBcLpXsUALUTAEX6iWsLZG9MftfJnH2eYBOrm+Juwvf1X8JlflVZYi0NaVFDbKLN6ynEAjAvm/UozmLWz6dNcSyZpmcsQsoGuCGxVsu6Gojsv3Ay5dBgF998cWzGXQ6u5JZnU72QjjmgmvwADAwAAAJEBnw1qR/8S5S8bqkyAFu/BXZTmojDcz4lRoWJpT8f15WyzMiDumJGwMNaW9/7qCRZvgXd2wuNIl6ebKXTVWp6ZyklwG+2Y6RapOVCpz7mfkfzEQ4V7kzy198KSFsDU2cjsCUlPDiLOGooTblFgrPsBpdWKWxpNh4dtPlVh3weyzExoKCWZppYd2+fxvR/4KAMrAAAA4kGbEkmoQWiZTAhn//6eImDT36KABZG7veIDKj7/qPWaw/G/xJsFJ04eCwdj+RAnPXVZbRUjaHPMK7wAAAMAAMoTkr1K+58mSKo2ZZL0N4jtmnGG+BPIO1jIqu4XVHKhzI9Nd7tqmbUAsoHUM+oPAT5/w+AsjZ4W+NTA6k4Gp4FsAk8hhZVgp4bvAOTuOB/c3T3b8ECnB3HaKsk1BTATQ8RwaPCZJjMOv4x0CXKjzad3G32OwnaIWTKKC924Bgop1MFoDqI8UnK7KmRMMptoUpCJZI9m1FKZPzTRsqKJhnAAVsEAAAByQZ8wRREsI/8M/Td8P/lLIAF1FtSzFLvkcvC6U2aDEs4/rVVUvNznXA2r4JGex9BZOjgSKjcdEuKoBiyG+LJ+KI6DVYQhHAKj+woFjtS1F8cDLNUq7L4lgnOpwUnuyjLn59GLUQUMhtI1TBGWiyt2ENmAAAAAgAGfT3RH/xIeMaW5DMT8QAA4kaT/88ywyFS8HdUFz8D6Eu7YVrdqhTB3PpZz+IvxX7VgmcD/Q8FGbBZd6c5h1F8TzbdoHQkuPpRMq3cC+6x15eBs0tQ1LnaYvPZPLVGo9b5H9hCXXF1xmGCcCoMLkCmlxB7Ku5q6qjVHYVPTtAEbAAAAgwGfUWpH/xT9ivEAAtXVJkbH7FeLlrdd/wUM1n+cJ/UKDO1s2UDHk69puIPS9stfxGSu/DOCe5CUeKON14csQrBmV+TewYi5c+AiYkdm5hjCkHqVeZLqqNTvUsgxuvJIZgu0HmmaDo6OMjpmpgSsU/96le1uDu+HKD9hzDlANApwACDhAAAAnkGbVkmoQWyZTAhn//6eIm8TfeaO4gAW5pSYsP0at7DvF/umJR6y/331YuCmovaX6qr6pLx0pJ7BGqpAAAADAdYcO72mRvu1qVk07Ne+JRoguc+GABECbM1WeyH649qSQvVMtD0NYZsVTzxMX4nDrIT5XJQtwfi1p/kzNZDY0Vlf1gj4teNlVfNrY2FNdtJ3kyNKVOqeXyZ74rMUALKAAAAAhkGfdEUVLCP/DPyZ6+O73wNPAArkU1M4TDXpqBI6xgBSEvQe3U7qyqzFCQ2i6RU8duK7CM7w4GArFA9YDYaG1tOq39PPHbLKTeQs2wilYlmRDEyjL58/DUE2XkXLQVXzAiW6o1mi20L60kp8sayAIvZJBBBtQMrHMFSjRE2Wi47FqW5fAK2AAAAAUgGfk3RH/xIVvr6FI7VcHMrOqsegPMAIv0hu2KBP2N+6TccVO3QuJsG6t84zVq/3gqTeNSFYvkICABfBLc+n3Bm8abLMQMMYEUDHMKu2ZtwAy4EAAABgAZ+Vakf/EuUEBRwtwIfbj1rFwAcFX70ZgRE/hfeCrZvYdoopr50M0+34L0jakYSNyp01KpWSnfU4QI/BE6hTr/mEUl4TC0JVeFhv/cr2AMrU2PC58+wrX7O+J6J6OAW0AAAAn0GbmkmoQWyZTAhn//6eIT0UcMjMNygA9sjWGkLPO2lZf1N3/9HszpUbIuQj12Z3l3EnmvsoO197j/KHrsbqBXjVLtbBQXnzOZXTpyAAAAMABW3fdtUy4vgn06wTMsOBboajPBSBHWBlIUISqiPeKSmEJodS6Picl/ea0Y4+g2HU4a/2EgrAYok/DhtgwUxRBwj4OPA5P5Lp9wJXQXADFwAAAGlBn7hFFSwj/w3Dw9SzDAF7KR4Hyt0YLbxRd9PatCYyFM4WN/XMuKCbk/k4yHuKM6RYPTJ09K9POj8S6qkyXq5Z4Bu0wxDkBw96BUGIwvKd1p2iCFGe39jbg+sIKs1dCBtxETokyJ/ANSEAAABJAZ/XdEf/Eux2acLQClhi6vwU1N1xt7YIACNPoPL4al7wyGh/rBkqUG4CgccXZiSUeB/iZ4JVr9OlSk3acLkIXzt6WShPj9ICggAAAGgBn9lqR/8TE7CLuTRtAADaW9BCLs0kYPv7pvTWRJqr7qK232rtAeupXXh5nHtMgJROf5SpL1nRLgp0KUOjyqGDkIB8il6JZFqXGN3MQc5+xKDlKg3dd5mfm5YTjHpFUzJBiUPzNQAf4QAAANRBm95JqEFsmUwIZ//+niLdFKWKVA+AFV3HXmVHZF0hYDb6PfOD7ISAQv9UbSd/2WuZi1lfBYcRtkpdPwmDDjMsaPQG+aHKN3GjBA4C5b6oyPgtQ0NaG9sPIv9f0NvPUQLRiItyelxiN1BfmJIPWNxBoDWj5qHrxc8AT+McDAAAAwAR/onvov/d0wTWCX0e1sR1Kk97tqmXymGFG25Q2uxIJ5ziRxklacqeEMkFRUn7GxCJ8hGSQybaHbdD6fhLTqtZNlowd1CUJmCQwJQELWf7dEADFgAAAI9Bn/xFFSwj/w4DN/2kjLNAB/oGTp8I3+leAkb5nkKyNzSgoKEMk89Wg55UaxVgiXgdk3MZHDTiUPMMbY3B5kEBCAG++CIvcg00na2DXk0jlbc2K5Hot1+D3MdnLVnUoX3KpG8bJ94W7aNa3csFntYgyiYYZr9pC8BYDIGZY23O1aFT0Iib6Cblz6CZ4WAccQAAAGYBnht0R/8TBG4089xZSO5hZvWkEMFYXr+s2gCMBRUyF4i+1dsweWw/ej9GUZW1nnMOqvoXBDfZWu8wz35poZzqrTtGFTBNtxqCRNDFg1dADm1fm2sWsLFYTzLzUwvUZBTOBMwADKkAAABsAZ4dakf/EhNNPo0P0urGnXCHWm3NoK1j/OsAA2H74TlWuOSSVVA5MjPPdjBQ5jK+4vjaPj52FIPL4al7LKiChFNS7Mx19bpN+TSLsS2pDll+PPbP36hcr4dB1fvzlDI59qDACu8e3UvnfBXwAAAA8EGaAkmoQWyZTAhn//6eIc7+8NSAAVvZT0QNCDq/0x78zv+C21Hc51Yely8g3rvMQNZas541btXkAGSqV3qgOxlLeHBVCHz1eEZOrhlRfZtZYoKDc8I0bBPfykIxvSpMC8LxfG4hgVYVO/hhZD2BwdFAgIU4QMAAAAMAGdFpmPhGfRgH973bVMxVMM3sK0135YkSZuKjKQ/VnyWzX98ihmEnNCNHbsQPtp2i/6OFkPhcy34t+Q3hDB6q/WGvq3dWfy+dRKsujs7wzRx/m1442mzUUS+dDnXp312PUAniei9/TXUfos5A9qQmS503FUAPSAAAAHxBniBFFSwj/w3R0ieQ0i4oMuEg++KpxsYAiYYvM+ZVgV1ifXBQLxd/HQOjEWZR5G+lHpugBPVrFnCWr3HwX3wh47RCStLesiuiGwhdNKnEeJC+eCyk+PmJDkFPqm0VT9wMloPMOVibHuX2xnXlnCTld8aKcbccuWPY/gIvAAAAXgGeX3RH/xMIUc8SBx5aFV5W/QDAA4CTs6EHmPihjxNqwsGSUHesdJfk6Q6PBYfCcOCUJbFKNqRCW7MOdcCs6IFQEp4DkgQh+Z6zN2CIPgkc03SliNSqbNfcSGtIA3oAAABzAZ5Bakf/EygxNGYlQQxJfVyu15+FdD3PL7FHNAES8d+mrPxLMAqHxfC21RyWFOevz+o+mcidPFAbDAU+w7u+58//Wjp5C6PT0hRcGO2zgkch+ftue8u+DyR/iIXhUB+riaioy+2ZygXiQVIKTsKHsAAK2QAAAK1BmkZJqEFsmUwIX//+jMRi86YwAWq6WZ1qHslu06nzMN2JLxHnDnXA8cb12V/Msdwe+zmI9pho7xsv4UdcvZaTE3DSUaD5TWHvt4BQFOVI112CaZVsL7Wkldu4AAADAPrEUCtZ4rdzPe7aplvoo7mb3zDGwaITUe4mY9awMxEAJBsEzKmFggWB0v5yfALyEtA3KhpwxCG27EoeLkKh7f4XxZpkbHgzQ7bInQBnwAAAAHdBnmRFFSwj/w20mfm5sYu9Jem0Sa4EADVXllZeMw54t59+VDCKKv/1L/WN5stzEf44SL+pufufay4zOgdhI9Ir+VV2pEseXFStfZl6UpsYx2VAy1aHZEA4G4XpqxPWm8kBp7CjG9v7emh/yDF43K0i8pMasICkgQAAAG4BnoN0R/8RVL2Q2fovoWhmfb44C6ADap36as9fbQclhS1az9MDB42+Wa9ipU9X8qmWCgTTvwKfA8fDl9ENm7M440g4CD9DnAueVzGqgJiK5aYCVhVkb/ZufblwD79bhe73GM0Sodo9JcrXE8AhYQAAAFYBnoVqR/8TGpRFAK3a2F7pZ9GR0odSw76j+xn3uAAOOl//TUQrWDHsbWX/JFVa8AGW99mm2udTYRgMhbs/JTPVglI4lPsYOcOz799h/IeSAz6JwIAu4QAAAMVBmopJqEFsmUwIX//+jMX52umK1wAM72i813j7QvxCmJwvrjq23rbj9tb3/VEcunZMu2HyXBXLX8XilWX4YgpJH5BfLJGxx/tvdlkzJOvsOV31jgESBcUb8jsn6IvNoz2ImPhmNODu70tv/hWC8PI0MHnWdzgR+xpkTm24AAAcCerLgDPQ/p5+X4QB2znRLnZoJ0zn5PfdtUy3ERM1PEFt4c3Hd4igqdcJLorOffFV3lT+4jVkbAbi8a7ANssQBN7H4AD0gQAAAGxBnqhFFSwj/w2z8Vq/+hl+4DJmW+6HJ8n9y2oARnbGEza10qUfJTnxXm55qD0PVpYFBuIoSYz3nlnFu2tqV8rxdpcQFG9qbqQ/iTfdSJz5Lf4jDefw1iDg5c7dKoFeLpbrmkHBtl4s6RQADPgAAABMAZ7HdEf/EwhSPVUAYVgAe4IrLxdDaP3wBQazxcheHSnkB3s/Wpwb6eZzWkQX+63/raWyEqIMtykOfDk70GVY8sTj9wZMCTNp+VApIAAAAFIBnslqR/8TGpSr8w6gANzMGurwKGEb+BxwX2xnnuJET81jm8soDd7UVfgek0pcuzY13SyRgX8tZ68vxtDOcQpnxMxZrPLXFizvp9sjjFBcAF3BAAAAyUGazUmoQWyZTAhf//6MxlVB6cX4scAInnhhsi/5H5MBADyKFjcuDgWxVnt6nc2j1VOX6DgigqUpPvRHdCiWDeQoCtBVsuhesd+OR6N4IFJR/wxGmA8qPNzD/5TBchEIxMRY7xMkaIAAIsF9DEMEASldeXKG47Cd21vIvpNX/amiIGR6lxxHQPfdrUrJiFlx6J298EXnSlohXw1KNwE/J04Rrq60kbpIb195ShMOyX5/Kybx+gmlkA19TE0Caj2ILw6Np9jQotABLwAAAGFBnutFFSwj/w2z/TFOIiCp6Jt3vbW6ADYqHHIM8lb2W0cpryLXfxDtmRQqlMZphUoWiMqyqNy5R305FZPuoeGqFy9MSx0KvOmwjfaFZvLb+XxHSmXGQuyK/ctnUESByAqYAAAARwGfDGpH/xMaKfct7iR0h4AAnCtDX+HekPQaYn+5KDzxYJcnoD42eMNaIp7UqYsiD3lSpzvt4UOppTJf5J40pvDKyN323AP9AAAA5kGbEEmoQWyZTAhn//6eIXAUjwMqKJk/9sAE8b09aU4Ig0W4H0uG+cc+mUTTApzRO3PGeam3OI3ygzZMrtrHBYrsqqM0S/3wifhmU5Ke465v+8k7iZkxdwjf2Ti4kNDstAAAAwCqXJ7SEC6b14chpRX8M5O8VJbE6f5EEKzK/fdrUsDxUGULuyXiu438RD6cP/+axRQA5NxpgE51AhucEYTHx0ewr421RQurqe4X2gH/xYvu2TZKm08NmaEIjKQzzWDabhtj8vIiaG1gC0N+cMWXjH9fXgOlGQnGdP6+v4HWp1qOgAz5AAAAYUGfLkUVLCP/DfTANBLCw7uLK0hOg55WSwyRuAcJl1LkViI7OZI2AC6fvsC2WWtNx9kYt4qa2OU71NUI9PxhLj/9E9dOM+JgX1gedZBUnOqsF0e9UZzmY3a2//z6kQhBBqUAAAB0AZ9Pakf/Exop1lFu/hos7uNPqXLFH9bXc5QAbmaAptOvtSbFCjK9fRXx0Rb72JFXgbrr+F1viI1TmcFDj/cvD8SzZJeXYsJIvudzP0kEDEc0z+RWaGfHHrcoGIDNiaTOfG7azQuNHMr710EX1nXxGRn9Ab0AAAFAQZtUSahBbJlMCGf//p4hSfN/It7BdgAm70Fn/LqRmHCtXXryUOaRbOEkk9zi9czc2fjy1nEtc4j/+6gzyxTrjzt/dyB11KcQv8nE60PUIB1w0gmt7HrLi6VD/RyArz1d2oLYqxicFfNNieCMGLxdlznLhJ4tFAAAAwKjubiaGMWeJvIjizpRY9TjZ7fAHbn/GNKPUAeHZ+K3l1bOdq8funeDo4QtBc4MfSv0/Yy45kaUC7nZYzqXcRt9KEO+sP6iZgpMXH75d9qbTsjsOjlve7apojL0yGTBatov9TEBAmFSynTJF6e//G3Y5+55Gm0djdF1gzrczy5DEudBGT5q3ZeI8fD9Y+on77QD6sQKDaYD0E9rUJfFRxxpSK1ZzTquhU1f11KRpADraEl/nP6vHmDCDleY9aLuLB8/gAqAD/AAAAB7QZ9yRRUsI/8NMQZA4B41Q0/vu1cmknMtnkR282e0oSChn6P5PqSN6qS6m+tZt6AIkHFXCaGMSK1mdnzkcZLCk+DpGk3Jboyt4EYhcvE4U7N8JgQHLjo7fWDrSHZ3FBbjdwFAO/RPiqiN1EuWT8q27Qwt1vcnKvWZUBFxAAAAbgGfkXRH/xMEQll23WPfBKmoVivRSkF/26svyLF+BgAsgCxeomqaoLxaVuN02hn3SEgOmox2nBKjrlU0jpXUS73NZort4GeHxy1DJpqYPY/xcgQKohDd0KGPZQ7AwOAOP4n7TsFdZ+plXM+YDMLKAAAAfQGfk2pH/xMoQH3lygBYCi599I7RKcLIdYtXH06wsyDe16rMGVAadCR4zagV2wLOmpC4CKYv7mdlSxpi5VxFwALcGgwQLx7GRCS+qs9F21oNeDsZV9Aq0IsN0iOHNiOGbdqn4BV1jT6Japn9PNBRIDXN8cBwKgwSkT7JADWgAAABBEGbmEmoQWyZTAhf//6MxkgbZn/yYAVlv5ZPE+8IrQnZL41ArcXlNUcLF1yvAi5qMFl+zob/ZrbqLstmwjNLvkFYxGlljSkrUIT/rGaJb4cWGKHKv+Wh9Ak+wf5Odh8umFW2q4pCHD4aeAqgNonWHyjWJ9ENs3Y6z628BwtgZCLW3n3NI0dipZa9Y4XsmLQiNFRnoh6zsXvipA1/q70P5fmG459SxvR4qb9Hrh8RFg8Nr4j0TCiV60LZgcySB3K6ILCC3wH+GszSPF/nakA/+7oSrWKX/TpOVz5dF0GtImYP+zdKWN+5fBrQGZCIeNBEPmT1i3px7rjd13dKyUaZSg0uc0GBAAAAqUGftkUVLCP/D6/zGAG5o/DaFAhH2tOnPIJzOk4O39DqbyZs8B6anxg9sUgtkf6eS1IDRfwW7ZxGUI+/+gguikx6xPXuAh/8gRCEKQLyY2XhGBhSfyctBHaaC07GgRZCL4EUYx9pSqKskwnuXp635lJzV1Zaj+kihT5ABMzOS3XJHw/fJV9kiDJl9sV636I7mwoK7cnovoCaymHbUYOj7qFf0dbgz1JAj4AAAAB/AZ/VdEf/FSMqJ/3wADXMY+8nCEIbHyfG86TB908pUsuJyEmUDvNaCVCSyh5vCvEU6UiZ+LVNGyddc6S4mUuCVmoNKMsomSMlBpj5UtDRBUQzjM4wQ8ZR9yD6sFwUrJsnzHi/Jof5Eidkpa2+UERvA12QzreOhEvF2FVcAqB3QQAAAHkBn9dqR/8U/X3XKUIxCciYwPsL3U8MIzOsKllADXlvBYfCcOCUh4IKGoYUmULCoKncM2SU1Fgf33TKBXxNy6qACzUhYnJrMmh1TVbV2LdkkBH24/M7ZExki+7RlZYnhakwAMXLIujg5qXJjD+Ho6dYS1Zs4gNs5oHdAAABNUGb3EmoQWyZTAhf//6MxqZfwN/WBNr88AFxV7o4RDEoH3ccORriQ/UsoL/mvnRvvNHRjMx0vFYr+AAAERhbR9f6UE2KBlN2zrDRxx20p9SYLk7BL9bcONqRTDnvhEE6KhjvhpmLnZrfQUJy69j4Tp05zKLd7WpWfM8G9RjIEwjEGImD06LozJk+OlOWdyI0yb6YHkVAQtBnXPttqCszNumT8GHS81qQofVGLJzZEt8eRIyH8HQ9NIc1UegGu5W617QQtYB2p6BY4giw4Jvc6XKHN+UKNDefu4niYmsrUletSK51kS+4HnZOEe9J6HNC4oqIbtdX6yGV7OJiWsC5NxYSVOq/zu5uqBoS2ou6jpEkqn53/ETMbbhfyhHQ7nKHwhohFzNr5GkCfYoXHmRq8yS/eAAq4AAAAJtBn/pFFSwj/w38LlsglXCVQwSUjVaIAAlIDLgIxPxG/TLBPOoPgdA7CDbY1BrNmsyx551Tn48pyLvtpu7zdPxSNCWXJ6znubGi0SrNywKk6hKoLfery85HbNuOJ1yvnXu/kEFXrDRj7/UU3l+Bdc46TtTixHbDjD8awfe56UXit2YVEkQHwRQErHT/kVDwUlEBJwJ/SYa52ABNwQAAAHwBnhl0R/8TNtCjJFMsqXukUgATi9VXB63LyzuIDgPd+QRUtLomgyTWFE6yx4ZK4/Axixik2Z8N3kk5rPDLZ16CzYrF2n0O5Dgd+QIN0l1RNfG54WK+tJJOx37EOsf/pw2OWIB+ABhOzBwUB7paiYRq9jC39snfWVo00Aj4AAAAdQGeG2pH/xMq4wJtkhkTvl44ARVYkuoigq271skjuo5KUb4cbFSV0kxF6Nb6aCWtuhAVVdj9ACRwdiIe+OmGRqEd3BzrO+aMnNFKyTA53VEUFujKh1LMpP/P25JASLkv9u5wAi02MqVCn5nHHSVtx21sgsAtoQAAAUlBmh9JqEFsmUwIX//+jL9bT4HwlRSnrhMGk8zLs4s8BsLVymMpXDA7ulKBV9IXCFJIi+zmQE5+1IrVZtcW0iojayFGyns0+gdCpM5wWlI0QllJhnuGFDXqAAADAAhyPel8MyQcXN6Xa2J3pkcxJsiZ255smsOTr6G8LQmSmXBgZmJ8u+7apnSuF3KwrzyihUtmotc09a6m8pJCoaOmo58dajvlAVq+/6xLxgqbE5HjlGb5aAP6zyxu/d9ONFJcMmf3CfBVdUTROIzF2wxtLJyjoiVPbFWKUz3tMCUzXGKe+EDS7voj1CT4IsDT8Ffu70hLkEjgFsGiNNzEtwaysmI9JydYMIIhcteBHppU2OsSTUotqjnVLkSisaw3WJV3cucM67IOnSfXneszJya+JY0k2DcpYX8IEBePf4fG3yaVkYm7Uh8i+AAHHQAAAKVBnj1FFSwj/wyYu0deOfeY/9gMmpABLG0shJPOxjKxgJG+lIAZcAno720XNu/upB2AxGB3yYX4IsW1fp0TlRKaeyaKIkrBH/mN4Tz86tk7hNGdBHaWuAW70IgfTFK/AZTQRmEeqYaqyqoHJkZ57j/YWZQf7GVIBFGyayP6/OeWqAOTzFkZ7SOTTr1IAIMnlMyRQo/fmI4G0fytrG2kq+Tze/tAwIAAAACUAZ5eakf/EZ1HSFypqRwcKp8XPNf7TnK546fHaIAVvrlfnY3/Qlwcpj3t6iM/NpH0IacjBeLG6+y9LksmKchIAGi5JQ9tDLnUD8TVqPJE0tI6NPmdsJntUeyOgIBzQC3nRsoS6nAZ2jq8EVpyEJxv2i7ZFw7l03SY916LK05QH6EReSUS62J33VcOUng6oyZhCdACmgAAAURBmkJJqEFsmUwIX//+jL9gn9Xx5+GVZdQRZa4hewYgDoO1EbnlKUBIN6cJfmgvejDrN0oNPue2medhbUtkL/6Vc79xAj5t5D819MYjskG8A2QUyxM8yNWzeGb3edSzONKs6QznD/iRy7dw2izSr4VyaPEh6HlkmKYx7i1e93P2m+gHierJddRyaG2OyjQ4G8kaNowMDP60hlMRyIr13s9S0CfQmNu0qNxh8Usdi9sxPwxPLZRxwrZ8yrYEi1HCI+bNvscYruO6asIo8dA44iHpGffC2Vj/xVLvm5XV0JiMfH5ZWKCv8tZ0yeiRpJXsqIvIMhGmHrlobU21GvkWxmt658w/I1nNZDGivkVyplwqEm0gBWpzRqo10NLcViMzvM6nNs4Sr7h41zfgZi21Oe7QVZI1PxpBzj1u6TIF+0LxrlfwdMEAAADBQZ5gRRUsI/8MAv+8/5H+AFfLHKwnjzxWed1OMrFj3FGdIXFU9IX1Yzsz5HGuIiRgEZI1PL64fpYzjWcRLDuoNU/aEWCQ+/DZLyiuF2LtNSigCD9NQzeoN7UyadOujTzXj1FKoez7up2kmiRv91ra1YPlnb7AI/oguAdNyHnTyYQefQ2uez3jZOGjnYrRiAW+NthzRzU899tpFXsOLz8Pn9IS3PIQv8XQf85r5qBGWjN9AEF6FnivBGZhTwEyS4AZ8AAAAHEBnoFqR/8RiNXXMLH6HPzsEoCifb0sDoKO3tth7fDeG6p6wD8gClO8ny2a+tovrfu9HFbyCW8ucUbZAHk5CYGgHIM+28SpgZhNQR7FL+MQUC2OciEb9EfhPlsbd2bBYde5ko0IjwTIWu2Xw4V94SoCLwAAAQxBmoRJqEFsmUwUTC///oywCL6b0UAe3Mqe5NX4lKeBiq0y0ozfLww4ij1wYD4AfH4AMcJ2Y/IhGvGN96FDAkwlGItf1Nbs7Z0DBRwMJpizlAkHjYMt3nMeM7j/Uffras03Cusr3MdLtuuJIRGkB8UA/JLTxxMDn50Kcnguxe8rqMXvdcSGbGNCI9veC8ThAYDO+ZhHMDCwFuWRvI4VSbqkJuKvLYNYmx0ClWDPWC8CStJTVdWhfJCjBMnWheUTKpxnmBJxa0Ciz+xc4pBFDci6QVcRE/zN7rpjcwlKbwDdT5jJPMHpyV/KWFiqSYrbX0ZC87wVaPi/clOkK28EoAOwae0Yn3ITn5AUK0PmAAAAXgGeo2pH/wPf4J3xBrnuS3HQ3fFVW7Gl3Xy14adrlN9ebcmc0AK3Vi17QfY5hXHY1Z6p9nYXnkd35K10XLB68J808CTvHB5E4IZXCOr2l83IG7pGShQpCm8fHeLcIGEAAAE2QZqoSeEKUmUwIX/+jLAIRpvTXfUApN5SgXg0jhEx0AF1HpxvPV76N0h724LQf+SQZvkfLsXA0p0tBLrX0fWVLmqyboo3Ba1B/fTwze9Up7j4vKbiXjA1TcNEq8udB6Wk10rO34XK1fkiy82Maz9yV4XWh2jv+tAL3lOkKiL4Nfi7sdYM2qDhqIDu5TRrqw/2I6u+rF4XCUBtzRKbfgTMgCbSwllPaSVaPlsYaAMFotT+pzGJLg5WQ04Lv4JPhXuXNIM3eZ9Ww/WgLxiNNy0YLVSH57FseSmiTqnFDyaPJDHHQ2O0evVlkpGSRnaLHAYfhm6oYVSS0PT6RTEbQ4QOnH6TA1vmxdkoJ7ZMwnaVx/QaXQQ3mktomnSBPTtA8lDywjSuIVWga9XwLU/1IzwlKyleCyWh8wAAALhBnsZFNEwj/wI6uL6WTuD89fEv6Q6rRiOi54MjT1eF9ADKxLTIxI8s8PWWo/PRlM39LLULXcwRwfaDcJFVNWAqsiC3mkrXlZfwJrIYCp9ofr5ngdGja0W2L4rii2qbr5JqfC8HocinYf1KKWNOjMgrjM6OX+uBSNQ1QVlQEz4Zy+EEkvnceATpc01BXlmdiQJaDKw2HUO1JCasQQoEEfQwBkWEtSg3bTmZci1Kbgs4fO38NwTX+QFJAAAAogGe5XRH/wOHCMKPC49XDS01aa0+VMflshaVT+QdmMSxEIMRcYAEq/jlYX4GSeTsz6J5+DCmFOMpFK8KcTyLzDN20d+jrkWatoS3eg1SoVrbnLgUhnDluZ47IEGoCwW5oQysdbdQB+bld/8WxYTirqZdsXs6ZBYtbux7RZkPDekWOEBZpHqOHHZugPE5p9CUac/wVQAXxobRvKTcin3ECXBiwQAAAKoBnudqR/8DhZvf4NsCxx8uO+HsaO+fLWkAAOXx+0i1BBpgszxox8dgRZQO9Vv1Z+j4ll/u82Bg35xxnZssQFP1jGJeAo4K81j2bNjlRAm/fCUkuM77PfkVH5FbQqk0aYO4y/xGbCztePpImiSifnNsXcPMDL471wKT2ope7viuGz25vQ1Go5Nc6SqP869dXxv48U3MjPuPUBrPHGFlleWGR+POPESIC2AQcAAAAS9BmutJqEFomUwIX//+jLACucXSnuKvRUN0exADPkMekZd3MiwJVpU2x5UebNp77y2G3y60orMv7xxj8pmyoQ71W48iLa8nza+kXcCp90j8JwzIH0rKzj9P9tYqyGkmwbg1LVQzfM/27c7kPzDSwfW7cHlnyvkjmizRVLYy2dQls++rYDsIohtwbci8wyfxo/Y7RVwCtDcxHJyg9MmFURCKTVmYgzLzPiiMF1aPvAMSSYsO6BqPTeyPO6fEXoyjI3Ao41rrn2D0QlFhF6CSY+dXf/Z5h7+p+IaEipgk1kMR77bRK2Eora/zCNbgI82RxrKCaVxw7tIOTnaQJJ7L6ktUsn+v8t+w+m/o0nURXVS1aHLdHjX912YND/n+7PF6Im88o9F2OGo8reaF3dIBhiwAAAChQZ8JRREsI/8A3GiVcaXBcBql9yfJ736pW8LMgCJGcM9iGArcLLGw4KAw6vH3U/gtTwO7x+F68V9vP7+F1VCX+IDyH8esEHyodznuq52ZeE3/3NtYpZSsJf8qoyzASfdksZVtcQTnXNbMQ1gGo0hSAsmhv+Dv6TYAKbBuI2vQwD+Uj+SRBBpYmRIW9FsjU535IMPsmFBTVGY0MR9mtIcA9IEAAADJAZ8qakf/AWF5OuPafUR8MPbXX6LLsKiC6lJYAC10iMyHK162CAOsdaK5NoqwamgmWhJJ0x423aK1dzXoJ5mx9DssDnEyTBGwmDZ5WfGd7HxoWS4Dh9OD/bH0qfpfAGx/q73r4MJvCBqyOt4SQBojzUs+YRUeOJBIzJUtdpTAZ9A4AbXLWGEt8beHjY7STejbfvUkBkMk79E6G+/a5TqAK82648qdOPSA5ncMZ7fbe/FxYlmtD+nekDPZqvykL6lzRMaDd5YmiAGBAAABQkGbL0moQWyZTAhf//6MsAK7zKmI6GPv2AAH7hQTtYPN4BctRO0okTqCjcsoUfBfW5hPipRzroUzZtfgRCVFjCDusj1m72eWUDebJju9v08hJ5Ap3lGxrPIA2ERh/fqyWetXvr5qV8VCGVdGM936oj/I74U9RObxR3KH8K+hGyTVzsAQbDWOe1nqqQ57zHGH2ttZT3Eg7Z+mO0YaYfFerloBhs0Ni56hqYdbFNIqQetN3vhVb2veeeZRxslQSW1sbzOlr3UiA/ZPWMoa47xSrNcfCeJksM+NYSV2HAqB8hqxZUlBD+q7xoHmsXQYN3/sgGhEtsFUtp8Gi+MqxrwgoiF0xlHMIQ8OyzOh0vUWfEqyhH4iX83bdgjlS0nh9rT0oFZRLWdJOXQOyb2BTKwmfs4Hnki0gxPi79a73sXvoBfiMTcAAADIQZ9NRRUsI/8A3RspEX3jaouOKzmtfen08BHtStfg1Y7SMHQq+lHjTvk6bCMUwiat1hn5bPFY4dZ2LI4mCxoXYbiAiFQKWT2klZY3e5vMvcB7c/OksbEo5tm//uy0a9hHwws04diP+qn5j0P+WtzyATZC7HZMjl+mDUnQMtf9K6PmA5K5lJOETWAyWv6yUwcYkz60VdTz93MpENYyqlHcEIfMAN9LV7s8Bddb3w4tUMPudpEjMjWYxEL6t+AKXMhABXNEXgQQDFkAAACwAZ9sdEf/AWIBjkDBu0JD9jTop+y6U0CWDoOzeK8yoAJ17iTsV09Pe9o/bZu0PqAgqrJKJPx99fiufVmw6VCOWIMs3piWL5wR4LpG8i01pPxzDFgg8gDdebu5AfYZeYStDcQu7wP0/IJglG03PC1k7Iw8My6UcCM8NmC0ylkLIlbQeguqA3nlXDNpLYfjOBfsk8Ixk/WyRIrHuFC43RIj787tqpocyJRnmzP34uwAg4EAAADBAZ9uakf/AWJNU7AABa3Ib1cK9qRg+/um9EvHyhMVgKgcHUpj0s0fm//SWC0Zw2C5yr7jSRClsHW5NM5I/N+5mwJ86Tv2ikTn4hpAfhXMSx0a5xRjdXF6Di28hVsL7Xq7gnATuKvqazydzOSVO0oohVkjO4cRJAfYIZLU4x3NxiOBds6ZZsVqGGrlTxIHG6AJBr7c9m2GkZ+Z9BRCASd0IOrK9AMrWptnJwjv5uSdgY69JssvpQCraCysiwoaZGkCkwAAAS1Bm3NJqEFsmUwIX//+jLTOzFwAXPQQi34fNGJZawCMW6bk7NDztDHqxM8Lhx98KsuTMRDsTTSIPUrNRN1qSsDrvqSwWPLdKJtSRU70ZQIKmYDj2M9sDSwsjYlegIwR93y6R0Xm/e0guMOtFVZ+SCaJoUwrm++JyhSHeGWU9RDqdTt2Q6sd3nnbhgHskHNFqG/FwgbkUMqg0INqjNGZ0BKaa93KFLC+GqkHmRFF1iNblrXjFpPcJmm7N21DfT/bPyoVqpxaqJAZNvaJsIltZXDCrlTk6BLWId/GIMJez5Bm3XKH490UzmhvI8AIK//52TA/Y9jod8iENAUjDwrKLI1cJtWv/mi+QaH7yRx1g0MfScTMRZgqo9QBnWCYJa9GhCBwOBVqIa6grDzx+GBAAAAA5EGfkUUVLCP/CbSUlFvVAETGxKOKjVCFpS06qZZ8Cvh+BcnZb4baxSeZBE5zlx9v0TrnCY+JaPsndEjqWn+yvTUKKK4xi1C5mF/Ao2cNtPk3ZSa7W6fx0qOJnYL0oSHYF0F7xvobYOXfxB3KLFv2Ky67ZzU/n306nbcO+HCJJ4qp6J1HWQgOB2laO4SNY7DpAqF4LAveVeDjl/lrmvn7hCcuzaCsIOW+HYeYBzrZSmc7S6P8N/4VMUTkoKpw4VaOt8WuM2nlhjul284BCdd37pqDQM35BHe1dsyqKtWTXlLv9gOBJwAAALwBn7B0R/8DcaUqgBGNUY8l8fetp5GOw1uxrwuRt72VxeZB01+Y/d6xDuGa/SLTON4c5s48msXGK9kbpmwHBr3wDx3pDL5NFtkXRbw6IR4zsz3mQX/gEIRt0RjCVMHiHfASF75KdvPB02Yf30Vd/fN8JrQKWB3dJmIuMKRiLDEAlaph9akkK5DOperUdpBCrWtHIYt4e0/1IBfksNAydftUU+kAp2rQoUT/oT5aioUd2ldRXhg2/g6IhZKB3QAAAMEBn7JqR/8O70/AHMJb1sMf0rFS4xv7xn4IStM9C/B7qEjR2sIIn8m4L7efbNEhasoRSuTC9yBgJb4NPJFfHqtlfrsXMYL3Ij0Lt4GoetB2MWhEnOho569gvsoMcjjnH+/5lRsGdoJE+T1wvboglF4WkIKuRsN7zqDh4s+Cr3JtvHDNfNVcWh3frSJz0ARJkKdAfrH8hPPJzUXpP7ioDY+qTk91tDOCjzk+uNjFwOjcNZ5DaNdUaz/OQZdDO6JfLwyoAAABP0GbtkmoQWyZTAhX//44TPTGIleT9BGAEhGbmQRcYxgOTqe+EXPtZ5H0HtkzYRv6VcNCIDulCNhgoVwAhn5YW/oRanHxRAP29Z2XoN6kC/w2+gsVc8w2rgJNoQFhAMLIrBRklRABkT1tK1CsLgxcftiH15cnYILOa9xgHa9+5m4Rke6v6Y/l3GKcBashn5BUWDwC7YXfoBWzTQmh8MoEzxG1UvUT7DoX587Oakem32sPjKdeqwvuIFKNNP0sENfSn3kN6jWrLOwVQG9a++g9Nx0e1QBalu6Y0Fpb2AjHkAi+IvYsViK5ssHHFX6sw8ZycaW3Dalgj5NEAqg1y3bN8OeU+yqcZhnEx3530K6H/rIzFK5JE9M4rQ3g9y1XLCbajsZ+ChQxXYLfWWboSHILkA7MTMWzYnTmHxAKSabEDxgAAADFQZ/URRUsI/8JrHMtHYzsowAbrvFo6w4CMGKVIzOr6zQFR4KXImemA1rAMGad1ZoJYskduWuQ57bq56h6TKVZotUwNj8BwdiD+cvM9b/GzBV6GgWPWuI4YPKcxPFoKMnUjWAONbX0Ytj6TgqUdJoDwt4yH9/XmmLMImTB+fNjah3Iv+tPPkDnqOkksq3tN4bG94KLTncU15bsFGryPwo13AsnqjuQOB7GpbmLB8+GoIKFaPs6vn6SPH+QX54M4ZoCHopIEvEAAAC0AZ/1akf/A3El+RH0qoAmvQrzZQYjAD8sC129a78KLV2b4fIpNYTLoljaw7nNGLgNehBt+QBTGlpcqH3VKz3Sy2IvuvN/N24FkgK1haBYH3DEx/n/K87um00N04gRUIYDFBXlPGZUDXy3Kzx4VMpBl/7jz69DQI+tfWa+NiAZ875V8nRLOdh7DRkWanBzixucQaH0H5xitIvZ8fq8NZPP3iM0qpAE/uJaqEuyOHiyycVBgAd0AAABI0Gb+EmoQWyZTBRMK//+OFKE3SwxUvbVKkYURRvAKUAAAEh2tpPq77taMwGQ58hADgqytIOB0/E19/OI0agfUUrOlwd9cQn/+bX07GKCF/m2dXrShRj6LeRSsKckrdbFVJ+AfMR3wkmjq7l6gofEYRZQOdsh8fwT6WbxFRDKVaHM5zFkw/TB4Iy8p+YTqG9dN5H50GjjOKGkBw+qrphR+CRZWNp0SNH+OVx0Gu/SOOYN18q1SFnDfX7AoEGV7m2pmtgxOlR6ZvtpO0vskkoIsQ7yKv5iEN6HijhYqdN11izbSB2VA17ETcd+dfqTyYhSMdQ5vUOZvm+G5+U14wpiV9+lEmHXs519YVNkMfPFF54xFqNs1BP+3+sv88WHHr6FFgADqwAAALgBnhdqR/8OxODmAauEdnLtjUYexlNYf6G/mPJdzNda6haKmcWtUCmNKpGUL+SanKKl/S7mom9WBhsRklxMC3JasQlbf5rKC91sjw3+HNQM4HuTDlOHyhTNVKtwunLYXiGgPOVDCqDrZaP+3SOlIhgo13fXQ/bZKha19k8Na8jRXVh132wgaoAsBLGesgpiFdBP9B6E5/dfBB+RlQNLNZoqyYBMikjZB2XUnZFlIz7yK4TbmyWHQAGzAAABDkGaGknhClJlMFLCv/44UWZQrhQh+pkQAXUReHnNoeUD14wqsP/1JIYI/pmm+uY1REYndZj8JI/p6OSsNzP0b0bOhXz5J6HkkURF0uJO7fxT1Knm05X0CB2/Gdi+YIAwstUr9thxo1JkTLOWQQZgTdAHZV1TuusYfGMzmwzSg7sxUipMSZWHYO7Xut29zRwVeK0qvxlUanc7EsP8zQDPqXh6RzD7W85je6cx1qC/xKQU/FT1kry/BcNLUgSkAfSWM98u7Zup/3HFKeW804U/N5Kab/6IUQ8SbuAG1zx8DWJj8h1Eroln7jCg8WXib6v4hBrK7xZ/kYdz7qK2J9vVvDgwS7g++BKyGUFq2oQrYAAAAM4BnjlqR/8OtQXT9SpGfkRgA23h2122eef6Ev8QHkPx20ADvCfx8CVb1fivLbV+7Aj/ezLz5hEMYlFft4r+gFuWMFgtx97bqFMv1Qdwa3x/SHkoDydRT3UeJqqVSwxFNW124ty3mnEXaLmTPaG6/LGnBascYcwnncL63Zzgwqaf+Sb8eoAOm29L7x3F71J9+X4kSuhuE/aCg/pMnCiUIqnDX9htcg6yzExsiiBMEsku+RtEITLiqGHpqBKps1ExiAl0wcwBKf0liFID3gAd0QAAANNBmjxJ4Q6JlMFEwr/+OEAdvqRcsk3hgxwUAC6iRgd38d7OILr5CDvx7YU72rotEeyiOxNMcH6hTZNL01RdyF1RipVPzWg8TClgPRss4vVrnAcHw3FlwRbfA18knNL3GkjE8LsyDfEDKshOlj7Db3mmwHD/vPGjlrw3zP/ARN+itYNXTH/bN9lV+zYqctago/arzyl1m5ci0pcHrguf3oQ7HzGoQ9oXY/43qIhqKjHu+Q3lBbShR0eplxFt1Vnx931LiXJ+UebN7zpDMjp7XaUrNHHAAAAAxQGeW2pH/w41FsKcbxnAEfE+ncEKAhEcHUjWlB/PSNwJ9z9XArWakjzjKdhd9seUc+cUFVLj4StlVdN1iZOYdt5LrsFBjqzac/DKSLssL51h9e3/18W9QjpzhJtM6ke7XKYlRIl2j9+dNgb7swbnE7ABLsbNeFfKAGK9o0YdnJi7bQku96h9fhPP77OowS/BylsJs7LIHCKeF7Nobq8U06OBDj0gOumefuiEzJnwT1i3uUjJsUagAYy9Q0DsuW32HGHq4JeBAAABG0GaXUnhDyZTAhf//oywB8dL/AAmB3ilsRheCOJ6j3RN/K+IdrJ2rI1q6PmDBLVO9CvIDgo4/ss1M/4bZUdatk9nc8q6VTjN4T8lSztHq0y5YG4gKCuJP4F698BDxfZKbZ6agwy+81H/2f+uzth+1f5ERS4TtOgcNJDvTD59kklp8AEN19FLTi/s3606ntID7R6eYWy0j3sOj1d+VEcjmj07D3p8J2aa88fn7yRdUvORF5LRrUEf2PZnb5dYYaxWkKrhVVVFYICX5WL88BDlhRT0erHyLJ8OC3/oPccRjOBKibGeXJcj4CxdvM8WY/O5UFveg0qASOib8tWioRUuBl0vAbYAcZD9R+AoBTr7gCPawllwno5j/M0Ym4EAAAEiQZphSeEPJlMCFf/+OEAdvqRcp8wAAEKO8kOsVU2l+/9ZlUrHrdTAhgAv60VcGaqcc1TLITnuJPWXp12D2SSlN05xkQXRf+R7U/tVQA46qvswGxJWHImccy7tqHfxJ6TN+py8i9KoRof0Z7+C5CFX/VOQdTDpMpX5tE3+HbzfN7j0twaDpYJrwqyaL+IXzCc/d466S2NadqSRuns7ZVoH7F0npPO5d9OtIyIO3e+lQFOnJybXYwR7Rs5bjkxggk7WlBSQMo+GBnqNDwHNMpRZcl0C+EcYXTLeQVumUZxXR6GA7x9tgpNE+Gj2HSEf2ZITeEzV7nk1zgZFEFIlJCjkBLsdTdHFElnGbug4HG4jtJ8C8beEi/xF4zl5n6fk5n8dMoYAAAC3QZ6fRRE8I/8CKwMuySoAhGQlmAj2ma07LdAQXIgM9Tk7nintepw3oTPy7YGstg4O5JGPp/2fOob0TupBveI7ax+Rymmx8FpasTeowqkTMOadF0WeBi5sBW+EtEwlxb4P4C1vGTDjIXFe0YRJPYghVXI/YIvEwuBFGwyHuixVgLPIQrF24GN7lU508PrMuWUml12xuDpB7UJB8uWGNOs6eB4OoqiCZlofEcKRv2o0V6gvbtUQgAf4AAAA1AGevnRH/xBOjoAdANukaLF2n6I2aD9rJiGh8uuBq/N8UlvBYfCcMzubaEo+6ber65bTUormb8wAtTaL6DNybaD8QCZ7N8NnI741/ScAujAIXX4+kKn0FiXD/gRg8iHFn+UytLtOf+EWuATD6LLHKW1st4mgeUq20sg9g1QJm3h6TzZyjTAaxpuL2HVRlKmZvLYW5iu6e3gI+d20X6/7sajbsYpx7EoJQQ6Q9bTvImyXxVChtfx32vDUgAuEk6z7C8zLnfIv5T/EMHTdk/yOUB5IGYWVAAAAtwGeoGpH/wOFkqP8g2ZYcnYpH4/4ArGx5YRmotW5k2jvrv7pCyJuZyY3rYqiGBieY8w4TlsZd4nlqiuOVVqytOSHPq+k/7z6nRfRwfojzmRNjO4n6zNHNThfT9F0CKy2K3eZlc6u8Dcdbq8EC+jf9MMKtM49BgucTWLKKmROQoIjf0Cy9I3Mdta3sT4SYWkdnS0znDdVWJIyC/nAPRBFgaOSEwUU+BDAdJbvWShea1DB9S4yQXsI+AAAAN1BmqJJqEFomUwIV//+OEAKMBr7jWzkjJUvgDKWDtj2jSQ/FTve0lZsfABY0oKF0Ns12EAOBut+ZG6I7PHIWsOyk8K0R6zesYY84FjLlHp5loc9HYhEzvgTNaOSsr3yEuJS2YoZ1qRKl133D+e/8TUmfF6Wi1L+Kt7lXbAvq5DARDqSybys8Zroc2zlRtUb0aIQq1/M/6Gz9wnfbfvxNnKkfJiksqz6arWlbLhvsu/0ZVFwEuh9ykadG0Zg6V7AYPv6Oo/QRTJ7R5/MvOvBLdOA65PaxsfiL77g5fIoYQAAALtBmsNJ4QpSZTAhX/44QAAWPk+y8fCp3/VI1lCuRQqGG6k9H2AEqy9m/9drqLrH4wdh8lZgrO/7qIUqW9IoucVhDunZ7mGQxUYqTlx8Sf+V31MkF/8ske7qMBoCnVLtD7lJ7thjup6G19dXaE1rBrRQ9GvRInzgCttNh17cfqF7bkMbpWBJSElv72bLroKzuYEbpnxWxz0Y0HYaKyy3p7amOSbNJBfmMBFA0X3bXdg2HJ9Cb98VUHS7rQ+YAAAAskGa5EnhDomUwIV//jhAAAgvVssnvqGkCLYoSRoAG80lxJXDcssTl1WDTXh+nb6cDzoXl945akuSdHv1PQODde2CA2i+5mAJFSSUwmGNNGayrixM5tUVueknWJdN3qmdzNTbJzzVBdhCAJLMnn2mNfU2jXx7Hx5YE4drdrj7/uwynAQBJhR9VuLulIP9nchNzu4g2a1mikHPF5qgC7syxgRZ3XJX6E/mpaMxLL15U8RNh80AAACaQZsFSeEPJlMCFf/+OEAD5epF3VYTogw9jMJzz7GlHK53uFD0nYCTgs/jdLwHd4lrySUCYpy9Wm+fyfN1/Z799pGM+7g2NrRhxLvtun3OwIoffGVkec1HDUi4pFTkCxsefvCQz75yNe2rAID7NWJK1rBCPK7TyTAe6TQ8rRAucqKCm0ADx10jokMur1jJA617VrEAYDodWiB4wQAAALJBmyZJ4Q8mUwIV//44QAAINxLjgrv0AC4vl9pzj6VkMPboYSCEu0UDMkJd0diRXBM04CwOAq7u2UhovVYCuU6BUr4aKFV4eXJ54z/WqxN4vNASrwiJR/kd+pZf5JPK54hiUVXiCZVPHFyH1kyO91fXSYZcBLoeCE2Ng+4YPOsN8U0uaoiOfOQS71SG+FdCHTEdTsciqZK1ADEaoLiFmd0UkwdPR+Rebg+rH0fVOwCf0DKHAAAAt0GbR0nhDyZTAhX//jhAABWt1RVDj+noAEPz1S8vB+TOOhWHcP7ZiIb3TTXYVu2K0E7OTPxhav6Iz4bPXgt4BrmPMLjAM3aqAXT3+5gEJ1lckNGffJPofuRW66Jlb4WQpVlCeiIW0wPq8thCv2caVnCEuneYnQ8/HmbX27W8JE1jzqMbhB8j4HqhvTUocCgVH7dp35eSwIydr9Z6gv13+q7QM9p9BRE1DlMeZE6hDzP38rT4eKaOOQAAAMRBm2hJ4Q8mUwIV//44QACXfBEIJpoAPZP2B0VSzA4YuiCq1sU/PN3uTNV7+cEgNeSUe8s1zMWMEkHL66CF8kehmbC3c36bYrOYXUmXGj9uCYtck8RBd++dAgPzGZQxxdgZDSMkX6lbP7Yjod3MKzPJjBjUnuSlETHgkoVZsG6Dz5JSf8LlZEF4Jt2ixnS4Xkewi1BaSE1ou/J59VgX03B4ak2LxSnBH73wsfOUYpDFFDREmFOJ9cXWne6BgR92dXcy5YMHAAAAuUGbiknhDyZTBRE8K//+OEAAko7ZQALi9M+CXWZK8rmywqzHzUeT68tENpcMpG0XxICGQlJrDTVeWOjpHMcObD7UdwHViUEmCpvNmi5F2UMhb7oVGub0zTthThIDFdrAeXOJz8rS4J45fCTNHgPCoq8BJSLImUIRG15w8aMZqHchMkAJ6c3D2F3GXLpjw3o5o9KA0lDERuFtddIstiEy496gr96PkhChxXebQvHpO5b6GVngLLTcm3FfAAAAiwGfqWpH/wATYAmwAg8GpPjZZMO6Wbz/HGs5fzMQLqXrb/1M+ENzSLkC676pSaS6weVFW3S0hW3ZItfjnMjWEMPEVCYUxyZTrXRfw8v3w1iYyaRmgbCYVYG5sjZF5irncX4b/OTmjZzutFFcvRpSzygRfv7qMQjaTbslC8tRmWT54irE01hZ5MnxSLkAAADTQZurSeEPJlMCFf/+OEABh2n5ADdZTirDJz3WFBqQD6di7maP4ygAWfRNxqQ4wv4ybsmBTll/9AsoRCDtpqcEe9jc7J2n4pPdOKX7JupUH+NWgYtHZ2rQ8nesjEFXCjdy5dvVOJMFwhB/HkOb/wY/mhR8MV1gL/VDiL/x5qv7uc5EhtkcX0YW/4q5mm2authZm1ZbkFi43tit+SD0CFhivO8bJ1S4Au1L/LrKYS0L0Gx24S6jkrGDT9qWc13pLgvsFdc3aHLObGh1Le/QRuKxT58CpgAAAMNBm8xJ4Q8mUwIV//44QAGJ9SLuqjUyr/vZb3wAbF/UvLxQizZeRpXOQbu9L3aUsjn+QjtN0g7O9WOnDLhRQXjMxpcgMW0rclhVe2TYEvTBIAlrlODQ0N+FQmropTFLE1TLY20ESnL5zfiwUwNJ8ULRQZPaePfsOvXJS2HRZHnLb1I35R3zcJUf7lfsQTwSvVsy70ZJ3zlk3b+na15+MYrDsmgG923ekN0HYq/5Qy8ZiV6akgIYwRIz4FRw7ziRWTQITcAAAAC1QZvtSeEPJlMCFf/+OEAACCiNNAB9rs/kwI/PlbDBdPl/ibPO2l+vLAdHaL+vZt6kzk1b+cClNs1832vnQD5mugiH+pPE0Ye5EX3Gzd+iXlDgCR0PjPavjTkboKOLhtE3cWqc6qr2Xu/meBgFP/7yaAaitba/4gBo8Hf0KTbLuAoydnFjS9+bva5CNoxd/cBLoeDE2L9yKKVppMBjbvgUMMiXBFSZ3ycDeZ0Dg32Yd6A36VBBwQAAAL9Bmg5J4Q8mUwIV//44QAAVrdvio7l4AF0FsXip4M8jc/X2Z8FbtimfG/aNWse0qRZRBu9RO7FJmV2fws37DZHDR/A1m9y3shWkCa0isxr1/rZf0trvitcq3IsDekxh7EeuhaeUq19KX0dThEQF1/3A9MbnTaXC5ANGtrnN5CGUFEvQN2VZTXDc7FdhL8cFnl7swYlxIK0dIkOUnQfh/+poY8S1q9IaYVdDAj1wLS9jH8+aRAU9yCrhp68s6B0CgwAAANBBmi9J4Q8mUwIV//44QAAVjy8wgBWtVh0BDGYXKB895iLaexON4jn9WLmSPeBZKJzGyqZboJRRdlIqPCYDgZI4pGfVWHcK0eurCaWQv/M0vvll8JgbMkuyhDQR/LqSp3o4NvrYzsbNg6fzFRiz0s7x4+AvfqMSRlhfEMVEGr9ai19ac/Hal3AhasnYfl1sEllz9YjqkGOj/os/+eHa4QAOYgSmUhHDv2ZmVLpJqdcdb7//a3jMOcfjcLoF6zKqPnu5TAUwxAHcNTJuToCtTowJAAAAtkGaUEnhDyZTAhX//jhAADiHu7ADlZNtxmTtTeYeB73+e/wgQO13/rOTRXoViBSgrb7veuwmIRH1Kem6sUtoilMQzgNJWOKUZsvLWG0NNZiikcxSg5GdpBeUb/sFrUT+83obK+NrCQsO9iXFJHzbVsZRwRx5PMb5tdkboIch3X8AA/ajs/B4oSBJBJtyOysqB67FCeRlZLNHD735IFEm6QalAvwb0SpNSmHaBB2EaDwzf3sWlgq4AAAAskGacUnhDyZTAhX//jhAADjepEtbByc/+xWgBWkJ+BlO/kEXpMd84eCxRIHDSKavPF2s7gWwiB5dPET5RauIz/I93U4FqKpQYKcP1HVzyVtUu0jiTOjW+oyQ1LwmF0Kt77qlc361YpQ+TVKihQ1FMlx286u5VtEw9eQSg+HypRoIyZSUnqIOwtqfFcNVbv6QghW8G9D+s6tMg1F/2E5Zc0kewhOp/NyQPp2SvAVFrcyKA7oAAACLQZqSSeEPJlMCFf/+OEAAFa3Udof3qVgAXQKSLGxP8SWK60v64nz8uu7thXfAEgqe2CaseR4g84+tWEaTfohklSwEaX+5NC3faI22yub0MOYbdtuaZuZ5PmV6u+wHulT43AOYsiSRqlVxlinNLLHiCq9CNTUImr7N5g6PoyUV2RWLJn1K4QSt2rgu4QAAAV1BmrZJ4Q8mUwIR//3hAABUfWyyQ9f+nbACw5Wh5/fwuqoS/xAeQ/bFWgfKyVae7MXZSCStg7gfxRhtobDR4LzBttbMXAk8tdBbUGenudCd0aRr17XZLmQjvGui7vecc//0uOGnPmmPDqVS6D0dvkmCEUa+ROUnYimPLWnmszL+nATNFMHF0Qj+AcZUaQDwAvdskBwJW7u5iWnc+x1H0E6Zrbf4I6InDUVq+wmmYz8nrBXPO9QeEYT+LhFMgAA7jZCJ16H1K2YNyi0bu13xTHa7SSSHdh3nKChT9Ks9lBDL9evz+u8m6Es18sNfZxsU0K8jlFVVEI2T0TE+kqZHb56xjphW4nIQqwwiz250GX9IJz6j++K2RsABLLWHN4mfeCDV9DT6eRHtddhDOBNa+2PP7RU7aHlEdGu3MmgWaL39xCnhd8BxhtQnSFtbXFmq+4k5tjE9FO/dnfqFEAi4AAAAp0Ge1EURPCP/AAHQtorbTqcoBszYcu9+YywAcGqLq9pLa2UuqxXmhmBjGSryqS1apgKsgqu2/PDhiOib52ZQS2j6BtYzl8T/X48JcDx67jAgGwOQ/k3cHdn78/WfTQJ7hAru71DaF+DEZJ0XRwPbn4jbqDpKbuWNpi7lSIoFfwm60aAsK8gHIKxRfnliuLnKfcr48/bsMQTfABbYpn82WpkA4p0B7QHzAAAAqgGe83RH/wAHcfJgDVH/qZXLMHq4yBp0RU3aJZIv2JR+3IJRwxOsu528A5H1oSJrkHTEDcpB7peUHEEvNXv905Q5bWx+FVhgC54hn5GVqQy+Z3nBngJXAHeFuuzn8prTLBaivg0UAAA5T5ZVN5kO2x9Fn4YEVYHZKy9DUSnWsVmwDL1XMh/U/AY2Tj6Ioek6qsEzQuZ8tGXSuyVCWxSjaoIUFKXLOuTwgPSBAAAAsgGe9WpH/wAC6ZreMHq3YKK/oaaMAHG7FSfGxIXn+ONR6R0NRFH05hKZsRAz93ZL7STtXcHgXlHC/xir6p3hSRkysgD+PT3T7b20V1dKWRVTrQnG6I22mXurkrhcWl+XjvmvGghtwwFjeeU949zuMgaFk5rMJ1UK5wf0UWSeyomgamPSeuXYV4evdS5JjRU0qF5/1QhXv3ZbRCV9wQQ1OhzMO3Kwjww3X0WvV3GZFczsO2AAAAEjQZr3SahBaJlMCP/8hAAAEe4AhUTNwAHQFFTIXiL7KG/JLpk7roTQNV8CVVmi1AM2RmVbjAm/NWQaHo6U7DJSR0WHCbFFV8TtSL0KXDPD2KmDr/HCHmNhsfOCIggTmfOZcD6nteuTXO57swlPbOABf/CZNEGCpaiEZSZXfl56BjFFV8Nr4ImTH6kUnlDzLdbdcGkqwWZm5FZfQv/2RpBLwL8n2c1z/HVwGc4t8C9d5YGWY340ZFStJFQvztUSi3KMwjsGE/vXgaPySgQ7gnFEBFYxH0VpozqGge5VrryzLOTOAkzWxCQurmuAuzvdzEETCGpPEONW7XA388BS6Fs6G9DSaH/kYjwrLo/7CKdFeFxbII9Ldya+PspmRka98vrKmYypAAAIM21vb3YAAABsbXZoZAAAAAAAAAAAAAAAAAAAA+gAAAlgAAEAAAEAAAAAAAAAAAAAAAABAAAAAAAAAAAAAAAAAAAAAQAAAAAAAAAAAAAAAAAAQAAAAAAAAAAAAAAAAAAAAAAAAAAAAAAAAAAAAAAAAAIAAAdddHJhawAAAFx0a2hkAAAAAwAAAAAAAAAAAAAAAQAAAAAAAAlgAAAAAAAAAAAAAAAAAAAAAAABAAAAAAAAAAAAAAAAAAAAAQAAAAAAAAAAAAAAAAAAQAAAAAJYAAABkAAAAAAAJGVkdHMAAAAcZWxzdAAAAAAAAAABAAAJYAAAAgAAAQAAAAAG1W1kaWEAAAAgbWRoZAAAAAAAAAAAAAAAAAAAMgAAAHgAVcQAAAAAAC1oZGxyAAAAAAAAAAB2aWRlAAAAAAAAAAAAAAAAVmlkZW9IYW5kbGVyAAAABoBtaW5mAAAAFHZtaGQAAAABAAAAAAAAAAAAAAAkZGluZgAAABxkcmVmAAAAAAAAAAEAAAAMdXJsIAAAAAEAAAZAc3RibAAAALBzdHNkAAAAAAAAAAEAAACgYXZjMQAAAAAAAAABAAAAAAAAAAAAAAAAAAAAAAJYAZAASAAAAEgAAAAAAAAAAQAAAAAAAAAAAAAAAAAAAAAAAAAAAAAAAAAAAAAAAAAAABj//wAAADZhdmNDAWQAH//hABlnZAAfrNlAmDPl4QAAAwABAAADAGQPGDGWAQAGaOvjyyLA/fj4AAAAABRidHJ0AAAAAAABMb4AATG+AAAAGHN0dHMAAAAAAAAAAQAAAHgAAAEAAAAAFHN0c3MAAAAAAAAAAQAAAAEAAAM4Y3R0cwAAAAAAAABlAAAAAQAAAgAAAAABAAAFAAAAAAEAAAIAAAAAAQAAAAAAAAABAAABAAAAAAEAAAUAAAAAAQAAAgAAAAABAAAAAAAAAAEAAAEAAAAAAQAAAwAAAAABAAABAAAAAAEAAAUAAAAAAQAAAgAAAAABAAAAAAAAAAEAAAEAAAAAAQAABQAAAAABAAACAAAAAAEAAAAAAAAAAQAAAQAAAAABAAAFAAAAAAEAAAIAAAAAAQAAAAAAAAABAAABAAAAAAEAAAUAAAAAAQAAAgAAAAABAAAAAAAAAAEAAAEAAAAAAQAABQAAAAABAAACAAAAAAEAAAAAAAAAAQAAAQAAAAABAAAFAAAAAAEAAAIAAAAAAQAAAAAAAAABAAABAAAAAAEAAAUAAAAAAQAAAgAAAAABAAAAAAAAAAEAAAEAAAAAAQAABQAAAAABAAACAAAAAAEAAAAAAAAAAQAAAQAAAAABAAAEAAAAAAIAAAEAAAAAAQAABAAAAAACAAABAAAAAAEAAAUAAAAAAQAAAgAAAAABAAAAAAAAAAEAAAEAAAAAAQAABQAAAAABAAACAAAAAAEAAAAAAAAAAQAAAQAAAAABAAAFAAAAAAEAAAIAAAAAAQAAAAAAAAABAAABAAAAAAEAAAQAAAAAAgAAAQAAAAABAAAEAAAAAAIAAAEAAAAAAQAAAwAAAAABAAABAAAAAAEAAAUAAAAAAQAAAgAAAAABAAAAAAAAAAEAAAEAAAAAAQAABAAAAAACAAABAAAAAAEAAAUAAAAAAQAAAgAAAAABAAAAAAAAAAEAAAEAAAAAAQAABQAAAAABAAACAAAAAAEAAAAAAAAAAQAAAQAAAAABAAAEAAAAAAIAAAEAAAAAAQAAAwAAAAABAAABAAAAAAEAAAMAAAAAAQAAAQAAAAABAAADAAAAAAEAAAEAAAAAAQAAAgAAAAABAAAFAAAAAAEAAAIAAAAAAQAAAAAAAAABAAABAAAAAAcAAAIAAAAAAQAAAwAAAAABAAABAAAAAAgAAAIAAAAAAQAABQAAAAABAAACAAAAAAEAAAAAAAAAAQAAAQAAAAABAAACAAAAABxzdHNjAAAAAAAAAAEAAAABAAAAeAAAAAEAAAH0c3RzegAAAAAAAAAAAAAAeAAACb8AAAEHAAAASAAAAEEAAAAxAAAAsgAAAE0AAABBAAAAQAAAAKQAAABwAAAAwAAAAIMAAAB5AAAAlQAAAOYAAAB2AAAAhAAAAIcAAACiAAAAigAAAFYAAABkAAAAowAAAG0AAABNAAAAbAAAANgAAACTAAAAagAAAHAAAAD0AAAAgAAAAGIAAAB3AAAAsQAAAHsAAAByAAAAWgAAAMkAAABwAAAAUAAAAFYAAADNAAAAZQAAAEsAAADqAAAAZQAAAHgAAAFEAAAAfwAAAHIAAACBAAABCAAAAK0AAACDAAAAfQAAATkAAACfAAAAgAAAAHkAAAFNAAAAqQAAAJgAAAFIAAAAxQAAAHUAAAEQAAAAYgAAAToAAAC8AAAApgAAAK4AAAEzAAAApQAAAM0AAAFGAAAAzAAAALQAAADFAAABMQAAAOgAAADAAAAAxQAAAUMAAADJAAAAuAAAAScAAAC8AAABEgAAANIAAADXAAAAyQAAAR8AAAEmAAAAuwAAANgAAAC7AAAA4QAAAL8AAAC2AAAAngAAALYAAAC7AAAAyAAAAL0AAACPAAAA1wAAAMcAAAC5AAAAwwAAANQAAAC6AAAAtgAAAI8AAAFhAAAAqwAAAK4AAAC2AAABJwAAABRzdGNvAAAAAAAAAAEAAAAwAAAAYnVkdGEAAABabWV0YQAAAAAAAAAhaGRscgAAAAAAAAAAbWRpcmFwcGwAAAAAAAAAAAAAAAAtaWxzdAAAACWpdG9vAAAAHWRhdGEAAAABAAAAAExhdmY1OC43Ni4xMDA=\" type=\"video/mp4\" />\n",
              "             </video>"
            ]
          },
          "metadata": {}
        }
      ],
      "source": [
        "from gym.wrappers import RecordVideo\n",
        "record_env = RecordVideo(env, './video')\n",
        "record_env.reset()\n",
        "\n",
        "terminated = False\n",
        "while not terminated:\n",
        "  action = record_env.action_space.sample()\n",
        "  obs, reward, terminated, info = record_env.step(action)\n",
        "\n",
        "record_env.close()\n",
        "show_video()"
      ]
    },
    {
      "cell_type": "code",
      "source": [
        "from stable_baselines3 import PPO\n",
        "\n",
        "arch = \"ppo\"\n",
        "model_name = \"{arch}-{env}\".format(arch=arch, env=env_id)\n",
        "repo_id = \"rhiga/{model_name}\".format(model_name=model_name)"
      ],
      "metadata": {
        "id": "55atzQK-P9q9"
      },
      "execution_count": 9,
      "outputs": []
    },
    {
      "cell_type": "code",
      "execution_count": 6,
      "metadata": {
        "colab": {
          "base_uri": "https://localhost:8080/",
          "height": 1000,
          "referenced_widgets": [
            "5fd57a16bf594eed854361c05194b85f",
            "af4d651d68594a9183fa55a03ee40369"
          ]
        },
        "id": "c1w_60wKuVvg",
        "outputId": "326dd2a1-0504-4504-99a3-0e8aa1facfe9"
      },
      "outputs": [
        {
          "output_type": "display_data",
          "data": {
            "text/plain": [
              "Output()"
            ],
            "application/vnd.jupyter.widget-view+json": {
              "version_major": 2,
              "version_minor": 0,
              "model_id": "5fd57a16bf594eed854361c05194b85f"
            }
          },
          "metadata": {}
        },
        {
          "output_type": "display_data",
          "data": {
            "text/plain": [
              "/usr/local/lib/python3.10/dist-packages/stable_baselines3/common/evaluation.py:67: UserWarning: Evaluation \n",
              "environment is not wrapped with a ``Monitor`` wrapper. This may result in reporting modified episode lengths and \n",
              "rewards, if other wrappers happen to modify these. Consider wrapping environment first with ``Monitor`` wrapper.\n",
              "  warnings.warn(\n"
            ],
            "text/html": [
              "<pre style=\"white-space:pre;overflow-x:auto;line-height:normal;font-family:Menlo,'DejaVu Sans Mono',consolas,'Courier New',monospace\">/usr/local/lib/python3.10/dist-packages/stable_baselines3/common/evaluation.py:67: UserWarning: Evaluation \n",
              "environment is not wrapped with a ``Monitor`` wrapper. This may result in reporting modified episode lengths and \n",
              "rewards, if other wrappers happen to modify these. Consider wrapping environment first with ``Monitor`` wrapper.\n",
              "  warnings.warn(\n",
              "</pre>\n"
            ]
          },
          "metadata": {}
        },
        {
          "output_type": "display_data",
          "data": {
            "text/plain": [
              "Eval num_timesteps=10000, episode_reward=-297.82 +/- 146.40\n"
            ],
            "text/html": [
              "<pre style=\"white-space:pre;overflow-x:auto;line-height:normal;font-family:Menlo,'DejaVu Sans Mono',consolas,'Courier New',monospace\">Eval num_timesteps=10000, episode_reward=-297.82 +/- 146.40\n",
              "</pre>\n"
            ]
          },
          "metadata": {}
        },
        {
          "output_type": "display_data",
          "data": {
            "text/plain": [
              "Episode length: 254.40 +/- 50.93\n"
            ],
            "text/html": [
              "<pre style=\"white-space:pre;overflow-x:auto;line-height:normal;font-family:Menlo,'DejaVu Sans Mono',consolas,'Courier New',monospace\">Episode length: 254.40 +/- 50.93\n",
              "</pre>\n"
            ]
          },
          "metadata": {}
        },
        {
          "output_type": "display_data",
          "data": {
            "text/plain": [
              "New best mean reward!\n"
            ],
            "text/html": [
              "<pre style=\"white-space:pre;overflow-x:auto;line-height:normal;font-family:Menlo,'DejaVu Sans Mono',consolas,'Courier New',monospace\">New best mean reward!\n",
              "</pre>\n"
            ]
          },
          "metadata": {}
        },
        {
          "output_type": "display_data",
          "data": {
            "text/plain": [
              "Eval num_timesteps=20000, episode_reward=-558.85 +/- 54.59\n"
            ],
            "text/html": [
              "<pre style=\"white-space:pre;overflow-x:auto;line-height:normal;font-family:Menlo,'DejaVu Sans Mono',consolas,'Courier New',monospace\">Eval num_timesteps=20000, episode_reward=-558.85 +/- 54.59\n",
              "</pre>\n"
            ]
          },
          "metadata": {}
        },
        {
          "output_type": "display_data",
          "data": {
            "text/plain": [
              "Episode length: 229.20 +/- 44.13\n"
            ],
            "text/html": [
              "<pre style=\"white-space:pre;overflow-x:auto;line-height:normal;font-family:Menlo,'DejaVu Sans Mono',consolas,'Courier New',monospace\">Episode length: 229.20 +/- 44.13\n",
              "</pre>\n"
            ]
          },
          "metadata": {}
        },
        {
          "output_type": "display_data",
          "data": {
            "text/plain": [
              "Eval num_timesteps=30000, episode_reward=-412.97 +/- 143.54\n"
            ],
            "text/html": [
              "<pre style=\"white-space:pre;overflow-x:auto;line-height:normal;font-family:Menlo,'DejaVu Sans Mono',consolas,'Courier New',monospace\">Eval num_timesteps=30000, episode_reward=-412.97 +/- 143.54\n",
              "</pre>\n"
            ]
          },
          "metadata": {}
        },
        {
          "output_type": "display_data",
          "data": {
            "text/plain": [
              "Episode length: 505.40 +/- 85.27\n"
            ],
            "text/html": [
              "<pre style=\"white-space:pre;overflow-x:auto;line-height:normal;font-family:Menlo,'DejaVu Sans Mono',consolas,'Courier New',monospace\">Episode length: 505.40 +/- 85.27\n",
              "</pre>\n"
            ]
          },
          "metadata": {}
        },
        {
          "output_type": "display_data",
          "data": {
            "text/plain": [
              "Eval num_timesteps=40000, episode_reward=104.29 +/- 99.55\n"
            ],
            "text/html": [
              "<pre style=\"white-space:pre;overflow-x:auto;line-height:normal;font-family:Menlo,'DejaVu Sans Mono',consolas,'Courier New',monospace\">Eval num_timesteps=40000, episode_reward=104.29 +/- 99.55\n",
              "</pre>\n"
            ]
          },
          "metadata": {}
        },
        {
          "output_type": "display_data",
          "data": {
            "text/plain": [
              "Episode length: 657.80 +/- 273.29\n"
            ],
            "text/html": [
              "<pre style=\"white-space:pre;overflow-x:auto;line-height:normal;font-family:Menlo,'DejaVu Sans Mono',consolas,'Courier New',monospace\">Episode length: 657.80 +/- 273.29\n",
              "</pre>\n"
            ]
          },
          "metadata": {}
        },
        {
          "output_type": "display_data",
          "data": {
            "text/plain": [
              "New best mean reward!\n"
            ],
            "text/html": [
              "<pre style=\"white-space:pre;overflow-x:auto;line-height:normal;font-family:Menlo,'DejaVu Sans Mono',consolas,'Courier New',monospace\">New best mean reward!\n",
              "</pre>\n"
            ]
          },
          "metadata": {}
        },
        {
          "output_type": "display_data",
          "data": {
            "text/plain": [
              "Eval num_timesteps=50000, episode_reward=21.63 +/- 105.08\n"
            ],
            "text/html": [
              "<pre style=\"white-space:pre;overflow-x:auto;line-height:normal;font-family:Menlo,'DejaVu Sans Mono',consolas,'Courier New',monospace\">Eval num_timesteps=50000, episode_reward=21.63 +/- 105.08\n",
              "</pre>\n"
            ]
          },
          "metadata": {}
        },
        {
          "output_type": "display_data",
          "data": {
            "text/plain": [
              "Episode length: 559.20 +/- 206.89\n"
            ],
            "text/html": [
              "<pre style=\"white-space:pre;overflow-x:auto;line-height:normal;font-family:Menlo,'DejaVu Sans Mono',consolas,'Courier New',monospace\">Episode length: 559.20 +/- 206.89\n",
              "</pre>\n"
            ]
          },
          "metadata": {}
        },
        {
          "output_type": "display_data",
          "data": {
            "text/plain": [
              "Eval num_timesteps=60000, episode_reward=-14.47 +/- 68.61\n"
            ],
            "text/html": [
              "<pre style=\"white-space:pre;overflow-x:auto;line-height:normal;font-family:Menlo,'DejaVu Sans Mono',consolas,'Courier New',monospace\">Eval num_timesteps=60000, episode_reward=-14.47 +/- 68.61\n",
              "</pre>\n"
            ]
          },
          "metadata": {}
        },
        {
          "output_type": "display_data",
          "data": {
            "text/plain": [
              "Episode length: 727.00 +/- 261.24\n"
            ],
            "text/html": [
              "<pre style=\"white-space:pre;overflow-x:auto;line-height:normal;font-family:Menlo,'DejaVu Sans Mono',consolas,'Courier New',monospace\">Episode length: 727.00 +/- 261.24\n",
              "</pre>\n"
            ]
          },
          "metadata": {}
        },
        {
          "output_type": "display_data",
          "data": {
            "text/plain": [
              "Eval num_timesteps=70000, episode_reward=-23.55 +/- 19.76\n"
            ],
            "text/html": [
              "<pre style=\"white-space:pre;overflow-x:auto;line-height:normal;font-family:Menlo,'DejaVu Sans Mono',consolas,'Courier New',monospace\">Eval num_timesteps=70000, episode_reward=-23.55 +/- 19.76\n",
              "</pre>\n"
            ]
          },
          "metadata": {}
        },
        {
          "output_type": "display_data",
          "data": {
            "text/plain": [
              "Episode length: 1000.00 +/- 0.00\n"
            ],
            "text/html": [
              "<pre style=\"white-space:pre;overflow-x:auto;line-height:normal;font-family:Menlo,'DejaVu Sans Mono',consolas,'Courier New',monospace\">Episode length: 1000.00 +/- 0.00\n",
              "</pre>\n"
            ]
          },
          "metadata": {}
        },
        {
          "output_type": "display_data",
          "data": {
            "text/plain": [
              "Eval num_timesteps=80000, episode_reward=142.19 +/- 149.05\n"
            ],
            "text/html": [
              "<pre style=\"white-space:pre;overflow-x:auto;line-height:normal;font-family:Menlo,'DejaVu Sans Mono',consolas,'Courier New',monospace\">Eval num_timesteps=80000, episode_reward=142.19 +/- 149.05\n",
              "</pre>\n"
            ]
          },
          "metadata": {}
        },
        {
          "output_type": "display_data",
          "data": {
            "text/plain": [
              "Episode length: 571.60 +/- 163.40\n"
            ],
            "text/html": [
              "<pre style=\"white-space:pre;overflow-x:auto;line-height:normal;font-family:Menlo,'DejaVu Sans Mono',consolas,'Courier New',monospace\">Episode length: 571.60 +/- 163.40\n",
              "</pre>\n"
            ]
          },
          "metadata": {}
        },
        {
          "output_type": "display_data",
          "data": {
            "text/plain": [
              "New best mean reward!\n"
            ],
            "text/html": [
              "<pre style=\"white-space:pre;overflow-x:auto;line-height:normal;font-family:Menlo,'DejaVu Sans Mono',consolas,'Courier New',monospace\">New best mean reward!\n",
              "</pre>\n"
            ]
          },
          "metadata": {}
        },
        {
          "output_type": "display_data",
          "data": {
            "text/plain": [
              "Eval num_timesteps=90000, episode_reward=-96.81 +/- 148.02\n"
            ],
            "text/html": [
              "<pre style=\"white-space:pre;overflow-x:auto;line-height:normal;font-family:Menlo,'DejaVu Sans Mono',consolas,'Courier New',monospace\">Eval num_timesteps=90000, episode_reward=-96.81 +/- 148.02\n",
              "</pre>\n"
            ]
          },
          "metadata": {}
        },
        {
          "output_type": "display_data",
          "data": {
            "text/plain": [
              "Episode length: 650.40 +/- 235.79\n"
            ],
            "text/html": [
              "<pre style=\"white-space:pre;overflow-x:auto;line-height:normal;font-family:Menlo,'DejaVu Sans Mono',consolas,'Courier New',monospace\">Episode length: 650.40 +/- 235.79\n",
              "</pre>\n"
            ]
          },
          "metadata": {}
        },
        {
          "output_type": "display_data",
          "data": {
            "text/plain": [
              "Eval num_timesteps=100000, episode_reward=91.41 +/- 137.11\n"
            ],
            "text/html": [
              "<pre style=\"white-space:pre;overflow-x:auto;line-height:normal;font-family:Menlo,'DejaVu Sans Mono',consolas,'Courier New',monospace\">Eval num_timesteps=100000, episode_reward=91.41 +/- 137.11\n",
              "</pre>\n"
            ]
          },
          "metadata": {}
        },
        {
          "output_type": "display_data",
          "data": {
            "text/plain": [
              "Episode length: 634.80 +/- 197.80\n"
            ],
            "text/html": [
              "<pre style=\"white-space:pre;overflow-x:auto;line-height:normal;font-family:Menlo,'DejaVu Sans Mono',consolas,'Courier New',monospace\">Episode length: 634.80 +/- 197.80\n",
              "</pre>\n"
            ]
          },
          "metadata": {}
        },
        {
          "output_type": "display_data",
          "data": {
            "text/plain": [
              "Eval num_timesteps=110000, episode_reward=-39.14 +/- 110.77\n"
            ],
            "text/html": [
              "<pre style=\"white-space:pre;overflow-x:auto;line-height:normal;font-family:Menlo,'DejaVu Sans Mono',consolas,'Courier New',monospace\">Eval num_timesteps=110000, episode_reward=-39.14 +/- 110.77\n",
              "</pre>\n"
            ]
          },
          "metadata": {}
        },
        {
          "output_type": "display_data",
          "data": {
            "text/plain": [
              "Episode length: 784.80 +/- 195.66\n"
            ],
            "text/html": [
              "<pre style=\"white-space:pre;overflow-x:auto;line-height:normal;font-family:Menlo,'DejaVu Sans Mono',consolas,'Courier New',monospace\">Episode length: 784.80 +/- 195.66\n",
              "</pre>\n"
            ]
          },
          "metadata": {}
        },
        {
          "output_type": "display_data",
          "data": {
            "text/plain": [
              "Eval num_timesteps=120000, episode_reward=-20.67 +/- 66.66\n"
            ],
            "text/html": [
              "<pre style=\"white-space:pre;overflow-x:auto;line-height:normal;font-family:Menlo,'DejaVu Sans Mono',consolas,'Courier New',monospace\">Eval num_timesteps=120000, episode_reward=-20.67 +/- 66.66\n",
              "</pre>\n"
            ]
          },
          "metadata": {}
        },
        {
          "output_type": "display_data",
          "data": {
            "text/plain": [
              "Episode length: 465.40 +/- 282.96\n"
            ],
            "text/html": [
              "<pre style=\"white-space:pre;overflow-x:auto;line-height:normal;font-family:Menlo,'DejaVu Sans Mono',consolas,'Courier New',monospace\">Episode length: 465.40 +/- 282.96\n",
              "</pre>\n"
            ]
          },
          "metadata": {}
        },
        {
          "output_type": "display_data",
          "data": {
            "text/plain": [
              "Eval num_timesteps=130000, episode_reward=-2.63 +/- 84.71\n"
            ],
            "text/html": [
              "<pre style=\"white-space:pre;overflow-x:auto;line-height:normal;font-family:Menlo,'DejaVu Sans Mono',consolas,'Courier New',monospace\">Eval num_timesteps=130000, episode_reward=-2.63 +/- 84.71\n",
              "</pre>\n"
            ]
          },
          "metadata": {}
        },
        {
          "output_type": "display_data",
          "data": {
            "text/plain": [
              "Episode length: 596.20 +/- 336.01\n"
            ],
            "text/html": [
              "<pre style=\"white-space:pre;overflow-x:auto;line-height:normal;font-family:Menlo,'DejaVu Sans Mono',consolas,'Courier New',monospace\">Episode length: 596.20 +/- 336.01\n",
              "</pre>\n"
            ]
          },
          "metadata": {}
        },
        {
          "output_type": "display_data",
          "data": {
            "text/plain": [
              "Eval num_timesteps=140000, episode_reward=135.08 +/- 122.14\n"
            ],
            "text/html": [
              "<pre style=\"white-space:pre;overflow-x:auto;line-height:normal;font-family:Menlo,'DejaVu Sans Mono',consolas,'Courier New',monospace\">Eval num_timesteps=140000, episode_reward=135.08 +/- 122.14\n",
              "</pre>\n"
            ]
          },
          "metadata": {}
        },
        {
          "output_type": "display_data",
          "data": {
            "text/plain": [
              "Episode length: 493.80 +/- 119.24\n"
            ],
            "text/html": [
              "<pre style=\"white-space:pre;overflow-x:auto;line-height:normal;font-family:Menlo,'DejaVu Sans Mono',consolas,'Courier New',monospace\">Episode length: 493.80 +/- 119.24\n",
              "</pre>\n"
            ]
          },
          "metadata": {}
        },
        {
          "output_type": "display_data",
          "data": {
            "text/plain": [
              "Eval num_timesteps=150000, episode_reward=91.76 +/- 107.97\n"
            ],
            "text/html": [
              "<pre style=\"white-space:pre;overflow-x:auto;line-height:normal;font-family:Menlo,'DejaVu Sans Mono',consolas,'Courier New',monospace\">Eval num_timesteps=150000, episode_reward=91.76 +/- 107.97\n",
              "</pre>\n"
            ]
          },
          "metadata": {}
        },
        {
          "output_type": "display_data",
          "data": {
            "text/plain": [
              "Episode length: 369.40 +/- 88.76\n"
            ],
            "text/html": [
              "<pre style=\"white-space:pre;overflow-x:auto;line-height:normal;font-family:Menlo,'DejaVu Sans Mono',consolas,'Courier New',monospace\">Episode length: 369.40 +/- 88.76\n",
              "</pre>\n"
            ]
          },
          "metadata": {}
        },
        {
          "output_type": "display_data",
          "data": {
            "text/plain": [
              "Eval num_timesteps=160000, episode_reward=172.67 +/- 43.30\n"
            ],
            "text/html": [
              "<pre style=\"white-space:pre;overflow-x:auto;line-height:normal;font-family:Menlo,'DejaVu Sans Mono',consolas,'Courier New',monospace\">Eval num_timesteps=160000, episode_reward=172.67 +/- 43.30\n",
              "</pre>\n"
            ]
          },
          "metadata": {}
        },
        {
          "output_type": "display_data",
          "data": {
            "text/plain": [
              "Episode length: 587.40 +/- 115.25\n"
            ],
            "text/html": [
              "<pre style=\"white-space:pre;overflow-x:auto;line-height:normal;font-family:Menlo,'DejaVu Sans Mono',consolas,'Courier New',monospace\">Episode length: 587.40 +/- 115.25\n",
              "</pre>\n"
            ]
          },
          "metadata": {}
        },
        {
          "output_type": "display_data",
          "data": {
            "text/plain": [
              "New best mean reward!\n"
            ],
            "text/html": [
              "<pre style=\"white-space:pre;overflow-x:auto;line-height:normal;font-family:Menlo,'DejaVu Sans Mono',consolas,'Courier New',monospace\">New best mean reward!\n",
              "</pre>\n"
            ]
          },
          "metadata": {}
        },
        {
          "output_type": "display_data",
          "data": {
            "text/plain": [
              "Eval num_timesteps=170000, episode_reward=119.71 +/- 94.77\n"
            ],
            "text/html": [
              "<pre style=\"white-space:pre;overflow-x:auto;line-height:normal;font-family:Menlo,'DejaVu Sans Mono',consolas,'Courier New',monospace\">Eval num_timesteps=170000, episode_reward=119.71 +/- 94.77\n",
              "</pre>\n"
            ]
          },
          "metadata": {}
        },
        {
          "output_type": "display_data",
          "data": {
            "text/plain": [
              "Episode length: 569.60 +/- 156.29\n"
            ],
            "text/html": [
              "<pre style=\"white-space:pre;overflow-x:auto;line-height:normal;font-family:Menlo,'DejaVu Sans Mono',consolas,'Courier New',monospace\">Episode length: 569.60 +/- 156.29\n",
              "</pre>\n"
            ]
          },
          "metadata": {}
        },
        {
          "output_type": "display_data",
          "data": {
            "text/plain": [
              "Eval num_timesteps=180000, episode_reward=73.86 +/- 104.92\n"
            ],
            "text/html": [
              "<pre style=\"white-space:pre;overflow-x:auto;line-height:normal;font-family:Menlo,'DejaVu Sans Mono',consolas,'Courier New',monospace\">Eval num_timesteps=180000, episode_reward=73.86 +/- 104.92\n",
              "</pre>\n"
            ]
          },
          "metadata": {}
        },
        {
          "output_type": "display_data",
          "data": {
            "text/plain": [
              "Episode length: 354.00 +/- 73.34\n"
            ],
            "text/html": [
              "<pre style=\"white-space:pre;overflow-x:auto;line-height:normal;font-family:Menlo,'DejaVu Sans Mono',consolas,'Courier New',monospace\">Episode length: 354.00 +/- 73.34\n",
              "</pre>\n"
            ]
          },
          "metadata": {}
        },
        {
          "output_type": "display_data",
          "data": {
            "text/plain": [
              "Eval num_timesteps=190000, episode_reward=77.07 +/- 118.75\n"
            ],
            "text/html": [
              "<pre style=\"white-space:pre;overflow-x:auto;line-height:normal;font-family:Menlo,'DejaVu Sans Mono',consolas,'Courier New',monospace\">Eval num_timesteps=190000, episode_reward=77.07 +/- 118.75\n",
              "</pre>\n"
            ]
          },
          "metadata": {}
        },
        {
          "output_type": "display_data",
          "data": {
            "text/plain": [
              "Episode length: 530.20 +/- 254.95\n"
            ],
            "text/html": [
              "<pre style=\"white-space:pre;overflow-x:auto;line-height:normal;font-family:Menlo,'DejaVu Sans Mono',consolas,'Courier New',monospace\">Episode length: 530.20 +/- 254.95\n",
              "</pre>\n"
            ]
          },
          "metadata": {}
        },
        {
          "output_type": "display_data",
          "data": {
            "text/plain": [
              "Eval num_timesteps=200000, episode_reward=99.66 +/- 130.72\n"
            ],
            "text/html": [
              "<pre style=\"white-space:pre;overflow-x:auto;line-height:normal;font-family:Menlo,'DejaVu Sans Mono',consolas,'Courier New',monospace\">Eval num_timesteps=200000, episode_reward=99.66 +/- 130.72\n",
              "</pre>\n"
            ]
          },
          "metadata": {}
        },
        {
          "output_type": "display_data",
          "data": {
            "text/plain": [
              "Episode length: 518.60 +/- 252.14\n"
            ],
            "text/html": [
              "<pre style=\"white-space:pre;overflow-x:auto;line-height:normal;font-family:Menlo,'DejaVu Sans Mono',consolas,'Courier New',monospace\">Episode length: 518.60 +/- 252.14\n",
              "</pre>\n"
            ]
          },
          "metadata": {}
        },
        {
          "output_type": "display_data",
          "data": {
            "text/plain": [
              "Eval num_timesteps=210000, episode_reward=100.64 +/- 145.60\n"
            ],
            "text/html": [
              "<pre style=\"white-space:pre;overflow-x:auto;line-height:normal;font-family:Menlo,'DejaVu Sans Mono',consolas,'Courier New',monospace\">Eval num_timesteps=210000, episode_reward=100.64 +/- 145.60\n",
              "</pre>\n"
            ]
          },
          "metadata": {}
        },
        {
          "output_type": "display_data",
          "data": {
            "text/plain": [
              "Episode length: 452.20 +/- 257.61\n"
            ],
            "text/html": [
              "<pre style=\"white-space:pre;overflow-x:auto;line-height:normal;font-family:Menlo,'DejaVu Sans Mono',consolas,'Courier New',monospace\">Episode length: 452.20 +/- 257.61\n",
              "</pre>\n"
            ]
          },
          "metadata": {}
        },
        {
          "output_type": "display_data",
          "data": {
            "text/plain": [
              "Eval num_timesteps=220000, episode_reward=183.26 +/- 83.91\n"
            ],
            "text/html": [
              "<pre style=\"white-space:pre;overflow-x:auto;line-height:normal;font-family:Menlo,'DejaVu Sans Mono',consolas,'Courier New',monospace\">Eval num_timesteps=220000, episode_reward=183.26 +/- 83.91\n",
              "</pre>\n"
            ]
          },
          "metadata": {}
        },
        {
          "output_type": "display_data",
          "data": {
            "text/plain": [
              "Episode length: 334.80 +/- 15.73\n"
            ],
            "text/html": [
              "<pre style=\"white-space:pre;overflow-x:auto;line-height:normal;font-family:Menlo,'DejaVu Sans Mono',consolas,'Courier New',monospace\">Episode length: 334.80 +/- 15.73\n",
              "</pre>\n"
            ]
          },
          "metadata": {}
        },
        {
          "output_type": "display_data",
          "data": {
            "text/plain": [
              "New best mean reward!\n"
            ],
            "text/html": [
              "<pre style=\"white-space:pre;overflow-x:auto;line-height:normal;font-family:Menlo,'DejaVu Sans Mono',consolas,'Courier New',monospace\">New best mean reward!\n",
              "</pre>\n"
            ]
          },
          "metadata": {}
        },
        {
          "output_type": "display_data",
          "data": {
            "text/plain": [
              "Eval num_timesteps=230000, episode_reward=115.44 +/- 122.92\n"
            ],
            "text/html": [
              "<pre style=\"white-space:pre;overflow-x:auto;line-height:normal;font-family:Menlo,'DejaVu Sans Mono',consolas,'Courier New',monospace\">Eval num_timesteps=230000, episode_reward=115.44 +/- 122.92\n",
              "</pre>\n"
            ]
          },
          "metadata": {}
        },
        {
          "output_type": "display_data",
          "data": {
            "text/plain": [
              "Episode length: 294.80 +/- 63.00\n"
            ],
            "text/html": [
              "<pre style=\"white-space:pre;overflow-x:auto;line-height:normal;font-family:Menlo,'DejaVu Sans Mono',consolas,'Courier New',monospace\">Episode length: 294.80 +/- 63.00\n",
              "</pre>\n"
            ]
          },
          "metadata": {}
        },
        {
          "output_type": "display_data",
          "data": {
            "text/plain": [
              "Eval num_timesteps=240000, episode_reward=152.85 +/- 76.25\n"
            ],
            "text/html": [
              "<pre style=\"white-space:pre;overflow-x:auto;line-height:normal;font-family:Menlo,'DejaVu Sans Mono',consolas,'Courier New',monospace\">Eval num_timesteps=240000, episode_reward=152.85 +/- 76.25\n",
              "</pre>\n"
            ]
          },
          "metadata": {}
        },
        {
          "output_type": "display_data",
          "data": {
            "text/plain": [
              "Episode length: 435.00 +/- 292.40\n"
            ],
            "text/html": [
              "<pre style=\"white-space:pre;overflow-x:auto;line-height:normal;font-family:Menlo,'DejaVu Sans Mono',consolas,'Courier New',monospace\">Episode length: 435.00 +/- 292.40\n",
              "</pre>\n"
            ]
          },
          "metadata": {}
        },
        {
          "output_type": "display_data",
          "data": {
            "text/plain": [
              "Eval num_timesteps=250000, episode_reward=237.30 +/- 25.95\n"
            ],
            "text/html": [
              "<pre style=\"white-space:pre;overflow-x:auto;line-height:normal;font-family:Menlo,'DejaVu Sans Mono',consolas,'Courier New',monospace\">Eval num_timesteps=250000, episode_reward=237.30 +/- 25.95\n",
              "</pre>\n"
            ]
          },
          "metadata": {}
        },
        {
          "output_type": "display_data",
          "data": {
            "text/plain": [
              "Episode length: 444.40 +/- 94.68\n"
            ],
            "text/html": [
              "<pre style=\"white-space:pre;overflow-x:auto;line-height:normal;font-family:Menlo,'DejaVu Sans Mono',consolas,'Courier New',monospace\">Episode length: 444.40 +/- 94.68\n",
              "</pre>\n"
            ]
          },
          "metadata": {}
        },
        {
          "output_type": "display_data",
          "data": {
            "text/plain": [
              "New best mean reward!\n"
            ],
            "text/html": [
              "<pre style=\"white-space:pre;overflow-x:auto;line-height:normal;font-family:Menlo,'DejaVu Sans Mono',consolas,'Courier New',monospace\">New best mean reward!\n",
              "</pre>\n"
            ]
          },
          "metadata": {}
        },
        {
          "output_type": "display_data",
          "data": {
            "text/plain": [
              "Eval num_timesteps=260000, episode_reward=165.28 +/- 64.21\n"
            ],
            "text/html": [
              "<pre style=\"white-space:pre;overflow-x:auto;line-height:normal;font-family:Menlo,'DejaVu Sans Mono',consolas,'Courier New',monospace\">Eval num_timesteps=260000, episode_reward=165.28 +/- 64.21\n",
              "</pre>\n"
            ]
          },
          "metadata": {}
        },
        {
          "output_type": "display_data",
          "data": {
            "text/plain": [
              "Episode length: 484.00 +/- 75.14\n"
            ],
            "text/html": [
              "<pre style=\"white-space:pre;overflow-x:auto;line-height:normal;font-family:Menlo,'DejaVu Sans Mono',consolas,'Courier New',monospace\">Episode length: 484.00 +/- 75.14\n",
              "</pre>\n"
            ]
          },
          "metadata": {}
        },
        {
          "output_type": "display_data",
          "data": {
            "text/plain": [
              "Eval num_timesteps=270000, episode_reward=-24.56 +/- 186.89\n"
            ],
            "text/html": [
              "<pre style=\"white-space:pre;overflow-x:auto;line-height:normal;font-family:Menlo,'DejaVu Sans Mono',consolas,'Courier New',monospace\">Eval num_timesteps=270000, episode_reward=-24.56 +/- 186.89\n",
              "</pre>\n"
            ]
          },
          "metadata": {}
        },
        {
          "output_type": "display_data",
          "data": {
            "text/plain": [
              "Episode length: 483.80 +/- 62.31\n"
            ],
            "text/html": [
              "<pre style=\"white-space:pre;overflow-x:auto;line-height:normal;font-family:Menlo,'DejaVu Sans Mono',consolas,'Courier New',monospace\">Episode length: 483.80 +/- 62.31\n",
              "</pre>\n"
            ]
          },
          "metadata": {}
        },
        {
          "output_type": "display_data",
          "data": {
            "text/plain": [
              "Eval num_timesteps=280000, episode_reward=153.29 +/- 92.71\n"
            ],
            "text/html": [
              "<pre style=\"white-space:pre;overflow-x:auto;line-height:normal;font-family:Menlo,'DejaVu Sans Mono',consolas,'Courier New',monospace\">Eval num_timesteps=280000, episode_reward=153.29 +/- 92.71\n",
              "</pre>\n"
            ]
          },
          "metadata": {}
        },
        {
          "output_type": "display_data",
          "data": {
            "text/plain": [
              "Episode length: 532.40 +/- 247.08\n"
            ],
            "text/html": [
              "<pre style=\"white-space:pre;overflow-x:auto;line-height:normal;font-family:Menlo,'DejaVu Sans Mono',consolas,'Courier New',monospace\">Episode length: 532.40 +/- 247.08\n",
              "</pre>\n"
            ]
          },
          "metadata": {}
        },
        {
          "output_type": "display_data",
          "data": {
            "text/plain": [
              "Eval num_timesteps=290000, episode_reward=142.85 +/- 108.45\n"
            ],
            "text/html": [
              "<pre style=\"white-space:pre;overflow-x:auto;line-height:normal;font-family:Menlo,'DejaVu Sans Mono',consolas,'Courier New',monospace\">Eval num_timesteps=290000, episode_reward=142.85 +/- 108.45\n",
              "</pre>\n"
            ]
          },
          "metadata": {}
        },
        {
          "output_type": "display_data",
          "data": {
            "text/plain": [
              "Episode length: 415.00 +/- 152.87\n"
            ],
            "text/html": [
              "<pre style=\"white-space:pre;overflow-x:auto;line-height:normal;font-family:Menlo,'DejaVu Sans Mono',consolas,'Courier New',monospace\">Episode length: 415.00 +/- 152.87\n",
              "</pre>\n"
            ]
          },
          "metadata": {}
        },
        {
          "output_type": "display_data",
          "data": {
            "text/plain": [
              "Eval num_timesteps=300000, episode_reward=191.06 +/- 103.53\n"
            ],
            "text/html": [
              "<pre style=\"white-space:pre;overflow-x:auto;line-height:normal;font-family:Menlo,'DejaVu Sans Mono',consolas,'Courier New',monospace\">Eval num_timesteps=300000, episode_reward=191.06 +/- 103.53\n",
              "</pre>\n"
            ]
          },
          "metadata": {}
        },
        {
          "output_type": "display_data",
          "data": {
            "text/plain": [
              "Episode length: 511.60 +/- 244.23\n"
            ],
            "text/html": [
              "<pre style=\"white-space:pre;overflow-x:auto;line-height:normal;font-family:Menlo,'DejaVu Sans Mono',consolas,'Courier New',monospace\">Episode length: 511.60 +/- 244.23\n",
              "</pre>\n"
            ]
          },
          "metadata": {}
        },
        {
          "output_type": "display_data",
          "data": {
            "text/plain": [
              "Eval num_timesteps=310000, episode_reward=164.97 +/- 102.66\n"
            ],
            "text/html": [
              "<pre style=\"white-space:pre;overflow-x:auto;line-height:normal;font-family:Menlo,'DejaVu Sans Mono',consolas,'Courier New',monospace\">Eval num_timesteps=310000, episode_reward=164.97 +/- 102.66\n",
              "</pre>\n"
            ]
          },
          "metadata": {}
        },
        {
          "output_type": "display_data",
          "data": {
            "text/plain": [
              "Episode length: 339.40 +/- 46.07\n"
            ],
            "text/html": [
              "<pre style=\"white-space:pre;overflow-x:auto;line-height:normal;font-family:Menlo,'DejaVu Sans Mono',consolas,'Courier New',monospace\">Episode length: 339.40 +/- 46.07\n",
              "</pre>\n"
            ]
          },
          "metadata": {}
        },
        {
          "output_type": "display_data",
          "data": {
            "text/plain": [
              "Eval num_timesteps=320000, episode_reward=217.95 +/- 24.69\n"
            ],
            "text/html": [
              "<pre style=\"white-space:pre;overflow-x:auto;line-height:normal;font-family:Menlo,'DejaVu Sans Mono',consolas,'Courier New',monospace\">Eval num_timesteps=320000, episode_reward=217.95 +/- 24.69\n",
              "</pre>\n"
            ]
          },
          "metadata": {}
        },
        {
          "output_type": "display_data",
          "data": {
            "text/plain": [
              "Episode length: 416.40 +/- 39.86\n"
            ],
            "text/html": [
              "<pre style=\"white-space:pre;overflow-x:auto;line-height:normal;font-family:Menlo,'DejaVu Sans Mono',consolas,'Courier New',monospace\">Episode length: 416.40 +/- 39.86\n",
              "</pre>\n"
            ]
          },
          "metadata": {}
        },
        {
          "output_type": "display_data",
          "data": {
            "text/plain": [
              "Eval num_timesteps=330000, episode_reward=201.20 +/- 109.48\n"
            ],
            "text/html": [
              "<pre style=\"white-space:pre;overflow-x:auto;line-height:normal;font-family:Menlo,'DejaVu Sans Mono',consolas,'Courier New',monospace\">Eval num_timesteps=330000, episode_reward=201.20 +/- 109.48\n",
              "</pre>\n"
            ]
          },
          "metadata": {}
        },
        {
          "output_type": "display_data",
          "data": {
            "text/plain": [
              "Episode length: 339.80 +/- 19.36\n"
            ],
            "text/html": [
              "<pre style=\"white-space:pre;overflow-x:auto;line-height:normal;font-family:Menlo,'DejaVu Sans Mono',consolas,'Courier New',monospace\">Episode length: 339.80 +/- 19.36\n",
              "</pre>\n"
            ]
          },
          "metadata": {}
        },
        {
          "output_type": "display_data",
          "data": {
            "text/plain": [
              "Eval num_timesteps=340000, episode_reward=146.79 +/- 93.76\n"
            ],
            "text/html": [
              "<pre style=\"white-space:pre;overflow-x:auto;line-height:normal;font-family:Menlo,'DejaVu Sans Mono',consolas,'Courier New',monospace\">Eval num_timesteps=340000, episode_reward=146.79 +/- 93.76\n",
              "</pre>\n"
            ]
          },
          "metadata": {}
        },
        {
          "output_type": "display_data",
          "data": {
            "text/plain": [
              "Episode length: 502.00 +/- 98.12\n"
            ],
            "text/html": [
              "<pre style=\"white-space:pre;overflow-x:auto;line-height:normal;font-family:Menlo,'DejaVu Sans Mono',consolas,'Courier New',monospace\">Episode length: 502.00 +/- 98.12\n",
              "</pre>\n"
            ]
          },
          "metadata": {}
        },
        {
          "output_type": "display_data",
          "data": {
            "text/plain": [
              "Eval num_timesteps=350000, episode_reward=250.03 +/- 14.50\n"
            ],
            "text/html": [
              "<pre style=\"white-space:pre;overflow-x:auto;line-height:normal;font-family:Menlo,'DejaVu Sans Mono',consolas,'Courier New',monospace\">Eval num_timesteps=350000, episode_reward=250.03 +/- 14.50\n",
              "</pre>\n"
            ]
          },
          "metadata": {}
        },
        {
          "output_type": "display_data",
          "data": {
            "text/plain": [
              "Episode length: 380.80 +/- 20.45\n"
            ],
            "text/html": [
              "<pre style=\"white-space:pre;overflow-x:auto;line-height:normal;font-family:Menlo,'DejaVu Sans Mono',consolas,'Courier New',monospace\">Episode length: 380.80 +/- 20.45\n",
              "</pre>\n"
            ]
          },
          "metadata": {}
        },
        {
          "output_type": "display_data",
          "data": {
            "text/plain": [
              "New best mean reward!\n"
            ],
            "text/html": [
              "<pre style=\"white-space:pre;overflow-x:auto;line-height:normal;font-family:Menlo,'DejaVu Sans Mono',consolas,'Courier New',monospace\">New best mean reward!\n",
              "</pre>\n"
            ]
          },
          "metadata": {}
        },
        {
          "output_type": "display_data",
          "data": {
            "text/plain": [
              "Stopping training because the mean reward 250.03  is above the threshold 250\n"
            ],
            "text/html": [
              "<pre style=\"white-space:pre;overflow-x:auto;line-height:normal;font-family:Menlo,'DejaVu Sans Mono',consolas,'Courier New',monospace\">Stopping training because the mean reward 250.03  is above the threshold 250\n",
              "</pre>\n"
            ]
          },
          "metadata": {}
        },
        {
          "output_type": "display_data",
          "data": {
            "text/plain": [],
            "text/html": [
              "<pre style=\"white-space:pre;overflow-x:auto;line-height:normal;font-family:Menlo,'DejaVu Sans Mono',consolas,'Courier New',monospace\"></pre>\n"
            ]
          },
          "metadata": {}
        },
        {
          "output_type": "display_data",
          "data": {
            "text/plain": [
              "\n"
            ],
            "text/html": [
              "<pre style=\"white-space:pre;overflow-x:auto;line-height:normal;font-family:Menlo,'DejaVu Sans Mono',consolas,'Courier New',monospace\">\n",
              "</pre>\n"
            ]
          },
          "metadata": {}
        }
      ],
      "source": [
        "from stable_baselines3.common.callbacks import EvalCallback, StopTrainingOnRewardThreshold\n",
        "\n",
        "net_arch = [128, 128]\n",
        "env = make_env()\n",
        "\n",
        "model = PPO(\"MlpPolicy\", env, batch_size=64, learning_rate=1e-3,\n",
        "            policy_kwargs=dict(\n",
        "              net_arch=net_arch\n",
        "            ))\n",
        "callback_on_best = StopTrainingOnRewardThreshold(reward_threshold=250,\n",
        "                                                 verbose=1)\n",
        "eval_callback = EvalCallback(env, callback_on_new_best=callback_on_best,\n",
        "                             verbose=1)\n",
        "model.learn(total_timesteps=int(1e6), log_interval=10,\n",
        "            callback=eval_callback, progress_bar=True)\n",
        "model.save(model_name)"
      ]
    },
    {
      "cell_type": "code",
      "source": [
        "from stable_baselines3.common.vec_env import DummyVecEnv\n",
        "from stable_baselines3.common.monitor import Monitor\n",
        "\n",
        "eval_env = DummyVecEnv([lambda: Monitor(gym.make(env_id, render_mode=\"rgb_array\"))])\n",
        "package_to_hub(\n",
        "    model=model,\n",
        "    model_name=model_name,\n",
        "    model_architecture=arch,\n",
        "    env_id=env_id,\n",
        "    eval_env=eval_env,\n",
        "    repo_id=\"rhiga/dqn-LunarLander-v2\",\n",
        "    commit_message=\"Initial commit\"\n",
        ")"
      ],
      "metadata": {
        "colab": {
          "base_uri": "https://localhost:8080/",
          "height": 433,
          "referenced_widgets": [
            "3a38f0f53a844e31856a9272ab7cc221",
            "f1fe3bc5a1904bb9962d350841922b6a",
            "8a719676320c4bf59450376735f3b2c5",
            "7630ba0c7d35487f8e7a08b7d22cdf4d",
            "d6c42869ef3b46f1a9231c7d33a4ec27",
            "02898a83fb2944d4b9d0ba6bff398f86",
            "ff74c1b65c2646cea61101163acc3f11",
            "319f73f6db8b4738bc27c37d1bc5b6f8",
            "f903a9bb33854d37bd51c549fbd3538a",
            "50d12b08a70b447da070e1b1fd0c9217",
            "bc920d34a1dd4a39824b90f4eba50131",
            "94a4abdc5b8642e6800fce5f97f7bee8",
            "af57c12682af49878c1c83b9e434c6c3",
            "44e9cae57d53402395295fb43009cab9",
            "ef331e7ea09245379fbbd700fe797a3f",
            "fe2787120f1b4fbd8710b198565cf2ab",
            "35c34933f2e242e6bd5c204d0894c09f",
            "ea66539f25e04006bb46295fd1109f6d",
            "becfbdb64061484fa82cf233b431e83f",
            "e44e67b4f5344755b27410fab53ff11a",
            "602c0c276d854af5b294762cd8e0752c",
            "32a36b53d0c4497a8890f0edbb541d0b",
            "bc1aaed1fc44491ba89fa238a2e56e42",
            "51a755a00db74e54bb797f81fe521d42",
            "2a6950260b6a43de93cefdee86fc2e24",
            "429d3b002a304071a91421c41032af83",
            "d08c22e0fc324fcab65829ddb4e18e82",
            "d3384677204542cfb1a2154eb6440b48",
            "ad67e4fd4f27473994702539a16f60f3",
            "6b9cadafdf754fd0bc43161b4fcc77c9",
            "43933cac96f54545a282eeaa5f3818b4",
            "02a682aa0dae41a4806e0271b82c0058",
            "5d92ffea42564fc9aafe5833cefddd03",
            "fac0cdc978b44df58f4e711a490a6de6",
            "4371d9732f0d4dd1926d4e7cd60095e8",
            "729063ea0fbc47f09a28159d154a8e97",
            "87c3efa32501428694337030ee4e0969",
            "a778411311d94152aac0d909091a61dd",
            "c14c73d92d3a4fabab32e6548daf2078",
            "5ae27d04177b4689b7759cdd072275c0",
            "3d377ee350754e74bffba555f6536299",
            "e2e9fa315d1b4e1aac1aa4c157d07522",
            "d8a6e30cbc224ba99e474bc8aadbb4e6",
            "5404e81d5a9744f898d5dac1e2d75207"
          ]
        },
        "id": "IZjdf1Oao_z2",
        "outputId": "f4bf7624-d45a-4ae4-e027-b034204ac794"
      },
      "execution_count": 10,
      "outputs": [
        {
          "output_type": "stream",
          "name": "stderr",
          "text": [
            "/usr/local/lib/python3.10/dist-packages/ipykernel/ipkernel.py:283: DeprecationWarning: `should_run_async` will not call `transform_cell` automatically in the future. Please pass the result to `transformed_cell` argument and any exception that happen during thetransform in `preprocessing_exc_tuple` in IPython 7.17 and above.\n",
            "  and should_run_async(code)\n"
          ]
        },
        {
          "output_type": "stream",
          "name": "stdout",
          "text": [
            "\u001b[38;5;4mℹ This function will save, evaluate, generate a video of your agent,\n",
            "create a model card and push everything to the hub. It might take up to 1min.\n",
            "This is a work in progress: if you encounter a bug, please open an issue.\u001b[0m\n",
            "Saving video to /tmp/tmp9yykrhus/-step-0-to-step-1000.mp4\n",
            "Moviepy - Building video /tmp/tmp9yykrhus/-step-0-to-step-1000.mp4.\n",
            "Moviepy - Writing video /tmp/tmp9yykrhus/-step-0-to-step-1000.mp4\n",
            "\n"
          ]
        },
        {
          "output_type": "stream",
          "name": "stderr",
          "text": []
        },
        {
          "output_type": "stream",
          "name": "stdout",
          "text": [
            "Moviepy - Done !\n",
            "Moviepy - video ready /tmp/tmp9yykrhus/-step-0-to-step-1000.mp4\n",
            "\u001b[38;5;4mℹ Pushing repo rhiga/dqn-LunarLander-v2 to the Hugging Face Hub\u001b[0m\n"
          ]
        },
        {
          "output_type": "display_data",
          "data": {
            "text/plain": [
              "policy.optimizer.pth:   0%|          | 0.00/298k [00:00<?, ?B/s]"
            ],
            "application/vnd.jupyter.widget-view+json": {
              "version_major": 2,
              "version_minor": 0,
              "model_id": "3a38f0f53a844e31856a9272ab7cc221"
            }
          },
          "metadata": {}
        },
        {
          "output_type": "display_data",
          "data": {
            "text/plain": [
              "policy.pth:   0%|          | 0.00/148k [00:00<?, ?B/s]"
            ],
            "application/vnd.jupyter.widget-view+json": {
              "version_major": 2,
              "version_minor": 0,
              "model_id": "94a4abdc5b8642e6800fce5f97f7bee8"
            }
          },
          "metadata": {}
        },
        {
          "output_type": "display_data",
          "data": {
            "text/plain": [
              "Upload 3 LFS files:   0%|          | 0/3 [00:00<?, ?it/s]"
            ],
            "application/vnd.jupyter.widget-view+json": {
              "version_major": 2,
              "version_minor": 0,
              "model_id": "bc1aaed1fc44491ba89fa238a2e56e42"
            }
          },
          "metadata": {}
        },
        {
          "output_type": "display_data",
          "data": {
            "text/plain": [
              "ppo-LunarLander-v2.zip:   0%|          | 0.00/461k [00:00<?, ?B/s]"
            ],
            "application/vnd.jupyter.widget-view+json": {
              "version_major": 2,
              "version_minor": 0,
              "model_id": "fac0cdc978b44df58f4e711a490a6de6"
            }
          },
          "metadata": {}
        },
        {
          "output_type": "stream",
          "name": "stdout",
          "text": [
            "\u001b[38;5;4mℹ Your model is pushed to the Hub. You can view your model here:\n",
            "https://huggingface.co/rhiga/dqn-LunarLander-v2/tree/main/\u001b[0m\n"
          ]
        },
        {
          "output_type": "execute_result",
          "data": {
            "text/plain": [
              "'https://huggingface.co/rhiga/dqn-LunarLander-v2/tree/main/'"
            ],
            "application/vnd.google.colaboratory.intrinsic+json": {
              "type": "string"
            }
          },
          "metadata": {},
          "execution_count": 10
        }
      ]
    },
    {
      "cell_type": "code",
      "source": [
        "artifact = load_from_hub(\n",
        "    repo_id,\n",
        "    \"{}.zip\".format(model_name)\n",
        ")\n",
        "model = PPO.load(artifact)"
      ],
      "metadata": {
        "colab": {
          "base_uri": "https://localhost:8080/",
          "height": 49,
          "referenced_widgets": [
            "d41b391f5b6144ac8b5bea982461da84",
            "6194a681e0ca4ef2b540fb4204603b45",
            "4b57fff38bc14d5d99911f6c0b0bc002",
            "e11b2d7948f4400a944b3b6a7034a8f9",
            "7cb7a80ff1794be792d8bbd3f90493f0",
            "5daf5131861b4e5f8fac3143b762999f",
            "1287753cd4084d69914b579ebd19b263",
            "cdad8484ae8941639f8e59a4e518f2f8",
            "0447479d125444eb8ba2ff8434f684ba",
            "a92d2801a67e4344b5105bb08c1a8bf8",
            "4ef1a999f4664b4f80821f6123564fa9"
          ]
        },
        "id": "jvV6vwAW2ZMj",
        "outputId": "973a56aa-ead2-47de-ca4f-69ee2569cd6a"
      },
      "execution_count": 10,
      "outputs": [
        {
          "output_type": "display_data",
          "data": {
            "text/plain": [
              "ppo-LunarLander-v2.zip:   0%|          | 0.00/148k [00:00<?, ?B/s]"
            ],
            "application/vnd.jupyter.widget-view+json": {
              "version_major": 2,
              "version_minor": 0,
              "model_id": "d41b391f5b6144ac8b5bea982461da84"
            }
          },
          "metadata": {}
        }
      ]
    },
    {
      "cell_type": "code",
      "execution_count": 11,
      "metadata": {
        "colab": {
          "base_uri": "https://localhost:8080/",
          "height": 548
        },
        "id": "Ies8zJUfvwf7",
        "outputId": "113051de-d9c5-44b3-ce47-4d6f0a2fc088"
      },
      "outputs": [
        {
          "output_type": "stream",
          "name": "stderr",
          "text": [
            "/usr/local/lib/python3.10/dist-packages/gym/core.py:317: DeprecationWarning: \u001b[33mWARN: Initializing wrapper in old step API which returns one bool instead of two. It is recommended to set `new_step_api=True` to use new step API. This will be the default behaviour in future.\u001b[0m\n",
            "  deprecation(\n",
            "/usr/local/lib/python3.10/dist-packages/gym/wrappers/record_video.py:78: UserWarning: \u001b[33mWARN: Overwriting existing videos at /content/video folder (try specifying a different `video_folder` for the `RecordVideo` wrapper if this is not desired)\u001b[0m\n",
            "  logger.warn(\n",
            "/usr/local/lib/python3.10/dist-packages/gymnasium/core.py:311: UserWarning: \u001b[33mWARN: env.is_vector_env to get variables from other wrappers is deprecated and will be removed in v1.0, to get this variable you can do `env.unwrapped.is_vector_env` for environment variables or `env.get_wrapper_attr('is_vector_env')` that will search the reminding wrappers.\u001b[0m\n",
            "  logger.warn(\n"
          ]
        },
        {
          "output_type": "display_data",
          "data": {
            "text/plain": [
              "<IPython.core.display.HTML object>"
            ],
            "text/html": [
              "<video alt=\"test\" autoplay\n",
              "                loop controls style=\"height: 400px;\">\n",
              "                <source src=\"data:video/mp4;base64,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\" type=\"video/mp4\" />\n",
              "             </video>"
            ]
          },
          "metadata": {}
        }
      ],
      "source": [
        "env = make_env()\n",
        "record_env = RecordVideo(env, './video')\n",
        "obs, info = record_env.reset()\n",
        "terminated = False\n",
        "while not terminated:\n",
        "    action, _ = model.predict(obs, deterministic=True)\n",
        "    obs, reward, terminated, info = record_env.step(action)\n",
        "record_env.close()\n",
        "show_video()"
      ]
    },
    {
      "cell_type": "code",
      "execution_count": null,
      "metadata": {
        "id": "3fLL_Iwhw03Q"
      },
      "outputs": [],
      "source": []
    }
  ],
  "metadata": {
    "accelerator": "GPU",
    "colab": {
      "provenance": [],
      "toc_visible": true,
      "mount_file_id": "1PWzTL5DbXzahqj-o3PKkgHu_gXt_l06p",
      "authorship_tag": "ABX9TyM8atyRSg24/z6n3WCQ76j7",
      "include_colab_link": true
    },
    "kernelspec": {
      "display_name": "Python 3",
      "name": "python3"
    },
    "language_info": {
      "name": "python"
    },
    "widgets": {
      "application/vnd.jupyter.widget-state+json": {
        "fb899e0a5799485cb4804f30ae9841ec": {
          "model_module": "@jupyter-widgets/controls",
          "model_name": "VBoxModel",
          "model_module_version": "1.5.0",
          "state": {
            "_dom_classes": [],
            "_model_module": "@jupyter-widgets/controls",
            "_model_module_version": "1.5.0",
            "_model_name": "VBoxModel",
            "_view_count": null,
            "_view_module": "@jupyter-widgets/controls",
            "_view_module_version": "1.5.0",
            "_view_name": "VBoxView",
            "box_style": "",
            "children": [
              "IPY_MODEL_8ad584f1f04541e4ae422d7407f714e5",
              "IPY_MODEL_96c2ff49321c4e5ba07099d89935e163",
              "IPY_MODEL_3e5cca2851404bd1ab5696733c0582ab",
              "IPY_MODEL_2db080d3563b42baa0a96f8028a1d948"
            ],
            "layout": "IPY_MODEL_d1662d4071d94112a74db8e362422834"
          }
        },
        "95e7265a2887458e9091cd9b2ab453a9": {
          "model_module": "@jupyter-widgets/controls",
          "model_name": "HTMLModel",
          "model_module_version": "1.5.0",
          "state": {
            "_dom_classes": [],
            "_model_module": "@jupyter-widgets/controls",
            "_model_module_version": "1.5.0",
            "_model_name": "HTMLModel",
            "_view_count": null,
            "_view_module": "@jupyter-widgets/controls",
            "_view_module_version": "1.5.0",
            "_view_name": "HTMLView",
            "description": "",
            "description_tooltip": null,
            "layout": "IPY_MODEL_f2ce4cdf4cb24772832d7ff45a27d9f1",
            "placeholder": "​",
            "style": "IPY_MODEL_9741c66a3d9047f9b462a519630f4c77",
            "value": "<center> <img\nsrc=https://huggingface.co/front/assets/huggingface_logo-noborder.svg\nalt='Hugging Face'> <br> Copy a token from <a\nhref=\"https://huggingface.co/settings/tokens\" target=\"_blank\">your Hugging Face\ntokens page</a> and paste it below. <br> Immediately click login after copying\nyour token or it might be stored in plain text in this notebook file. </center>"
          }
        },
        "bb70ee583ce54db0a131564c95993e18": {
          "model_module": "@jupyter-widgets/controls",
          "model_name": "PasswordModel",
          "model_module_version": "1.5.0",
          "state": {
            "_dom_classes": [],
            "_model_module": "@jupyter-widgets/controls",
            "_model_module_version": "1.5.0",
            "_model_name": "PasswordModel",
            "_view_count": null,
            "_view_module": "@jupyter-widgets/controls",
            "_view_module_version": "1.5.0",
            "_view_name": "PasswordView",
            "continuous_update": true,
            "description": "Token:",
            "description_tooltip": null,
            "disabled": false,
            "layout": "IPY_MODEL_3f82b36507ab458d860d6a10a0f17294",
            "placeholder": "​",
            "style": "IPY_MODEL_2c619275a70e4ac1ba3d6f01501f7fd4",
            "value": ""
          }
        },
        "718fc7fd4dd945668ea01122bab88b78": {
          "model_module": "@jupyter-widgets/controls",
          "model_name": "CheckboxModel",
          "model_module_version": "1.5.0",
          "state": {
            "_dom_classes": [],
            "_model_module": "@jupyter-widgets/controls",
            "_model_module_version": "1.5.0",
            "_model_name": "CheckboxModel",
            "_view_count": null,
            "_view_module": "@jupyter-widgets/controls",
            "_view_module_version": "1.5.0",
            "_view_name": "CheckboxView",
            "description": "Add token as git credential?",
            "description_tooltip": null,
            "disabled": false,
            "indent": true,
            "layout": "IPY_MODEL_d320ee316b424f5796f524f56e8ef939",
            "style": "IPY_MODEL_ccbf0c731f9943be937f04e9ecdb5a38",
            "value": true
          }
        },
        "5c725bcab34d4b5db3781a955f84272a": {
          "model_module": "@jupyter-widgets/controls",
          "model_name": "ButtonModel",
          "model_module_version": "1.5.0",
          "state": {
            "_dom_classes": [],
            "_model_module": "@jupyter-widgets/controls",
            "_model_module_version": "1.5.0",
            "_model_name": "ButtonModel",
            "_view_count": null,
            "_view_module": "@jupyter-widgets/controls",
            "_view_module_version": "1.5.0",
            "_view_name": "ButtonView",
            "button_style": "",
            "description": "Login",
            "disabled": false,
            "icon": "",
            "layout": "IPY_MODEL_4b71ca78d47e4244ade9346adc8e4d4c",
            "style": "IPY_MODEL_fea9bbfec9e047da971d28ebf15ec9e7",
            "tooltip": ""
          }
        },
        "b737df6ec8184e57a6a1d48d76d91b18": {
          "model_module": "@jupyter-widgets/controls",
          "model_name": "HTMLModel",
          "model_module_version": "1.5.0",
          "state": {
            "_dom_classes": [],
            "_model_module": "@jupyter-widgets/controls",
            "_model_module_version": "1.5.0",
            "_model_name": "HTMLModel",
            "_view_count": null,
            "_view_module": "@jupyter-widgets/controls",
            "_view_module_version": "1.5.0",
            "_view_name": "HTMLView",
            "description": "",
            "description_tooltip": null,
            "layout": "IPY_MODEL_01f68f694c1945d0a581eaf776a5fde2",
            "placeholder": "​",
            "style": "IPY_MODEL_c81c2fa8ce774e29a5e117f990bd10d2",
            "value": "\n<b>Pro Tip:</b> If you don't already have one, you can create a dedicated\n'notebooks' token with 'write' access, that you can then easily reuse for all\nnotebooks. </center>"
          }
        },
        "d1662d4071d94112a74db8e362422834": {
          "model_module": "@jupyter-widgets/base",
          "model_name": "LayoutModel",
          "model_module_version": "1.2.0",
          "state": {
            "_model_module": "@jupyter-widgets/base",
            "_model_module_version": "1.2.0",
            "_model_name": "LayoutModel",
            "_view_count": null,
            "_view_module": "@jupyter-widgets/base",
            "_view_module_version": "1.2.0",
            "_view_name": "LayoutView",
            "align_content": null,
            "align_items": "center",
            "align_self": null,
            "border": null,
            "bottom": null,
            "display": "flex",
            "flex": null,
            "flex_flow": "column",
            "grid_area": null,
            "grid_auto_columns": null,
            "grid_auto_flow": null,
            "grid_auto_rows": null,
            "grid_column": null,
            "grid_gap": null,
            "grid_row": null,
            "grid_template_areas": null,
            "grid_template_columns": null,
            "grid_template_rows": null,
            "height": null,
            "justify_content": null,
            "justify_items": null,
            "left": null,
            "margin": null,
            "max_height": null,
            "max_width": null,
            "min_height": null,
            "min_width": null,
            "object_fit": null,
            "object_position": null,
            "order": null,
            "overflow": null,
            "overflow_x": null,
            "overflow_y": null,
            "padding": null,
            "right": null,
            "top": null,
            "visibility": null,
            "width": "50%"
          }
        },
        "f2ce4cdf4cb24772832d7ff45a27d9f1": {
          "model_module": "@jupyter-widgets/base",
          "model_name": "LayoutModel",
          "model_module_version": "1.2.0",
          "state": {
            "_model_module": "@jupyter-widgets/base",
            "_model_module_version": "1.2.0",
            "_model_name": "LayoutModel",
            "_view_count": null,
            "_view_module": "@jupyter-widgets/base",
            "_view_module_version": "1.2.0",
            "_view_name": "LayoutView",
            "align_content": null,
            "align_items": null,
            "align_self": null,
            "border": null,
            "bottom": null,
            "display": null,
            "flex": null,
            "flex_flow": null,
            "grid_area": null,
            "grid_auto_columns": null,
            "grid_auto_flow": null,
            "grid_auto_rows": null,
            "grid_column": null,
            "grid_gap": null,
            "grid_row": null,
            "grid_template_areas": null,
            "grid_template_columns": null,
            "grid_template_rows": null,
            "height": null,
            "justify_content": null,
            "justify_items": null,
            "left": null,
            "margin": null,
            "max_height": null,
            "max_width": null,
            "min_height": null,
            "min_width": null,
            "object_fit": null,
            "object_position": null,
            "order": null,
            "overflow": null,
            "overflow_x": null,
            "overflow_y": null,
            "padding": null,
            "right": null,
            "top": null,
            "visibility": null,
            "width": null
          }
        },
        "9741c66a3d9047f9b462a519630f4c77": {
          "model_module": "@jupyter-widgets/controls",
          "model_name": "DescriptionStyleModel",
          "model_module_version": "1.5.0",
          "state": {
            "_model_module": "@jupyter-widgets/controls",
            "_model_module_version": "1.5.0",
            "_model_name": "DescriptionStyleModel",
            "_view_count": null,
            "_view_module": "@jupyter-widgets/base",
            "_view_module_version": "1.2.0",
            "_view_name": "StyleView",
            "description_width": ""
          }
        },
        "3f82b36507ab458d860d6a10a0f17294": {
          "model_module": "@jupyter-widgets/base",
          "model_name": "LayoutModel",
          "model_module_version": "1.2.0",
          "state": {
            "_model_module": "@jupyter-widgets/base",
            "_model_module_version": "1.2.0",
            "_model_name": "LayoutModel",
            "_view_count": null,
            "_view_module": "@jupyter-widgets/base",
            "_view_module_version": "1.2.0",
            "_view_name": "LayoutView",
            "align_content": null,
            "align_items": null,
            "align_self": null,
            "border": null,
            "bottom": null,
            "display": null,
            "flex": null,
            "flex_flow": null,
            "grid_area": null,
            "grid_auto_columns": null,
            "grid_auto_flow": null,
            "grid_auto_rows": null,
            "grid_column": null,
            "grid_gap": null,
            "grid_row": null,
            "grid_template_areas": null,
            "grid_template_columns": null,
            "grid_template_rows": null,
            "height": null,
            "justify_content": null,
            "justify_items": null,
            "left": null,
            "margin": null,
            "max_height": null,
            "max_width": null,
            "min_height": null,
            "min_width": null,
            "object_fit": null,
            "object_position": null,
            "order": null,
            "overflow": null,
            "overflow_x": null,
            "overflow_y": null,
            "padding": null,
            "right": null,
            "top": null,
            "visibility": null,
            "width": null
          }
        },
        "2c619275a70e4ac1ba3d6f01501f7fd4": {
          "model_module": "@jupyter-widgets/controls",
          "model_name": "DescriptionStyleModel",
          "model_module_version": "1.5.0",
          "state": {
            "_model_module": "@jupyter-widgets/controls",
            "_model_module_version": "1.5.0",
            "_model_name": "DescriptionStyleModel",
            "_view_count": null,
            "_view_module": "@jupyter-widgets/base",
            "_view_module_version": "1.2.0",
            "_view_name": "StyleView",
            "description_width": ""
          }
        },
        "d320ee316b424f5796f524f56e8ef939": {
          "model_module": "@jupyter-widgets/base",
          "model_name": "LayoutModel",
          "model_module_version": "1.2.0",
          "state": {
            "_model_module": "@jupyter-widgets/base",
            "_model_module_version": "1.2.0",
            "_model_name": "LayoutModel",
            "_view_count": null,
            "_view_module": "@jupyter-widgets/base",
            "_view_module_version": "1.2.0",
            "_view_name": "LayoutView",
            "align_content": null,
            "align_items": null,
            "align_self": null,
            "border": null,
            "bottom": null,
            "display": null,
            "flex": null,
            "flex_flow": null,
            "grid_area": null,
            "grid_auto_columns": null,
            "grid_auto_flow": null,
            "grid_auto_rows": null,
            "grid_column": null,
            "grid_gap": null,
            "grid_row": null,
            "grid_template_areas": null,
            "grid_template_columns": null,
            "grid_template_rows": null,
            "height": null,
            "justify_content": null,
            "justify_items": null,
            "left": null,
            "margin": null,
            "max_height": null,
            "max_width": null,
            "min_height": null,
            "min_width": null,
            "object_fit": null,
            "object_position": null,
            "order": null,
            "overflow": null,
            "overflow_x": null,
            "overflow_y": null,
            "padding": null,
            "right": null,
            "top": null,
            "visibility": null,
            "width": null
          }
        },
        "ccbf0c731f9943be937f04e9ecdb5a38": {
          "model_module": "@jupyter-widgets/controls",
          "model_name": "DescriptionStyleModel",
          "model_module_version": "1.5.0",
          "state": {
            "_model_module": "@jupyter-widgets/controls",
            "_model_module_version": "1.5.0",
            "_model_name": "DescriptionStyleModel",
            "_view_count": null,
            "_view_module": "@jupyter-widgets/base",
            "_view_module_version": "1.2.0",
            "_view_name": "StyleView",
            "description_width": ""
          }
        },
        "4b71ca78d47e4244ade9346adc8e4d4c": {
          "model_module": "@jupyter-widgets/base",
          "model_name": "LayoutModel",
          "model_module_version": "1.2.0",
          "state": {
            "_model_module": "@jupyter-widgets/base",
            "_model_module_version": "1.2.0",
            "_model_name": "LayoutModel",
            "_view_count": null,
            "_view_module": "@jupyter-widgets/base",
            "_view_module_version": "1.2.0",
            "_view_name": "LayoutView",
            "align_content": null,
            "align_items": null,
            "align_self": null,
            "border": null,
            "bottom": null,
            "display": null,
            "flex": null,
            "flex_flow": null,
            "grid_area": null,
            "grid_auto_columns": null,
            "grid_auto_flow": null,
            "grid_auto_rows": null,
            "grid_column": null,
            "grid_gap": null,
            "grid_row": null,
            "grid_template_areas": null,
            "grid_template_columns": null,
            "grid_template_rows": null,
            "height": null,
            "justify_content": null,
            "justify_items": null,
            "left": null,
            "margin": null,
            "max_height": null,
            "max_width": null,
            "min_height": null,
            "min_width": null,
            "object_fit": null,
            "object_position": null,
            "order": null,
            "overflow": null,
            "overflow_x": null,
            "overflow_y": null,
            "padding": null,
            "right": null,
            "top": null,
            "visibility": null,
            "width": null
          }
        },
        "fea9bbfec9e047da971d28ebf15ec9e7": {
          "model_module": "@jupyter-widgets/controls",
          "model_name": "ButtonStyleModel",
          "model_module_version": "1.5.0",
          "state": {
            "_model_module": "@jupyter-widgets/controls",
            "_model_module_version": "1.5.0",
            "_model_name": "ButtonStyleModel",
            "_view_count": null,
            "_view_module": "@jupyter-widgets/base",
            "_view_module_version": "1.2.0",
            "_view_name": "StyleView",
            "button_color": null,
            "font_weight": ""
          }
        },
        "01f68f694c1945d0a581eaf776a5fde2": {
          "model_module": "@jupyter-widgets/base",
          "model_name": "LayoutModel",
          "model_module_version": "1.2.0",
          "state": {
            "_model_module": "@jupyter-widgets/base",
            "_model_module_version": "1.2.0",
            "_model_name": "LayoutModel",
            "_view_count": null,
            "_view_module": "@jupyter-widgets/base",
            "_view_module_version": "1.2.0",
            "_view_name": "LayoutView",
            "align_content": null,
            "align_items": null,
            "align_self": null,
            "border": null,
            "bottom": null,
            "display": null,
            "flex": null,
            "flex_flow": null,
            "grid_area": null,
            "grid_auto_columns": null,
            "grid_auto_flow": null,
            "grid_auto_rows": null,
            "grid_column": null,
            "grid_gap": null,
            "grid_row": null,
            "grid_template_areas": null,
            "grid_template_columns": null,
            "grid_template_rows": null,
            "height": null,
            "justify_content": null,
            "justify_items": null,
            "left": null,
            "margin": null,
            "max_height": null,
            "max_width": null,
            "min_height": null,
            "min_width": null,
            "object_fit": null,
            "object_position": null,
            "order": null,
            "overflow": null,
            "overflow_x": null,
            "overflow_y": null,
            "padding": null,
            "right": null,
            "top": null,
            "visibility": null,
            "width": null
          }
        },
        "c81c2fa8ce774e29a5e117f990bd10d2": {
          "model_module": "@jupyter-widgets/controls",
          "model_name": "DescriptionStyleModel",
          "model_module_version": "1.5.0",
          "state": {
            "_model_module": "@jupyter-widgets/controls",
            "_model_module_version": "1.5.0",
            "_model_name": "DescriptionStyleModel",
            "_view_count": null,
            "_view_module": "@jupyter-widgets/base",
            "_view_module_version": "1.2.0",
            "_view_name": "StyleView",
            "description_width": ""
          }
        },
        "11c5ed8a1ff448a7ab7ee9b2794bdff8": {
          "model_module": "@jupyter-widgets/controls",
          "model_name": "LabelModel",
          "model_module_version": "1.5.0",
          "state": {
            "_dom_classes": [],
            "_model_module": "@jupyter-widgets/controls",
            "_model_module_version": "1.5.0",
            "_model_name": "LabelModel",
            "_view_count": null,
            "_view_module": "@jupyter-widgets/controls",
            "_view_module_version": "1.5.0",
            "_view_name": "LabelView",
            "description": "",
            "description_tooltip": null,
            "layout": "IPY_MODEL_3abca505b8064e22a58a6fff0e2bb1f1",
            "placeholder": "​",
            "style": "IPY_MODEL_88c43e275e9642b9b4afa44ca7d4ce06",
            "value": "Connecting..."
          }
        },
        "3abca505b8064e22a58a6fff0e2bb1f1": {
          "model_module": "@jupyter-widgets/base",
          "model_name": "LayoutModel",
          "model_module_version": "1.2.0",
          "state": {
            "_model_module": "@jupyter-widgets/base",
            "_model_module_version": "1.2.0",
            "_model_name": "LayoutModel",
            "_view_count": null,
            "_view_module": "@jupyter-widgets/base",
            "_view_module_version": "1.2.0",
            "_view_name": "LayoutView",
            "align_content": null,
            "align_items": null,
            "align_self": null,
            "border": null,
            "bottom": null,
            "display": null,
            "flex": null,
            "flex_flow": null,
            "grid_area": null,
            "grid_auto_columns": null,
            "grid_auto_flow": null,
            "grid_auto_rows": null,
            "grid_column": null,
            "grid_gap": null,
            "grid_row": null,
            "grid_template_areas": null,
            "grid_template_columns": null,
            "grid_template_rows": null,
            "height": null,
            "justify_content": null,
            "justify_items": null,
            "left": null,
            "margin": null,
            "max_height": null,
            "max_width": null,
            "min_height": null,
            "min_width": null,
            "object_fit": null,
            "object_position": null,
            "order": null,
            "overflow": null,
            "overflow_x": null,
            "overflow_y": null,
            "padding": null,
            "right": null,
            "top": null,
            "visibility": null,
            "width": null
          }
        },
        "88c43e275e9642b9b4afa44ca7d4ce06": {
          "model_module": "@jupyter-widgets/controls",
          "model_name": "DescriptionStyleModel",
          "model_module_version": "1.5.0",
          "state": {
            "_model_module": "@jupyter-widgets/controls",
            "_model_module_version": "1.5.0",
            "_model_name": "DescriptionStyleModel",
            "_view_count": null,
            "_view_module": "@jupyter-widgets/base",
            "_view_module_version": "1.2.0",
            "_view_name": "StyleView",
            "description_width": ""
          }
        },
        "8ad584f1f04541e4ae422d7407f714e5": {
          "model_module": "@jupyter-widgets/controls",
          "model_name": "LabelModel",
          "model_module_version": "1.5.0",
          "state": {
            "_dom_classes": [],
            "_model_module": "@jupyter-widgets/controls",
            "_model_module_version": "1.5.0",
            "_model_name": "LabelModel",
            "_view_count": null,
            "_view_module": "@jupyter-widgets/controls",
            "_view_module_version": "1.5.0",
            "_view_name": "LabelView",
            "description": "",
            "description_tooltip": null,
            "layout": "IPY_MODEL_96789c63c95d4f4e846c75c7ba33b533",
            "placeholder": "​",
            "style": "IPY_MODEL_5cc0ccff00f24de9bb2792346058397f",
            "value": "Token is valid (permission: write)."
          }
        },
        "96c2ff49321c4e5ba07099d89935e163": {
          "model_module": "@jupyter-widgets/controls",
          "model_name": "LabelModel",
          "model_module_version": "1.5.0",
          "state": {
            "_dom_classes": [],
            "_model_module": "@jupyter-widgets/controls",
            "_model_module_version": "1.5.0",
            "_model_name": "LabelModel",
            "_view_count": null,
            "_view_module": "@jupyter-widgets/controls",
            "_view_module_version": "1.5.0",
            "_view_name": "LabelView",
            "description": "",
            "description_tooltip": null,
            "layout": "IPY_MODEL_ff2467f292cb416aa08bf139bc4baa59",
            "placeholder": "​",
            "style": "IPY_MODEL_67a04ce135544cf6948fe8c5e3e835cd",
            "value": "Your token has been saved in your configured git credential helpers (store)."
          }
        },
        "3e5cca2851404bd1ab5696733c0582ab": {
          "model_module": "@jupyter-widgets/controls",
          "model_name": "LabelModel",
          "model_module_version": "1.5.0",
          "state": {
            "_dom_classes": [],
            "_model_module": "@jupyter-widgets/controls",
            "_model_module_version": "1.5.0",
            "_model_name": "LabelModel",
            "_view_count": null,
            "_view_module": "@jupyter-widgets/controls",
            "_view_module_version": "1.5.0",
            "_view_name": "LabelView",
            "description": "",
            "description_tooltip": null,
            "layout": "IPY_MODEL_6efbc71ea5dd4f6a9147952e0cfbcd57",
            "placeholder": "​",
            "style": "IPY_MODEL_65003f88b85040f5b4dbfaba076836e5",
            "value": "Your token has been saved to /root/.cache/huggingface/token"
          }
        },
        "2db080d3563b42baa0a96f8028a1d948": {
          "model_module": "@jupyter-widgets/controls",
          "model_name": "LabelModel",
          "model_module_version": "1.5.0",
          "state": {
            "_dom_classes": [],
            "_model_module": "@jupyter-widgets/controls",
            "_model_module_version": "1.5.0",
            "_model_name": "LabelModel",
            "_view_count": null,
            "_view_module": "@jupyter-widgets/controls",
            "_view_module_version": "1.5.0",
            "_view_name": "LabelView",
            "description": "",
            "description_tooltip": null,
            "layout": "IPY_MODEL_87bac28c2c6a475a909aa556490b4193",
            "placeholder": "​",
            "style": "IPY_MODEL_a49351440e024833ac5dc10f5afe0a8f",
            "value": "Login successful"
          }
        },
        "96789c63c95d4f4e846c75c7ba33b533": {
          "model_module": "@jupyter-widgets/base",
          "model_name": "LayoutModel",
          "model_module_version": "1.2.0",
          "state": {
            "_model_module": "@jupyter-widgets/base",
            "_model_module_version": "1.2.0",
            "_model_name": "LayoutModel",
            "_view_count": null,
            "_view_module": "@jupyter-widgets/base",
            "_view_module_version": "1.2.0",
            "_view_name": "LayoutView",
            "align_content": null,
            "align_items": null,
            "align_self": null,
            "border": null,
            "bottom": null,
            "display": null,
            "flex": null,
            "flex_flow": null,
            "grid_area": null,
            "grid_auto_columns": null,
            "grid_auto_flow": null,
            "grid_auto_rows": null,
            "grid_column": null,
            "grid_gap": null,
            "grid_row": null,
            "grid_template_areas": null,
            "grid_template_columns": null,
            "grid_template_rows": null,
            "height": null,
            "justify_content": null,
            "justify_items": null,
            "left": null,
            "margin": null,
            "max_height": null,
            "max_width": null,
            "min_height": null,
            "min_width": null,
            "object_fit": null,
            "object_position": null,
            "order": null,
            "overflow": null,
            "overflow_x": null,
            "overflow_y": null,
            "padding": null,
            "right": null,
            "top": null,
            "visibility": null,
            "width": null
          }
        },
        "5cc0ccff00f24de9bb2792346058397f": {
          "model_module": "@jupyter-widgets/controls",
          "model_name": "DescriptionStyleModel",
          "model_module_version": "1.5.0",
          "state": {
            "_model_module": "@jupyter-widgets/controls",
            "_model_module_version": "1.5.0",
            "_model_name": "DescriptionStyleModel",
            "_view_count": null,
            "_view_module": "@jupyter-widgets/base",
            "_view_module_version": "1.2.0",
            "_view_name": "StyleView",
            "description_width": ""
          }
        },
        "ff2467f292cb416aa08bf139bc4baa59": {
          "model_module": "@jupyter-widgets/base",
          "model_name": "LayoutModel",
          "model_module_version": "1.2.0",
          "state": {
            "_model_module": "@jupyter-widgets/base",
            "_model_module_version": "1.2.0",
            "_model_name": "LayoutModel",
            "_view_count": null,
            "_view_module": "@jupyter-widgets/base",
            "_view_module_version": "1.2.0",
            "_view_name": "LayoutView",
            "align_content": null,
            "align_items": null,
            "align_self": null,
            "border": null,
            "bottom": null,
            "display": null,
            "flex": null,
            "flex_flow": null,
            "grid_area": null,
            "grid_auto_columns": null,
            "grid_auto_flow": null,
            "grid_auto_rows": null,
            "grid_column": null,
            "grid_gap": null,
            "grid_row": null,
            "grid_template_areas": null,
            "grid_template_columns": null,
            "grid_template_rows": null,
            "height": null,
            "justify_content": null,
            "justify_items": null,
            "left": null,
            "margin": null,
            "max_height": null,
            "max_width": null,
            "min_height": null,
            "min_width": null,
            "object_fit": null,
            "object_position": null,
            "order": null,
            "overflow": null,
            "overflow_x": null,
            "overflow_y": null,
            "padding": null,
            "right": null,
            "top": null,
            "visibility": null,
            "width": null
          }
        },
        "67a04ce135544cf6948fe8c5e3e835cd": {
          "model_module": "@jupyter-widgets/controls",
          "model_name": "DescriptionStyleModel",
          "model_module_version": "1.5.0",
          "state": {
            "_model_module": "@jupyter-widgets/controls",
            "_model_module_version": "1.5.0",
            "_model_name": "DescriptionStyleModel",
            "_view_count": null,
            "_view_module": "@jupyter-widgets/base",
            "_view_module_version": "1.2.0",
            "_view_name": "StyleView",
            "description_width": ""
          }
        },
        "6efbc71ea5dd4f6a9147952e0cfbcd57": {
          "model_module": "@jupyter-widgets/base",
          "model_name": "LayoutModel",
          "model_module_version": "1.2.0",
          "state": {
            "_model_module": "@jupyter-widgets/base",
            "_model_module_version": "1.2.0",
            "_model_name": "LayoutModel",
            "_view_count": null,
            "_view_module": "@jupyter-widgets/base",
            "_view_module_version": "1.2.0",
            "_view_name": "LayoutView",
            "align_content": null,
            "align_items": null,
            "align_self": null,
            "border": null,
            "bottom": null,
            "display": null,
            "flex": null,
            "flex_flow": null,
            "grid_area": null,
            "grid_auto_columns": null,
            "grid_auto_flow": null,
            "grid_auto_rows": null,
            "grid_column": null,
            "grid_gap": null,
            "grid_row": null,
            "grid_template_areas": null,
            "grid_template_columns": null,
            "grid_template_rows": null,
            "height": null,
            "justify_content": null,
            "justify_items": null,
            "left": null,
            "margin": null,
            "max_height": null,
            "max_width": null,
            "min_height": null,
            "min_width": null,
            "object_fit": null,
            "object_position": null,
            "order": null,
            "overflow": null,
            "overflow_x": null,
            "overflow_y": null,
            "padding": null,
            "right": null,
            "top": null,
            "visibility": null,
            "width": null
          }
        },
        "65003f88b85040f5b4dbfaba076836e5": {
          "model_module": "@jupyter-widgets/controls",
          "model_name": "DescriptionStyleModel",
          "model_module_version": "1.5.0",
          "state": {
            "_model_module": "@jupyter-widgets/controls",
            "_model_module_version": "1.5.0",
            "_model_name": "DescriptionStyleModel",
            "_view_count": null,
            "_view_module": "@jupyter-widgets/base",
            "_view_module_version": "1.2.0",
            "_view_name": "StyleView",
            "description_width": ""
          }
        },
        "87bac28c2c6a475a909aa556490b4193": {
          "model_module": "@jupyter-widgets/base",
          "model_name": "LayoutModel",
          "model_module_version": "1.2.0",
          "state": {
            "_model_module": "@jupyter-widgets/base",
            "_model_module_version": "1.2.0",
            "_model_name": "LayoutModel",
            "_view_count": null,
            "_view_module": "@jupyter-widgets/base",
            "_view_module_version": "1.2.0",
            "_view_name": "LayoutView",
            "align_content": null,
            "align_items": null,
            "align_self": null,
            "border": null,
            "bottom": null,
            "display": null,
            "flex": null,
            "flex_flow": null,
            "grid_area": null,
            "grid_auto_columns": null,
            "grid_auto_flow": null,
            "grid_auto_rows": null,
            "grid_column": null,
            "grid_gap": null,
            "grid_row": null,
            "grid_template_areas": null,
            "grid_template_columns": null,
            "grid_template_rows": null,
            "height": null,
            "justify_content": null,
            "justify_items": null,
            "left": null,
            "margin": null,
            "max_height": null,
            "max_width": null,
            "min_height": null,
            "min_width": null,
            "object_fit": null,
            "object_position": null,
            "order": null,
            "overflow": null,
            "overflow_x": null,
            "overflow_y": null,
            "padding": null,
            "right": null,
            "top": null,
            "visibility": null,
            "width": null
          }
        },
        "a49351440e024833ac5dc10f5afe0a8f": {
          "model_module": "@jupyter-widgets/controls",
          "model_name": "DescriptionStyleModel",
          "model_module_version": "1.5.0",
          "state": {
            "_model_module": "@jupyter-widgets/controls",
            "_model_module_version": "1.5.0",
            "_model_name": "DescriptionStyleModel",
            "_view_count": null,
            "_view_module": "@jupyter-widgets/base",
            "_view_module_version": "1.2.0",
            "_view_name": "StyleView",
            "description_width": ""
          }
        },
        "5fd57a16bf594eed854361c05194b85f": {
          "model_module": "@jupyter-widgets/output",
          "model_name": "OutputModel",
          "model_module_version": "1.0.0",
          "state": {
            "_dom_classes": [],
            "_model_module": "@jupyter-widgets/output",
            "_model_module_version": "1.0.0",
            "_model_name": "OutputModel",
            "_view_count": null,
            "_view_module": "@jupyter-widgets/output",
            "_view_module_version": "1.0.0",
            "_view_name": "OutputView",
            "layout": "IPY_MODEL_af4d651d68594a9183fa55a03ee40369",
            "msg_id": "",
            "outputs": [
              {
                "output_type": "display_data",
                "data": {
                  "text/plain": "\u001b[35m  35%\u001b[0m \u001b[38;2;249;38;114m━━━━━━━━━━━━━━━━━━━\u001b[0m\u001b[38;2;249;38;114m╸\u001b[0m\u001b[38;5;237m━━━━━━━━━━━━━━━━━━━━━━━━━━━━━━━━━━━━━\u001b[0m \u001b[32m349,967/1,000,000 \u001b[0m [ \u001b[33m0:22:42\u001b[0m < \u001b[36m0:33:26\u001b[0m , \u001b[31m324 it/s\u001b[0m ]\n",
                  "text/html": "<pre style=\"white-space:pre;overflow-x:auto;line-height:normal;font-family:Menlo,'DejaVu Sans Mono',consolas,'Courier New',monospace\"><span style=\"color: #800080; text-decoration-color: #800080\">  35%</span> <span style=\"color: #f92672; text-decoration-color: #f92672\">━━━━━━━━━━━━━━━━━━━╸</span><span style=\"color: #3a3a3a; text-decoration-color: #3a3a3a\">━━━━━━━━━━━━━━━━━━━━━━━━━━━━━━━━━━━━━</span> <span style=\"color: #008000; text-decoration-color: #008000\">349,967/1,000,000 </span> [ <span style=\"color: #808000; text-decoration-color: #808000\">0:22:42</span> &lt; <span style=\"color: #008080; text-decoration-color: #008080\">0:33:26</span> , <span style=\"color: #800000; text-decoration-color: #800000\">324 it/s</span> ]\n</pre>\n"
                },
                "metadata": {}
              }
            ]
          }
        },
        "af4d651d68594a9183fa55a03ee40369": {
          "model_module": "@jupyter-widgets/base",
          "model_name": "LayoutModel",
          "model_module_version": "1.2.0",
          "state": {
            "_model_module": "@jupyter-widgets/base",
            "_model_module_version": "1.2.0",
            "_model_name": "LayoutModel",
            "_view_count": null,
            "_view_module": "@jupyter-widgets/base",
            "_view_module_version": "1.2.0",
            "_view_name": "LayoutView",
            "align_content": null,
            "align_items": null,
            "align_self": null,
            "border": null,
            "bottom": null,
            "display": null,
            "flex": null,
            "flex_flow": null,
            "grid_area": null,
            "grid_auto_columns": null,
            "grid_auto_flow": null,
            "grid_auto_rows": null,
            "grid_column": null,
            "grid_gap": null,
            "grid_row": null,
            "grid_template_areas": null,
            "grid_template_columns": null,
            "grid_template_rows": null,
            "height": null,
            "justify_content": null,
            "justify_items": null,
            "left": null,
            "margin": null,
            "max_height": null,
            "max_width": null,
            "min_height": null,
            "min_width": null,
            "object_fit": null,
            "object_position": null,
            "order": null,
            "overflow": null,
            "overflow_x": null,
            "overflow_y": null,
            "padding": null,
            "right": null,
            "top": null,
            "visibility": null,
            "width": null
          }
        },
        "3a38f0f53a844e31856a9272ab7cc221": {
          "model_module": "@jupyter-widgets/controls",
          "model_name": "HBoxModel",
          "model_module_version": "1.5.0",
          "state": {
            "_dom_classes": [],
            "_model_module": "@jupyter-widgets/controls",
            "_model_module_version": "1.5.0",
            "_model_name": "HBoxModel",
            "_view_count": null,
            "_view_module": "@jupyter-widgets/controls",
            "_view_module_version": "1.5.0",
            "_view_name": "HBoxView",
            "box_style": "",
            "children": [
              "IPY_MODEL_f1fe3bc5a1904bb9962d350841922b6a",
              "IPY_MODEL_8a719676320c4bf59450376735f3b2c5",
              "IPY_MODEL_7630ba0c7d35487f8e7a08b7d22cdf4d"
            ],
            "layout": "IPY_MODEL_d6c42869ef3b46f1a9231c7d33a4ec27"
          }
        },
        "f1fe3bc5a1904bb9962d350841922b6a": {
          "model_module": "@jupyter-widgets/controls",
          "model_name": "HTMLModel",
          "model_module_version": "1.5.0",
          "state": {
            "_dom_classes": [],
            "_model_module": "@jupyter-widgets/controls",
            "_model_module_version": "1.5.0",
            "_model_name": "HTMLModel",
            "_view_count": null,
            "_view_module": "@jupyter-widgets/controls",
            "_view_module_version": "1.5.0",
            "_view_name": "HTMLView",
            "description": "",
            "description_tooltip": null,
            "layout": "IPY_MODEL_02898a83fb2944d4b9d0ba6bff398f86",
            "placeholder": "​",
            "style": "IPY_MODEL_ff74c1b65c2646cea61101163acc3f11",
            "value": "policy.optimizer.pth: 100%"
          }
        },
        "8a719676320c4bf59450376735f3b2c5": {
          "model_module": "@jupyter-widgets/controls",
          "model_name": "FloatProgressModel",
          "model_module_version": "1.5.0",
          "state": {
            "_dom_classes": [],
            "_model_module": "@jupyter-widgets/controls",
            "_model_module_version": "1.5.0",
            "_model_name": "FloatProgressModel",
            "_view_count": null,
            "_view_module": "@jupyter-widgets/controls",
            "_view_module_version": "1.5.0",
            "_view_name": "ProgressView",
            "bar_style": "success",
            "description": "",
            "description_tooltip": null,
            "layout": "IPY_MODEL_319f73f6db8b4738bc27c37d1bc5b6f8",
            "max": 297770,
            "min": 0,
            "orientation": "horizontal",
            "style": "IPY_MODEL_f903a9bb33854d37bd51c549fbd3538a",
            "value": 297770
          }
        },
        "7630ba0c7d35487f8e7a08b7d22cdf4d": {
          "model_module": "@jupyter-widgets/controls",
          "model_name": "HTMLModel",
          "model_module_version": "1.5.0",
          "state": {
            "_dom_classes": [],
            "_model_module": "@jupyter-widgets/controls",
            "_model_module_version": "1.5.0",
            "_model_name": "HTMLModel",
            "_view_count": null,
            "_view_module": "@jupyter-widgets/controls",
            "_view_module_version": "1.5.0",
            "_view_name": "HTMLView",
            "description": "",
            "description_tooltip": null,
            "layout": "IPY_MODEL_50d12b08a70b447da070e1b1fd0c9217",
            "placeholder": "​",
            "style": "IPY_MODEL_bc920d34a1dd4a39824b90f4eba50131",
            "value": " 298k/298k [00:00&lt;00:00, 34.1kB/s]"
          }
        },
        "d6c42869ef3b46f1a9231c7d33a4ec27": {
          "model_module": "@jupyter-widgets/base",
          "model_name": "LayoutModel",
          "model_module_version": "1.2.0",
          "state": {
            "_model_module": "@jupyter-widgets/base",
            "_model_module_version": "1.2.0",
            "_model_name": "LayoutModel",
            "_view_count": null,
            "_view_module": "@jupyter-widgets/base",
            "_view_module_version": "1.2.0",
            "_view_name": "LayoutView",
            "align_content": null,
            "align_items": null,
            "align_self": null,
            "border": null,
            "bottom": null,
            "display": null,
            "flex": null,
            "flex_flow": null,
            "grid_area": null,
            "grid_auto_columns": null,
            "grid_auto_flow": null,
            "grid_auto_rows": null,
            "grid_column": null,
            "grid_gap": null,
            "grid_row": null,
            "grid_template_areas": null,
            "grid_template_columns": null,
            "grid_template_rows": null,
            "height": null,
            "justify_content": null,
            "justify_items": null,
            "left": null,
            "margin": null,
            "max_height": null,
            "max_width": null,
            "min_height": null,
            "min_width": null,
            "object_fit": null,
            "object_position": null,
            "order": null,
            "overflow": null,
            "overflow_x": null,
            "overflow_y": null,
            "padding": null,
            "right": null,
            "top": null,
            "visibility": null,
            "width": null
          }
        },
        "02898a83fb2944d4b9d0ba6bff398f86": {
          "model_module": "@jupyter-widgets/base",
          "model_name": "LayoutModel",
          "model_module_version": "1.2.0",
          "state": {
            "_model_module": "@jupyter-widgets/base",
            "_model_module_version": "1.2.0",
            "_model_name": "LayoutModel",
            "_view_count": null,
            "_view_module": "@jupyter-widgets/base",
            "_view_module_version": "1.2.0",
            "_view_name": "LayoutView",
            "align_content": null,
            "align_items": null,
            "align_self": null,
            "border": null,
            "bottom": null,
            "display": null,
            "flex": null,
            "flex_flow": null,
            "grid_area": null,
            "grid_auto_columns": null,
            "grid_auto_flow": null,
            "grid_auto_rows": null,
            "grid_column": null,
            "grid_gap": null,
            "grid_row": null,
            "grid_template_areas": null,
            "grid_template_columns": null,
            "grid_template_rows": null,
            "height": null,
            "justify_content": null,
            "justify_items": null,
            "left": null,
            "margin": null,
            "max_height": null,
            "max_width": null,
            "min_height": null,
            "min_width": null,
            "object_fit": null,
            "object_position": null,
            "order": null,
            "overflow": null,
            "overflow_x": null,
            "overflow_y": null,
            "padding": null,
            "right": null,
            "top": null,
            "visibility": null,
            "width": null
          }
        },
        "ff74c1b65c2646cea61101163acc3f11": {
          "model_module": "@jupyter-widgets/controls",
          "model_name": "DescriptionStyleModel",
          "model_module_version": "1.5.0",
          "state": {
            "_model_module": "@jupyter-widgets/controls",
            "_model_module_version": "1.5.0",
            "_model_name": "DescriptionStyleModel",
            "_view_count": null,
            "_view_module": "@jupyter-widgets/base",
            "_view_module_version": "1.2.0",
            "_view_name": "StyleView",
            "description_width": ""
          }
        },
        "319f73f6db8b4738bc27c37d1bc5b6f8": {
          "model_module": "@jupyter-widgets/base",
          "model_name": "LayoutModel",
          "model_module_version": "1.2.0",
          "state": {
            "_model_module": "@jupyter-widgets/base",
            "_model_module_version": "1.2.0",
            "_model_name": "LayoutModel",
            "_view_count": null,
            "_view_module": "@jupyter-widgets/base",
            "_view_module_version": "1.2.0",
            "_view_name": "LayoutView",
            "align_content": null,
            "align_items": null,
            "align_self": null,
            "border": null,
            "bottom": null,
            "display": null,
            "flex": null,
            "flex_flow": null,
            "grid_area": null,
            "grid_auto_columns": null,
            "grid_auto_flow": null,
            "grid_auto_rows": null,
            "grid_column": null,
            "grid_gap": null,
            "grid_row": null,
            "grid_template_areas": null,
            "grid_template_columns": null,
            "grid_template_rows": null,
            "height": null,
            "justify_content": null,
            "justify_items": null,
            "left": null,
            "margin": null,
            "max_height": null,
            "max_width": null,
            "min_height": null,
            "min_width": null,
            "object_fit": null,
            "object_position": null,
            "order": null,
            "overflow": null,
            "overflow_x": null,
            "overflow_y": null,
            "padding": null,
            "right": null,
            "top": null,
            "visibility": null,
            "width": null
          }
        },
        "f903a9bb33854d37bd51c549fbd3538a": {
          "model_module": "@jupyter-widgets/controls",
          "model_name": "ProgressStyleModel",
          "model_module_version": "1.5.0",
          "state": {
            "_model_module": "@jupyter-widgets/controls",
            "_model_module_version": "1.5.0",
            "_model_name": "ProgressStyleModel",
            "_view_count": null,
            "_view_module": "@jupyter-widgets/base",
            "_view_module_version": "1.2.0",
            "_view_name": "StyleView",
            "bar_color": null,
            "description_width": ""
          }
        },
        "50d12b08a70b447da070e1b1fd0c9217": {
          "model_module": "@jupyter-widgets/base",
          "model_name": "LayoutModel",
          "model_module_version": "1.2.0",
          "state": {
            "_model_module": "@jupyter-widgets/base",
            "_model_module_version": "1.2.0",
            "_model_name": "LayoutModel",
            "_view_count": null,
            "_view_module": "@jupyter-widgets/base",
            "_view_module_version": "1.2.0",
            "_view_name": "LayoutView",
            "align_content": null,
            "align_items": null,
            "align_self": null,
            "border": null,
            "bottom": null,
            "display": null,
            "flex": null,
            "flex_flow": null,
            "grid_area": null,
            "grid_auto_columns": null,
            "grid_auto_flow": null,
            "grid_auto_rows": null,
            "grid_column": null,
            "grid_gap": null,
            "grid_row": null,
            "grid_template_areas": null,
            "grid_template_columns": null,
            "grid_template_rows": null,
            "height": null,
            "justify_content": null,
            "justify_items": null,
            "left": null,
            "margin": null,
            "max_height": null,
            "max_width": null,
            "min_height": null,
            "min_width": null,
            "object_fit": null,
            "object_position": null,
            "order": null,
            "overflow": null,
            "overflow_x": null,
            "overflow_y": null,
            "padding": null,
            "right": null,
            "top": null,
            "visibility": null,
            "width": null
          }
        },
        "bc920d34a1dd4a39824b90f4eba50131": {
          "model_module": "@jupyter-widgets/controls",
          "model_name": "DescriptionStyleModel",
          "model_module_version": "1.5.0",
          "state": {
            "_model_module": "@jupyter-widgets/controls",
            "_model_module_version": "1.5.0",
            "_model_name": "DescriptionStyleModel",
            "_view_count": null,
            "_view_module": "@jupyter-widgets/base",
            "_view_module_version": "1.2.0",
            "_view_name": "StyleView",
            "description_width": ""
          }
        },
        "94a4abdc5b8642e6800fce5f97f7bee8": {
          "model_module": "@jupyter-widgets/controls",
          "model_name": "HBoxModel",
          "model_module_version": "1.5.0",
          "state": {
            "_dom_classes": [],
            "_model_module": "@jupyter-widgets/controls",
            "_model_module_version": "1.5.0",
            "_model_name": "HBoxModel",
            "_view_count": null,
            "_view_module": "@jupyter-widgets/controls",
            "_view_module_version": "1.5.0",
            "_view_name": "HBoxView",
            "box_style": "",
            "children": [
              "IPY_MODEL_af57c12682af49878c1c83b9e434c6c3",
              "IPY_MODEL_44e9cae57d53402395295fb43009cab9",
              "IPY_MODEL_ef331e7ea09245379fbbd700fe797a3f"
            ],
            "layout": "IPY_MODEL_fe2787120f1b4fbd8710b198565cf2ab"
          }
        },
        "af57c12682af49878c1c83b9e434c6c3": {
          "model_module": "@jupyter-widgets/controls",
          "model_name": "HTMLModel",
          "model_module_version": "1.5.0",
          "state": {
            "_dom_classes": [],
            "_model_module": "@jupyter-widgets/controls",
            "_model_module_version": "1.5.0",
            "_model_name": "HTMLModel",
            "_view_count": null,
            "_view_module": "@jupyter-widgets/controls",
            "_view_module_version": "1.5.0",
            "_view_name": "HTMLView",
            "description": "",
            "description_tooltip": null,
            "layout": "IPY_MODEL_35c34933f2e242e6bd5c204d0894c09f",
            "placeholder": "​",
            "style": "IPY_MODEL_ea66539f25e04006bb46295fd1109f6d",
            "value": "policy.pth: 100%"
          }
        },
        "44e9cae57d53402395295fb43009cab9": {
          "model_module": "@jupyter-widgets/controls",
          "model_name": "FloatProgressModel",
          "model_module_version": "1.5.0",
          "state": {
            "_dom_classes": [],
            "_model_module": "@jupyter-widgets/controls",
            "_model_module_version": "1.5.0",
            "_model_name": "FloatProgressModel",
            "_view_count": null,
            "_view_module": "@jupyter-widgets/controls",
            "_view_module_version": "1.5.0",
            "_view_name": "ProgressView",
            "bar_style": "success",
            "description": "",
            "description_tooltip": null,
            "layout": "IPY_MODEL_becfbdb64061484fa82cf233b431e83f",
            "max": 148466,
            "min": 0,
            "orientation": "horizontal",
            "style": "IPY_MODEL_e44e67b4f5344755b27410fab53ff11a",
            "value": 148466
          }
        },
        "ef331e7ea09245379fbbd700fe797a3f": {
          "model_module": "@jupyter-widgets/controls",
          "model_name": "HTMLModel",
          "model_module_version": "1.5.0",
          "state": {
            "_dom_classes": [],
            "_model_module": "@jupyter-widgets/controls",
            "_model_module_version": "1.5.0",
            "_model_name": "HTMLModel",
            "_view_count": null,
            "_view_module": "@jupyter-widgets/controls",
            "_view_module_version": "1.5.0",
            "_view_name": "HTMLView",
            "description": "",
            "description_tooltip": null,
            "layout": "IPY_MODEL_602c0c276d854af5b294762cd8e0752c",
            "placeholder": "​",
            "style": "IPY_MODEL_32a36b53d0c4497a8890f0edbb541d0b",
            "value": " 148k/148k [00:00&lt;00:00, 33.0kB/s]"
          }
        },
        "fe2787120f1b4fbd8710b198565cf2ab": {
          "model_module": "@jupyter-widgets/base",
          "model_name": "LayoutModel",
          "model_module_version": "1.2.0",
          "state": {
            "_model_module": "@jupyter-widgets/base",
            "_model_module_version": "1.2.0",
            "_model_name": "LayoutModel",
            "_view_count": null,
            "_view_module": "@jupyter-widgets/base",
            "_view_module_version": "1.2.0",
            "_view_name": "LayoutView",
            "align_content": null,
            "align_items": null,
            "align_self": null,
            "border": null,
            "bottom": null,
            "display": null,
            "flex": null,
            "flex_flow": null,
            "grid_area": null,
            "grid_auto_columns": null,
            "grid_auto_flow": null,
            "grid_auto_rows": null,
            "grid_column": null,
            "grid_gap": null,
            "grid_row": null,
            "grid_template_areas": null,
            "grid_template_columns": null,
            "grid_template_rows": null,
            "height": null,
            "justify_content": null,
            "justify_items": null,
            "left": null,
            "margin": null,
            "max_height": null,
            "max_width": null,
            "min_height": null,
            "min_width": null,
            "object_fit": null,
            "object_position": null,
            "order": null,
            "overflow": null,
            "overflow_x": null,
            "overflow_y": null,
            "padding": null,
            "right": null,
            "top": null,
            "visibility": null,
            "width": null
          }
        },
        "35c34933f2e242e6bd5c204d0894c09f": {
          "model_module": "@jupyter-widgets/base",
          "model_name": "LayoutModel",
          "model_module_version": "1.2.0",
          "state": {
            "_model_module": "@jupyter-widgets/base",
            "_model_module_version": "1.2.0",
            "_model_name": "LayoutModel",
            "_view_count": null,
            "_view_module": "@jupyter-widgets/base",
            "_view_module_version": "1.2.0",
            "_view_name": "LayoutView",
            "align_content": null,
            "align_items": null,
            "align_self": null,
            "border": null,
            "bottom": null,
            "display": null,
            "flex": null,
            "flex_flow": null,
            "grid_area": null,
            "grid_auto_columns": null,
            "grid_auto_flow": null,
            "grid_auto_rows": null,
            "grid_column": null,
            "grid_gap": null,
            "grid_row": null,
            "grid_template_areas": null,
            "grid_template_columns": null,
            "grid_template_rows": null,
            "height": null,
            "justify_content": null,
            "justify_items": null,
            "left": null,
            "margin": null,
            "max_height": null,
            "max_width": null,
            "min_height": null,
            "min_width": null,
            "object_fit": null,
            "object_position": null,
            "order": null,
            "overflow": null,
            "overflow_x": null,
            "overflow_y": null,
            "padding": null,
            "right": null,
            "top": null,
            "visibility": null,
            "width": null
          }
        },
        "ea66539f25e04006bb46295fd1109f6d": {
          "model_module": "@jupyter-widgets/controls",
          "model_name": "DescriptionStyleModel",
          "model_module_version": "1.5.0",
          "state": {
            "_model_module": "@jupyter-widgets/controls",
            "_model_module_version": "1.5.0",
            "_model_name": "DescriptionStyleModel",
            "_view_count": null,
            "_view_module": "@jupyter-widgets/base",
            "_view_module_version": "1.2.0",
            "_view_name": "StyleView",
            "description_width": ""
          }
        },
        "becfbdb64061484fa82cf233b431e83f": {
          "model_module": "@jupyter-widgets/base",
          "model_name": "LayoutModel",
          "model_module_version": "1.2.0",
          "state": {
            "_model_module": "@jupyter-widgets/base",
            "_model_module_version": "1.2.0",
            "_model_name": "LayoutModel",
            "_view_count": null,
            "_view_module": "@jupyter-widgets/base",
            "_view_module_version": "1.2.0",
            "_view_name": "LayoutView",
            "align_content": null,
            "align_items": null,
            "align_self": null,
            "border": null,
            "bottom": null,
            "display": null,
            "flex": null,
            "flex_flow": null,
            "grid_area": null,
            "grid_auto_columns": null,
            "grid_auto_flow": null,
            "grid_auto_rows": null,
            "grid_column": null,
            "grid_gap": null,
            "grid_row": null,
            "grid_template_areas": null,
            "grid_template_columns": null,
            "grid_template_rows": null,
            "height": null,
            "justify_content": null,
            "justify_items": null,
            "left": null,
            "margin": null,
            "max_height": null,
            "max_width": null,
            "min_height": null,
            "min_width": null,
            "object_fit": null,
            "object_position": null,
            "order": null,
            "overflow": null,
            "overflow_x": null,
            "overflow_y": null,
            "padding": null,
            "right": null,
            "top": null,
            "visibility": null,
            "width": null
          }
        },
        "e44e67b4f5344755b27410fab53ff11a": {
          "model_module": "@jupyter-widgets/controls",
          "model_name": "ProgressStyleModel",
          "model_module_version": "1.5.0",
          "state": {
            "_model_module": "@jupyter-widgets/controls",
            "_model_module_version": "1.5.0",
            "_model_name": "ProgressStyleModel",
            "_view_count": null,
            "_view_module": "@jupyter-widgets/base",
            "_view_module_version": "1.2.0",
            "_view_name": "StyleView",
            "bar_color": null,
            "description_width": ""
          }
        },
        "602c0c276d854af5b294762cd8e0752c": {
          "model_module": "@jupyter-widgets/base",
          "model_name": "LayoutModel",
          "model_module_version": "1.2.0",
          "state": {
            "_model_module": "@jupyter-widgets/base",
            "_model_module_version": "1.2.0",
            "_model_name": "LayoutModel",
            "_view_count": null,
            "_view_module": "@jupyter-widgets/base",
            "_view_module_version": "1.2.0",
            "_view_name": "LayoutView",
            "align_content": null,
            "align_items": null,
            "align_self": null,
            "border": null,
            "bottom": null,
            "display": null,
            "flex": null,
            "flex_flow": null,
            "grid_area": null,
            "grid_auto_columns": null,
            "grid_auto_flow": null,
            "grid_auto_rows": null,
            "grid_column": null,
            "grid_gap": null,
            "grid_row": null,
            "grid_template_areas": null,
            "grid_template_columns": null,
            "grid_template_rows": null,
            "height": null,
            "justify_content": null,
            "justify_items": null,
            "left": null,
            "margin": null,
            "max_height": null,
            "max_width": null,
            "min_height": null,
            "min_width": null,
            "object_fit": null,
            "object_position": null,
            "order": null,
            "overflow": null,
            "overflow_x": null,
            "overflow_y": null,
            "padding": null,
            "right": null,
            "top": null,
            "visibility": null,
            "width": null
          }
        },
        "32a36b53d0c4497a8890f0edbb541d0b": {
          "model_module": "@jupyter-widgets/controls",
          "model_name": "DescriptionStyleModel",
          "model_module_version": "1.5.0",
          "state": {
            "_model_module": "@jupyter-widgets/controls",
            "_model_module_version": "1.5.0",
            "_model_name": "DescriptionStyleModel",
            "_view_count": null,
            "_view_module": "@jupyter-widgets/base",
            "_view_module_version": "1.2.0",
            "_view_name": "StyleView",
            "description_width": ""
          }
        },
        "bc1aaed1fc44491ba89fa238a2e56e42": {
          "model_module": "@jupyter-widgets/controls",
          "model_name": "HBoxModel",
          "model_module_version": "1.5.0",
          "state": {
            "_dom_classes": [],
            "_model_module": "@jupyter-widgets/controls",
            "_model_module_version": "1.5.0",
            "_model_name": "HBoxModel",
            "_view_count": null,
            "_view_module": "@jupyter-widgets/controls",
            "_view_module_version": "1.5.0",
            "_view_name": "HBoxView",
            "box_style": "",
            "children": [
              "IPY_MODEL_51a755a00db74e54bb797f81fe521d42",
              "IPY_MODEL_2a6950260b6a43de93cefdee86fc2e24",
              "IPY_MODEL_429d3b002a304071a91421c41032af83"
            ],
            "layout": "IPY_MODEL_d08c22e0fc324fcab65829ddb4e18e82"
          }
        },
        "51a755a00db74e54bb797f81fe521d42": {
          "model_module": "@jupyter-widgets/controls",
          "model_name": "HTMLModel",
          "model_module_version": "1.5.0",
          "state": {
            "_dom_classes": [],
            "_model_module": "@jupyter-widgets/controls",
            "_model_module_version": "1.5.0",
            "_model_name": "HTMLModel",
            "_view_count": null,
            "_view_module": "@jupyter-widgets/controls",
            "_view_module_version": "1.5.0",
            "_view_name": "HTMLView",
            "description": "",
            "description_tooltip": null,
            "layout": "IPY_MODEL_d3384677204542cfb1a2154eb6440b48",
            "placeholder": "​",
            "style": "IPY_MODEL_ad67e4fd4f27473994702539a16f60f3",
            "value": "Upload 3 LFS files: 100%"
          }
        },
        "2a6950260b6a43de93cefdee86fc2e24": {
          "model_module": "@jupyter-widgets/controls",
          "model_name": "FloatProgressModel",
          "model_module_version": "1.5.0",
          "state": {
            "_dom_classes": [],
            "_model_module": "@jupyter-widgets/controls",
            "_model_module_version": "1.5.0",
            "_model_name": "FloatProgressModel",
            "_view_count": null,
            "_view_module": "@jupyter-widgets/controls",
            "_view_module_version": "1.5.0",
            "_view_name": "ProgressView",
            "bar_style": "success",
            "description": "",
            "description_tooltip": null,
            "layout": "IPY_MODEL_6b9cadafdf754fd0bc43161b4fcc77c9",
            "max": 3,
            "min": 0,
            "orientation": "horizontal",
            "style": "IPY_MODEL_43933cac96f54545a282eeaa5f3818b4",
            "value": 3
          }
        },
        "429d3b002a304071a91421c41032af83": {
          "model_module": "@jupyter-widgets/controls",
          "model_name": "HTMLModel",
          "model_module_version": "1.5.0",
          "state": {
            "_dom_classes": [],
            "_model_module": "@jupyter-widgets/controls",
            "_model_module_version": "1.5.0",
            "_model_name": "HTMLModel",
            "_view_count": null,
            "_view_module": "@jupyter-widgets/controls",
            "_view_module_version": "1.5.0",
            "_view_name": "HTMLView",
            "description": "",
            "description_tooltip": null,
            "layout": "IPY_MODEL_02a682aa0dae41a4806e0271b82c0058",
            "placeholder": "​",
            "style": "IPY_MODEL_5d92ffea42564fc9aafe5833cefddd03",
            "value": " 3/3 [00:01&lt;00:00,  1.16s/it]"
          }
        },
        "d08c22e0fc324fcab65829ddb4e18e82": {
          "model_module": "@jupyter-widgets/base",
          "model_name": "LayoutModel",
          "model_module_version": "1.2.0",
          "state": {
            "_model_module": "@jupyter-widgets/base",
            "_model_module_version": "1.2.0",
            "_model_name": "LayoutModel",
            "_view_count": null,
            "_view_module": "@jupyter-widgets/base",
            "_view_module_version": "1.2.0",
            "_view_name": "LayoutView",
            "align_content": null,
            "align_items": null,
            "align_self": null,
            "border": null,
            "bottom": null,
            "display": null,
            "flex": null,
            "flex_flow": null,
            "grid_area": null,
            "grid_auto_columns": null,
            "grid_auto_flow": null,
            "grid_auto_rows": null,
            "grid_column": null,
            "grid_gap": null,
            "grid_row": null,
            "grid_template_areas": null,
            "grid_template_columns": null,
            "grid_template_rows": null,
            "height": null,
            "justify_content": null,
            "justify_items": null,
            "left": null,
            "margin": null,
            "max_height": null,
            "max_width": null,
            "min_height": null,
            "min_width": null,
            "object_fit": null,
            "object_position": null,
            "order": null,
            "overflow": null,
            "overflow_x": null,
            "overflow_y": null,
            "padding": null,
            "right": null,
            "top": null,
            "visibility": null,
            "width": null
          }
        },
        "d3384677204542cfb1a2154eb6440b48": {
          "model_module": "@jupyter-widgets/base",
          "model_name": "LayoutModel",
          "model_module_version": "1.2.0",
          "state": {
            "_model_module": "@jupyter-widgets/base",
            "_model_module_version": "1.2.0",
            "_model_name": "LayoutModel",
            "_view_count": null,
            "_view_module": "@jupyter-widgets/base",
            "_view_module_version": "1.2.0",
            "_view_name": "LayoutView",
            "align_content": null,
            "align_items": null,
            "align_self": null,
            "border": null,
            "bottom": null,
            "display": null,
            "flex": null,
            "flex_flow": null,
            "grid_area": null,
            "grid_auto_columns": null,
            "grid_auto_flow": null,
            "grid_auto_rows": null,
            "grid_column": null,
            "grid_gap": null,
            "grid_row": null,
            "grid_template_areas": null,
            "grid_template_columns": null,
            "grid_template_rows": null,
            "height": null,
            "justify_content": null,
            "justify_items": null,
            "left": null,
            "margin": null,
            "max_height": null,
            "max_width": null,
            "min_height": null,
            "min_width": null,
            "object_fit": null,
            "object_position": null,
            "order": null,
            "overflow": null,
            "overflow_x": null,
            "overflow_y": null,
            "padding": null,
            "right": null,
            "top": null,
            "visibility": null,
            "width": null
          }
        },
        "ad67e4fd4f27473994702539a16f60f3": {
          "model_module": "@jupyter-widgets/controls",
          "model_name": "DescriptionStyleModel",
          "model_module_version": "1.5.0",
          "state": {
            "_model_module": "@jupyter-widgets/controls",
            "_model_module_version": "1.5.0",
            "_model_name": "DescriptionStyleModel",
            "_view_count": null,
            "_view_module": "@jupyter-widgets/base",
            "_view_module_version": "1.2.0",
            "_view_name": "StyleView",
            "description_width": ""
          }
        },
        "6b9cadafdf754fd0bc43161b4fcc77c9": {
          "model_module": "@jupyter-widgets/base",
          "model_name": "LayoutModel",
          "model_module_version": "1.2.0",
          "state": {
            "_model_module": "@jupyter-widgets/base",
            "_model_module_version": "1.2.0",
            "_model_name": "LayoutModel",
            "_view_count": null,
            "_view_module": "@jupyter-widgets/base",
            "_view_module_version": "1.2.0",
            "_view_name": "LayoutView",
            "align_content": null,
            "align_items": null,
            "align_self": null,
            "border": null,
            "bottom": null,
            "display": null,
            "flex": null,
            "flex_flow": null,
            "grid_area": null,
            "grid_auto_columns": null,
            "grid_auto_flow": null,
            "grid_auto_rows": null,
            "grid_column": null,
            "grid_gap": null,
            "grid_row": null,
            "grid_template_areas": null,
            "grid_template_columns": null,
            "grid_template_rows": null,
            "height": null,
            "justify_content": null,
            "justify_items": null,
            "left": null,
            "margin": null,
            "max_height": null,
            "max_width": null,
            "min_height": null,
            "min_width": null,
            "object_fit": null,
            "object_position": null,
            "order": null,
            "overflow": null,
            "overflow_x": null,
            "overflow_y": null,
            "padding": null,
            "right": null,
            "top": null,
            "visibility": null,
            "width": null
          }
        },
        "43933cac96f54545a282eeaa5f3818b4": {
          "model_module": "@jupyter-widgets/controls",
          "model_name": "ProgressStyleModel",
          "model_module_version": "1.5.0",
          "state": {
            "_model_module": "@jupyter-widgets/controls",
            "_model_module_version": "1.5.0",
            "_model_name": "ProgressStyleModel",
            "_view_count": null,
            "_view_module": "@jupyter-widgets/base",
            "_view_module_version": "1.2.0",
            "_view_name": "StyleView",
            "bar_color": null,
            "description_width": ""
          }
        },
        "02a682aa0dae41a4806e0271b82c0058": {
          "model_module": "@jupyter-widgets/base",
          "model_name": "LayoutModel",
          "model_module_version": "1.2.0",
          "state": {
            "_model_module": "@jupyter-widgets/base",
            "_model_module_version": "1.2.0",
            "_model_name": "LayoutModel",
            "_view_count": null,
            "_view_module": "@jupyter-widgets/base",
            "_view_module_version": "1.2.0",
            "_view_name": "LayoutView",
            "align_content": null,
            "align_items": null,
            "align_self": null,
            "border": null,
            "bottom": null,
            "display": null,
            "flex": null,
            "flex_flow": null,
            "grid_area": null,
            "grid_auto_columns": null,
            "grid_auto_flow": null,
            "grid_auto_rows": null,
            "grid_column": null,
            "grid_gap": null,
            "grid_row": null,
            "grid_template_areas": null,
            "grid_template_columns": null,
            "grid_template_rows": null,
            "height": null,
            "justify_content": null,
            "justify_items": null,
            "left": null,
            "margin": null,
            "max_height": null,
            "max_width": null,
            "min_height": null,
            "min_width": null,
            "object_fit": null,
            "object_position": null,
            "order": null,
            "overflow": null,
            "overflow_x": null,
            "overflow_y": null,
            "padding": null,
            "right": null,
            "top": null,
            "visibility": null,
            "width": null
          }
        },
        "5d92ffea42564fc9aafe5833cefddd03": {
          "model_module": "@jupyter-widgets/controls",
          "model_name": "DescriptionStyleModel",
          "model_module_version": "1.5.0",
          "state": {
            "_model_module": "@jupyter-widgets/controls",
            "_model_module_version": "1.5.0",
            "_model_name": "DescriptionStyleModel",
            "_view_count": null,
            "_view_module": "@jupyter-widgets/base",
            "_view_module_version": "1.2.0",
            "_view_name": "StyleView",
            "description_width": ""
          }
        },
        "fac0cdc978b44df58f4e711a490a6de6": {
          "model_module": "@jupyter-widgets/controls",
          "model_name": "HBoxModel",
          "model_module_version": "1.5.0",
          "state": {
            "_dom_classes": [],
            "_model_module": "@jupyter-widgets/controls",
            "_model_module_version": "1.5.0",
            "_model_name": "HBoxModel",
            "_view_count": null,
            "_view_module": "@jupyter-widgets/controls",
            "_view_module_version": "1.5.0",
            "_view_name": "HBoxView",
            "box_style": "",
            "children": [
              "IPY_MODEL_4371d9732f0d4dd1926d4e7cd60095e8",
              "IPY_MODEL_729063ea0fbc47f09a28159d154a8e97",
              "IPY_MODEL_87c3efa32501428694337030ee4e0969"
            ],
            "layout": "IPY_MODEL_a778411311d94152aac0d909091a61dd"
          }
        },
        "4371d9732f0d4dd1926d4e7cd60095e8": {
          "model_module": "@jupyter-widgets/controls",
          "model_name": "HTMLModel",
          "model_module_version": "1.5.0",
          "state": {
            "_dom_classes": [],
            "_model_module": "@jupyter-widgets/controls",
            "_model_module_version": "1.5.0",
            "_model_name": "HTMLModel",
            "_view_count": null,
            "_view_module": "@jupyter-widgets/controls",
            "_view_module_version": "1.5.0",
            "_view_name": "HTMLView",
            "description": "",
            "description_tooltip": null,
            "layout": "IPY_MODEL_c14c73d92d3a4fabab32e6548daf2078",
            "placeholder": "​",
            "style": "IPY_MODEL_5ae27d04177b4689b7759cdd072275c0",
            "value": "ppo-LunarLander-v2.zip: 100%"
          }
        },
        "729063ea0fbc47f09a28159d154a8e97": {
          "model_module": "@jupyter-widgets/controls",
          "model_name": "FloatProgressModel",
          "model_module_version": "1.5.0",
          "state": {
            "_dom_classes": [],
            "_model_module": "@jupyter-widgets/controls",
            "_model_module_version": "1.5.0",
            "_model_name": "FloatProgressModel",
            "_view_count": null,
            "_view_module": "@jupyter-widgets/controls",
            "_view_module_version": "1.5.0",
            "_view_name": "ProgressView",
            "bar_style": "success",
            "description": "",
            "description_tooltip": null,
            "layout": "IPY_MODEL_3d377ee350754e74bffba555f6536299",
            "max": 461499,
            "min": 0,
            "orientation": "horizontal",
            "style": "IPY_MODEL_e2e9fa315d1b4e1aac1aa4c157d07522",
            "value": 461499
          }
        },
        "87c3efa32501428694337030ee4e0969": {
          "model_module": "@jupyter-widgets/controls",
          "model_name": "HTMLModel",
          "model_module_version": "1.5.0",
          "state": {
            "_dom_classes": [],
            "_model_module": "@jupyter-widgets/controls",
            "_model_module_version": "1.5.0",
            "_model_name": "HTMLModel",
            "_view_count": null,
            "_view_module": "@jupyter-widgets/controls",
            "_view_module_version": "1.5.0",
            "_view_name": "HTMLView",
            "description": "",
            "description_tooltip": null,
            "layout": "IPY_MODEL_d8a6e30cbc224ba99e474bc8aadbb4e6",
            "placeholder": "​",
            "style": "IPY_MODEL_5404e81d5a9744f898d5dac1e2d75207",
            "value": " 461k/461k [00:00&lt;00:00, 34.9kB/s]"
          }
        },
        "a778411311d94152aac0d909091a61dd": {
          "model_module": "@jupyter-widgets/base",
          "model_name": "LayoutModel",
          "model_module_version": "1.2.0",
          "state": {
            "_model_module": "@jupyter-widgets/base",
            "_model_module_version": "1.2.0",
            "_model_name": "LayoutModel",
            "_view_count": null,
            "_view_module": "@jupyter-widgets/base",
            "_view_module_version": "1.2.0",
            "_view_name": "LayoutView",
            "align_content": null,
            "align_items": null,
            "align_self": null,
            "border": null,
            "bottom": null,
            "display": null,
            "flex": null,
            "flex_flow": null,
            "grid_area": null,
            "grid_auto_columns": null,
            "grid_auto_flow": null,
            "grid_auto_rows": null,
            "grid_column": null,
            "grid_gap": null,
            "grid_row": null,
            "grid_template_areas": null,
            "grid_template_columns": null,
            "grid_template_rows": null,
            "height": null,
            "justify_content": null,
            "justify_items": null,
            "left": null,
            "margin": null,
            "max_height": null,
            "max_width": null,
            "min_height": null,
            "min_width": null,
            "object_fit": null,
            "object_position": null,
            "order": null,
            "overflow": null,
            "overflow_x": null,
            "overflow_y": null,
            "padding": null,
            "right": null,
            "top": null,
            "visibility": null,
            "width": null
          }
        },
        "c14c73d92d3a4fabab32e6548daf2078": {
          "model_module": "@jupyter-widgets/base",
          "model_name": "LayoutModel",
          "model_module_version": "1.2.0",
          "state": {
            "_model_module": "@jupyter-widgets/base",
            "_model_module_version": "1.2.0",
            "_model_name": "LayoutModel",
            "_view_count": null,
            "_view_module": "@jupyter-widgets/base",
            "_view_module_version": "1.2.0",
            "_view_name": "LayoutView",
            "align_content": null,
            "align_items": null,
            "align_self": null,
            "border": null,
            "bottom": null,
            "display": null,
            "flex": null,
            "flex_flow": null,
            "grid_area": null,
            "grid_auto_columns": null,
            "grid_auto_flow": null,
            "grid_auto_rows": null,
            "grid_column": null,
            "grid_gap": null,
            "grid_row": null,
            "grid_template_areas": null,
            "grid_template_columns": null,
            "grid_template_rows": null,
            "height": null,
            "justify_content": null,
            "justify_items": null,
            "left": null,
            "margin": null,
            "max_height": null,
            "max_width": null,
            "min_height": null,
            "min_width": null,
            "object_fit": null,
            "object_position": null,
            "order": null,
            "overflow": null,
            "overflow_x": null,
            "overflow_y": null,
            "padding": null,
            "right": null,
            "top": null,
            "visibility": null,
            "width": null
          }
        },
        "5ae27d04177b4689b7759cdd072275c0": {
          "model_module": "@jupyter-widgets/controls",
          "model_name": "DescriptionStyleModel",
          "model_module_version": "1.5.0",
          "state": {
            "_model_module": "@jupyter-widgets/controls",
            "_model_module_version": "1.5.0",
            "_model_name": "DescriptionStyleModel",
            "_view_count": null,
            "_view_module": "@jupyter-widgets/base",
            "_view_module_version": "1.2.0",
            "_view_name": "StyleView",
            "description_width": ""
          }
        },
        "3d377ee350754e74bffba555f6536299": {
          "model_module": "@jupyter-widgets/base",
          "model_name": "LayoutModel",
          "model_module_version": "1.2.0",
          "state": {
            "_model_module": "@jupyter-widgets/base",
            "_model_module_version": "1.2.0",
            "_model_name": "LayoutModel",
            "_view_count": null,
            "_view_module": "@jupyter-widgets/base",
            "_view_module_version": "1.2.0",
            "_view_name": "LayoutView",
            "align_content": null,
            "align_items": null,
            "align_self": null,
            "border": null,
            "bottom": null,
            "display": null,
            "flex": null,
            "flex_flow": null,
            "grid_area": null,
            "grid_auto_columns": null,
            "grid_auto_flow": null,
            "grid_auto_rows": null,
            "grid_column": null,
            "grid_gap": null,
            "grid_row": null,
            "grid_template_areas": null,
            "grid_template_columns": null,
            "grid_template_rows": null,
            "height": null,
            "justify_content": null,
            "justify_items": null,
            "left": null,
            "margin": null,
            "max_height": null,
            "max_width": null,
            "min_height": null,
            "min_width": null,
            "object_fit": null,
            "object_position": null,
            "order": null,
            "overflow": null,
            "overflow_x": null,
            "overflow_y": null,
            "padding": null,
            "right": null,
            "top": null,
            "visibility": null,
            "width": null
          }
        },
        "e2e9fa315d1b4e1aac1aa4c157d07522": {
          "model_module": "@jupyter-widgets/controls",
          "model_name": "ProgressStyleModel",
          "model_module_version": "1.5.0",
          "state": {
            "_model_module": "@jupyter-widgets/controls",
            "_model_module_version": "1.5.0",
            "_model_name": "ProgressStyleModel",
            "_view_count": null,
            "_view_module": "@jupyter-widgets/base",
            "_view_module_version": "1.2.0",
            "_view_name": "StyleView",
            "bar_color": null,
            "description_width": ""
          }
        },
        "d8a6e30cbc224ba99e474bc8aadbb4e6": {
          "model_module": "@jupyter-widgets/base",
          "model_name": "LayoutModel",
          "model_module_version": "1.2.0",
          "state": {
            "_model_module": "@jupyter-widgets/base",
            "_model_module_version": "1.2.0",
            "_model_name": "LayoutModel",
            "_view_count": null,
            "_view_module": "@jupyter-widgets/base",
            "_view_module_version": "1.2.0",
            "_view_name": "LayoutView",
            "align_content": null,
            "align_items": null,
            "align_self": null,
            "border": null,
            "bottom": null,
            "display": null,
            "flex": null,
            "flex_flow": null,
            "grid_area": null,
            "grid_auto_columns": null,
            "grid_auto_flow": null,
            "grid_auto_rows": null,
            "grid_column": null,
            "grid_gap": null,
            "grid_row": null,
            "grid_template_areas": null,
            "grid_template_columns": null,
            "grid_template_rows": null,
            "height": null,
            "justify_content": null,
            "justify_items": null,
            "left": null,
            "margin": null,
            "max_height": null,
            "max_width": null,
            "min_height": null,
            "min_width": null,
            "object_fit": null,
            "object_position": null,
            "order": null,
            "overflow": null,
            "overflow_x": null,
            "overflow_y": null,
            "padding": null,
            "right": null,
            "top": null,
            "visibility": null,
            "width": null
          }
        },
        "5404e81d5a9744f898d5dac1e2d75207": {
          "model_module": "@jupyter-widgets/controls",
          "model_name": "DescriptionStyleModel",
          "model_module_version": "1.5.0",
          "state": {
            "_model_module": "@jupyter-widgets/controls",
            "_model_module_version": "1.5.0",
            "_model_name": "DescriptionStyleModel",
            "_view_count": null,
            "_view_module": "@jupyter-widgets/base",
            "_view_module_version": "1.2.0",
            "_view_name": "StyleView",
            "description_width": ""
          }
        },
        "d41b391f5b6144ac8b5bea982461da84": {
          "model_module": "@jupyter-widgets/controls",
          "model_name": "HBoxModel",
          "model_module_version": "1.5.0",
          "state": {
            "_dom_classes": [],
            "_model_module": "@jupyter-widgets/controls",
            "_model_module_version": "1.5.0",
            "_model_name": "HBoxModel",
            "_view_count": null,
            "_view_module": "@jupyter-widgets/controls",
            "_view_module_version": "1.5.0",
            "_view_name": "HBoxView",
            "box_style": "",
            "children": [
              "IPY_MODEL_6194a681e0ca4ef2b540fb4204603b45",
              "IPY_MODEL_4b57fff38bc14d5d99911f6c0b0bc002",
              "IPY_MODEL_e11b2d7948f4400a944b3b6a7034a8f9"
            ],
            "layout": "IPY_MODEL_7cb7a80ff1794be792d8bbd3f90493f0"
          }
        },
        "6194a681e0ca4ef2b540fb4204603b45": {
          "model_module": "@jupyter-widgets/controls",
          "model_name": "HTMLModel",
          "model_module_version": "1.5.0",
          "state": {
            "_dom_classes": [],
            "_model_module": "@jupyter-widgets/controls",
            "_model_module_version": "1.5.0",
            "_model_name": "HTMLModel",
            "_view_count": null,
            "_view_module": "@jupyter-widgets/controls",
            "_view_module_version": "1.5.0",
            "_view_name": "HTMLView",
            "description": "",
            "description_tooltip": null,
            "layout": "IPY_MODEL_5daf5131861b4e5f8fac3143b762999f",
            "placeholder": "​",
            "style": "IPY_MODEL_1287753cd4084d69914b579ebd19b263",
            "value": "ppo-LunarLander-v2.zip: 100%"
          }
        },
        "4b57fff38bc14d5d99911f6c0b0bc002": {
          "model_module": "@jupyter-widgets/controls",
          "model_name": "FloatProgressModel",
          "model_module_version": "1.5.0",
          "state": {
            "_dom_classes": [],
            "_model_module": "@jupyter-widgets/controls",
            "_model_module_version": "1.5.0",
            "_model_name": "FloatProgressModel",
            "_view_count": null,
            "_view_module": "@jupyter-widgets/controls",
            "_view_module_version": "1.5.0",
            "_view_name": "ProgressView",
            "bar_style": "success",
            "description": "",
            "description_tooltip": null,
            "layout": "IPY_MODEL_cdad8484ae8941639f8e59a4e518f2f8",
            "max": 148050,
            "min": 0,
            "orientation": "horizontal",
            "style": "IPY_MODEL_0447479d125444eb8ba2ff8434f684ba",
            "value": 148050
          }
        },
        "e11b2d7948f4400a944b3b6a7034a8f9": {
          "model_module": "@jupyter-widgets/controls",
          "model_name": "HTMLModel",
          "model_module_version": "1.5.0",
          "state": {
            "_dom_classes": [],
            "_model_module": "@jupyter-widgets/controls",
            "_model_module_version": "1.5.0",
            "_model_name": "HTMLModel",
            "_view_count": null,
            "_view_module": "@jupyter-widgets/controls",
            "_view_module_version": "1.5.0",
            "_view_name": "HTMLView",
            "description": "",
            "description_tooltip": null,
            "layout": "IPY_MODEL_a92d2801a67e4344b5105bb08c1a8bf8",
            "placeholder": "​",
            "style": "IPY_MODEL_4ef1a999f4664b4f80821f6123564fa9",
            "value": " 148k/148k [00:00&lt;00:00, 3.42MB/s]"
          }
        },
        "7cb7a80ff1794be792d8bbd3f90493f0": {
          "model_module": "@jupyter-widgets/base",
          "model_name": "LayoutModel",
          "model_module_version": "1.2.0",
          "state": {
            "_model_module": "@jupyter-widgets/base",
            "_model_module_version": "1.2.0",
            "_model_name": "LayoutModel",
            "_view_count": null,
            "_view_module": "@jupyter-widgets/base",
            "_view_module_version": "1.2.0",
            "_view_name": "LayoutView",
            "align_content": null,
            "align_items": null,
            "align_self": null,
            "border": null,
            "bottom": null,
            "display": null,
            "flex": null,
            "flex_flow": null,
            "grid_area": null,
            "grid_auto_columns": null,
            "grid_auto_flow": null,
            "grid_auto_rows": null,
            "grid_column": null,
            "grid_gap": null,
            "grid_row": null,
            "grid_template_areas": null,
            "grid_template_columns": null,
            "grid_template_rows": null,
            "height": null,
            "justify_content": null,
            "justify_items": null,
            "left": null,
            "margin": null,
            "max_height": null,
            "max_width": null,
            "min_height": null,
            "min_width": null,
            "object_fit": null,
            "object_position": null,
            "order": null,
            "overflow": null,
            "overflow_x": null,
            "overflow_y": null,
            "padding": null,
            "right": null,
            "top": null,
            "visibility": null,
            "width": null
          }
        },
        "5daf5131861b4e5f8fac3143b762999f": {
          "model_module": "@jupyter-widgets/base",
          "model_name": "LayoutModel",
          "model_module_version": "1.2.0",
          "state": {
            "_model_module": "@jupyter-widgets/base",
            "_model_module_version": "1.2.0",
            "_model_name": "LayoutModel",
            "_view_count": null,
            "_view_module": "@jupyter-widgets/base",
            "_view_module_version": "1.2.0",
            "_view_name": "LayoutView",
            "align_content": null,
            "align_items": null,
            "align_self": null,
            "border": null,
            "bottom": null,
            "display": null,
            "flex": null,
            "flex_flow": null,
            "grid_area": null,
            "grid_auto_columns": null,
            "grid_auto_flow": null,
            "grid_auto_rows": null,
            "grid_column": null,
            "grid_gap": null,
            "grid_row": null,
            "grid_template_areas": null,
            "grid_template_columns": null,
            "grid_template_rows": null,
            "height": null,
            "justify_content": null,
            "justify_items": null,
            "left": null,
            "margin": null,
            "max_height": null,
            "max_width": null,
            "min_height": null,
            "min_width": null,
            "object_fit": null,
            "object_position": null,
            "order": null,
            "overflow": null,
            "overflow_x": null,
            "overflow_y": null,
            "padding": null,
            "right": null,
            "top": null,
            "visibility": null,
            "width": null
          }
        },
        "1287753cd4084d69914b579ebd19b263": {
          "model_module": "@jupyter-widgets/controls",
          "model_name": "DescriptionStyleModel",
          "model_module_version": "1.5.0",
          "state": {
            "_model_module": "@jupyter-widgets/controls",
            "_model_module_version": "1.5.0",
            "_model_name": "DescriptionStyleModel",
            "_view_count": null,
            "_view_module": "@jupyter-widgets/base",
            "_view_module_version": "1.2.0",
            "_view_name": "StyleView",
            "description_width": ""
          }
        },
        "cdad8484ae8941639f8e59a4e518f2f8": {
          "model_module": "@jupyter-widgets/base",
          "model_name": "LayoutModel",
          "model_module_version": "1.2.0",
          "state": {
            "_model_module": "@jupyter-widgets/base",
            "_model_module_version": "1.2.0",
            "_model_name": "LayoutModel",
            "_view_count": null,
            "_view_module": "@jupyter-widgets/base",
            "_view_module_version": "1.2.0",
            "_view_name": "LayoutView",
            "align_content": null,
            "align_items": null,
            "align_self": null,
            "border": null,
            "bottom": null,
            "display": null,
            "flex": null,
            "flex_flow": null,
            "grid_area": null,
            "grid_auto_columns": null,
            "grid_auto_flow": null,
            "grid_auto_rows": null,
            "grid_column": null,
            "grid_gap": null,
            "grid_row": null,
            "grid_template_areas": null,
            "grid_template_columns": null,
            "grid_template_rows": null,
            "height": null,
            "justify_content": null,
            "justify_items": null,
            "left": null,
            "margin": null,
            "max_height": null,
            "max_width": null,
            "min_height": null,
            "min_width": null,
            "object_fit": null,
            "object_position": null,
            "order": null,
            "overflow": null,
            "overflow_x": null,
            "overflow_y": null,
            "padding": null,
            "right": null,
            "top": null,
            "visibility": null,
            "width": null
          }
        },
        "0447479d125444eb8ba2ff8434f684ba": {
          "model_module": "@jupyter-widgets/controls",
          "model_name": "ProgressStyleModel",
          "model_module_version": "1.5.0",
          "state": {
            "_model_module": "@jupyter-widgets/controls",
            "_model_module_version": "1.5.0",
            "_model_name": "ProgressStyleModel",
            "_view_count": null,
            "_view_module": "@jupyter-widgets/base",
            "_view_module_version": "1.2.0",
            "_view_name": "StyleView",
            "bar_color": null,
            "description_width": ""
          }
        },
        "a92d2801a67e4344b5105bb08c1a8bf8": {
          "model_module": "@jupyter-widgets/base",
          "model_name": "LayoutModel",
          "model_module_version": "1.2.0",
          "state": {
            "_model_module": "@jupyter-widgets/base",
            "_model_module_version": "1.2.0",
            "_model_name": "LayoutModel",
            "_view_count": null,
            "_view_module": "@jupyter-widgets/base",
            "_view_module_version": "1.2.0",
            "_view_name": "LayoutView",
            "align_content": null,
            "align_items": null,
            "align_self": null,
            "border": null,
            "bottom": null,
            "display": null,
            "flex": null,
            "flex_flow": null,
            "grid_area": null,
            "grid_auto_columns": null,
            "grid_auto_flow": null,
            "grid_auto_rows": null,
            "grid_column": null,
            "grid_gap": null,
            "grid_row": null,
            "grid_template_areas": null,
            "grid_template_columns": null,
            "grid_template_rows": null,
            "height": null,
            "justify_content": null,
            "justify_items": null,
            "left": null,
            "margin": null,
            "max_height": null,
            "max_width": null,
            "min_height": null,
            "min_width": null,
            "object_fit": null,
            "object_position": null,
            "order": null,
            "overflow": null,
            "overflow_x": null,
            "overflow_y": null,
            "padding": null,
            "right": null,
            "top": null,
            "visibility": null,
            "width": null
          }
        },
        "4ef1a999f4664b4f80821f6123564fa9": {
          "model_module": "@jupyter-widgets/controls",
          "model_name": "DescriptionStyleModel",
          "model_module_version": "1.5.0",
          "state": {
            "_model_module": "@jupyter-widgets/controls",
            "_model_module_version": "1.5.0",
            "_model_name": "DescriptionStyleModel",
            "_view_count": null,
            "_view_module": "@jupyter-widgets/base",
            "_view_module_version": "1.2.0",
            "_view_name": "StyleView",
            "description_width": ""
          }
        }
      }
    }
  },
  "nbformat": 4,
  "nbformat_minor": 0
}