{
  "cells": [
    {
      "cell_type": "markdown",
      "metadata": {
        "id": "view-in-github",
        "colab_type": "text"
      },
      "source": [
        "<a href=\"https://colab.research.google.com/github/rhiga2/AIHawaii/blob/main/workshops/intro_drl/DRLTutorial.ipynb\" target=\"_parent\"><img src=\"https://colab.research.google.com/assets/colab-badge.svg\" alt=\"Open In Colab\"/></a>"
      ]
    },
    {
      "cell_type": "code",
      "execution_count": 1,
      "metadata": {
        "id": "Be8CpGMueWdQ"
      },
      "outputs": [],
      "source": [
        "%%capture\n",
        "!pip install stable-baselines3\n",
        "!apt install swig\n",
        "!apt install xvfb python3-opengl ffmpeg\n",
        "!pip install gymnasium[box2d]\n",
        "!pip install pyvirtualdisplay\n",
        "!pip install huggingface-sb3"
      ]
    },
    {
      "cell_type": "code",
      "execution_count": 2,
      "metadata": {
        "colab": {
          "base_uri": "https://localhost:8080/"
        },
        "id": "Q3mZKoH9osj4",
        "outputId": "dde2ae42-4b25-409e-a7c2-bbdd8912bc7f"
      },
      "outputs": [
        {
          "output_type": "execute_result",
          "data": {
            "text/plain": [
              "<pyvirtualdisplay.display.Display at 0x7a6d54268e80>"
            ]
          },
          "metadata": {},
          "execution_count": 2
        }
      ],
      "source": [
        "from pyvirtualdisplay import Display\n",
        "from IPython import display as ipythondisplay\n",
        "display = Display(visible=0, size=(400, 300))\n",
        "display.start()"
      ]
    },
    {
      "cell_type": "code",
      "execution_count": 3,
      "metadata": {
        "id": "CyRbppYsuLJo"
      },
      "outputs": [],
      "source": [
        "import glob\n",
        "import io\n",
        "import base64\n",
        "from IPython.display import HTML\n",
        "\n",
        "def show_video():\n",
        "  mp4list = glob.glob('video/*.mp4')\n",
        "  if len(mp4list) > 0:\n",
        "    mp4 = mp4list[0]\n",
        "    video = io.open(mp4, 'r+b').read()\n",
        "    encoded = base64.b64encode(video)\n",
        "    ipythondisplay.display(HTML(data='''<video alt=\"test\" autoplay\n",
        "                loop controls style=\"height: 400px;\">\n",
        "                <source src=\"data:video/mp4;base64,{0}\" type=\"video/mp4\" />\n",
        "             </video>'''.format(encoded.decode('ascii'))))\n",
        "  else:\n",
        "    print(\"Could not find video\")"
      ]
    },
    {
      "cell_type": "code",
      "source": [
        "# Log into huggingface\n",
        "from huggingface_sb3 import load_from_hub, package_to_hub\n",
        "from huggingface_hub import notebook_login\n",
        "notebook_login()\n",
        "!git config --global credential.helper store"
      ],
      "metadata": {
        "colab": {
          "base_uri": "https://localhost:8080/",
          "height": 145,
          "referenced_widgets": [
            "bf38da56524c46a8b17850f6ba85c113",
            "63fdf99343734cfa92e3a09945dfd2c4",
            "969a12dfddc44040af8940a7bbe5bb77",
            "2f5581fe386249aeade18c0d96eb1b64",
            "ccfae63285cb48d582f12dfddd10ceb4",
            "078c978ac56f4f89943b767f8070d9be",
            "d1fa9bd52bd14d08b3ddb3b4da41c36f",
            "60f3e63e638b4c43be3ceebd5b498361",
            "0bd61ae9e1374499be87a467af6917cd",
            "087d100d0749495aa8e907768347b09d",
            "0dc31d0da7904a34bc0ee04c999d0a20",
            "07c2526a1dff47088c624ee3298b0969",
            "995ad4df728e40ef8ecd15a6bb51fb53",
            "f532954b48fa4546aa7e45697e810895",
            "1e6cfe10c9a14bda8b8db8c5ea6fda65",
            "977c588b5866491f8e82f25367c1853b",
            "b3a3b8314923439b9a45e07eb5ee6873",
            "b9088e2e30ae4e0fbe1324ab16e18b29",
            "8e570301ac97407aa3f82c68689ffeab",
            "2c90e7f5d47d4e258eb6c3447054af91",
            "b5d9e83f432b44009f18b3f05f828d93",
            "11029079138a42e09173c643f871fc30",
            "20574804464c44c8a957841c4bbd1158",
            "d2d10eea1d9c47128c67a6bcbf91aec3",
            "2c4f332f5a1d4fdc8c819340ddbafb39",
            "2a76590b9f50415dbad2efbecd354012",
            "a7c0d380949d40c396361e603e7539c1",
            "67009e71d13b4e00a341dff5795241a6",
            "331ca20473184ca498ba0e974ac1980d",
            "6383a9901e374867a3007c289fac97af",
            "3e74f55818a147acbbd9aa69c3019694",
            "3d5513f9c69d4f98864f677e9560cd3b"
          ]
        },
        "id": "fkjbtXEsdLgC",
        "outputId": "a0ac8e3c-a8f5-48bd-9005-6883bc5a7a0f"
      },
      "execution_count": 9,
      "outputs": [
        {
          "output_type": "display_data",
          "data": {
            "text/plain": [
              "VBox(children=(HTML(value='<center> <img\\nsrc=https://huggingface.co/front/assets/huggingface_logo-noborder.sv…"
            ],
            "application/vnd.jupyter.widget-view+json": {
              "version_major": 2,
              "version_minor": 0,
              "model_id": "bf38da56524c46a8b17850f6ba85c113"
            }
          },
          "metadata": {}
        }
      ]
    },
    {
      "cell_type": "code",
      "source": [
        "import gymnasium as gym\n",
        "from stable_baselines3.common.env_util import make_vec_env\n",
        "\n",
        "env_id = \"LunarLander-v2\"\n",
        "def make_env():\n",
        "  return gym.make(\n",
        "    env_id,\n",
        "    render_mode=\"rgb_array\",\n",
        "  )\n",
        "\n",
        "env = make_env()"
      ],
      "metadata": {
        "id": "qjLiQSPnB9U8"
      },
      "execution_count": 4,
      "outputs": []
    },
    {
      "cell_type": "code",
      "execution_count": 5,
      "metadata": {
        "colab": {
          "base_uri": "https://localhost:8080/",
          "height": 548
        },
        "id": "eOHhDwBujAnR",
        "outputId": "149257dd-1bb6-4518-98e7-6fb8fe0f09e6"
      },
      "outputs": [
        {
          "output_type": "stream",
          "name": "stderr",
          "text": [
            "/usr/local/lib/python3.10/dist-packages/ipykernel/ipkernel.py:283: DeprecationWarning: `should_run_async` will not call `transform_cell` automatically in the future. Please pass the result to `transformed_cell` argument and any exception that happen during thetransform in `preprocessing_exc_tuple` in IPython 7.17 and above.\n",
            "  and should_run_async(code)\n",
            "/usr/local/lib/python3.10/dist-packages/gym/core.py:317: DeprecationWarning: \u001b[33mWARN: Initializing wrapper in old step API which returns one bool instead of two. It is recommended to set `new_step_api=True` to use new step API. This will be the default behaviour in future.\u001b[0m\n",
            "  deprecation(\n",
            "/usr/local/lib/python3.10/dist-packages/gymnasium/core.py:311: UserWarning: \u001b[33mWARN: env.is_vector_env to get variables from other wrappers is deprecated and will be removed in v1.0, to get this variable you can do `env.unwrapped.is_vector_env` for environment variables or `env.get_wrapper_attr('is_vector_env')` that will search the reminding wrappers.\u001b[0m\n",
            "  logger.warn(\n"
          ]
        },
        {
          "output_type": "display_data",
          "data": {
            "text/plain": [
              "<IPython.core.display.HTML object>"
            ],
            "text/html": [
              "<video alt=\"test\" autoplay\n",
              "                loop controls style=\"height: 400px;\">\n",
              "                <source src=\"data:video/mp4;base64,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\" type=\"video/mp4\" />\n",
              "             </video>"
            ]
          },
          "metadata": {}
        }
      ],
      "source": [
        "from gym.wrappers import RecordVideo\n",
        "record_env = RecordVideo(env, './video')\n",
        "record_env.reset()\n",
        "\n",
        "terminated = False\n",
        "while not terminated:\n",
        "  action = record_env.action_space.sample()\n",
        "  obs, reward, terminated, info = record_env.step(action)\n",
        "\n",
        "record_env.close()\n",
        "show_video()"
      ]
    },
    {
      "cell_type": "code",
      "execution_count": 6,
      "metadata": {
        "colab": {
          "base_uri": "https://localhost:8080/",
          "height": 1000,
          "referenced_widgets": [
            "5fd57a16bf594eed854361c05194b85f",
            "af4d651d68594a9183fa55a03ee40369"
          ]
        },
        "id": "c1w_60wKuVvg",
        "outputId": "326dd2a1-0504-4504-99a3-0e8aa1facfe9"
      },
      "outputs": [
        {
          "output_type": "display_data",
          "data": {
            "text/plain": [
              "Output()"
            ],
            "application/vnd.jupyter.widget-view+json": {
              "version_major": 2,
              "version_minor": 0,
              "model_id": "5fd57a16bf594eed854361c05194b85f"
            }
          },
          "metadata": {}
        },
        {
          "output_type": "display_data",
          "data": {
            "text/plain": [
              "/usr/local/lib/python3.10/dist-packages/stable_baselines3/common/evaluation.py:67: UserWarning: Evaluation \n",
              "environment is not wrapped with a ``Monitor`` wrapper. This may result in reporting modified episode lengths and \n",
              "rewards, if other wrappers happen to modify these. Consider wrapping environment first with ``Monitor`` wrapper.\n",
              "  warnings.warn(\n"
            ],
            "text/html": [
              "<pre style=\"white-space:pre;overflow-x:auto;line-height:normal;font-family:Menlo,'DejaVu Sans Mono',consolas,'Courier New',monospace\">/usr/local/lib/python3.10/dist-packages/stable_baselines3/common/evaluation.py:67: UserWarning: Evaluation \n",
              "environment is not wrapped with a ``Monitor`` wrapper. This may result in reporting modified episode lengths and \n",
              "rewards, if other wrappers happen to modify these. Consider wrapping environment first with ``Monitor`` wrapper.\n",
              "  warnings.warn(\n",
              "</pre>\n"
            ]
          },
          "metadata": {}
        },
        {
          "output_type": "display_data",
          "data": {
            "text/plain": [
              "Eval num_timesteps=10000, episode_reward=-297.82 +/- 146.40\n"
            ],
            "text/html": [
              "<pre style=\"white-space:pre;overflow-x:auto;line-height:normal;font-family:Menlo,'DejaVu Sans Mono',consolas,'Courier New',monospace\">Eval num_timesteps=10000, episode_reward=-297.82 +/- 146.40\n",
              "</pre>\n"
            ]
          },
          "metadata": {}
        },
        {
          "output_type": "display_data",
          "data": {
            "text/plain": [
              "Episode length: 254.40 +/- 50.93\n"
            ],
            "text/html": [
              "<pre style=\"white-space:pre;overflow-x:auto;line-height:normal;font-family:Menlo,'DejaVu Sans Mono',consolas,'Courier New',monospace\">Episode length: 254.40 +/- 50.93\n",
              "</pre>\n"
            ]
          },
          "metadata": {}
        },
        {
          "output_type": "display_data",
          "data": {
            "text/plain": [
              "New best mean reward!\n"
            ],
            "text/html": [
              "<pre style=\"white-space:pre;overflow-x:auto;line-height:normal;font-family:Menlo,'DejaVu Sans Mono',consolas,'Courier New',monospace\">New best mean reward!\n",
              "</pre>\n"
            ]
          },
          "metadata": {}
        },
        {
          "output_type": "display_data",
          "data": {
            "text/plain": [
              "Eval num_timesteps=20000, episode_reward=-558.85 +/- 54.59\n"
            ],
            "text/html": [
              "<pre style=\"white-space:pre;overflow-x:auto;line-height:normal;font-family:Menlo,'DejaVu Sans Mono',consolas,'Courier New',monospace\">Eval num_timesteps=20000, episode_reward=-558.85 +/- 54.59\n",
              "</pre>\n"
            ]
          },
          "metadata": {}
        },
        {
          "output_type": "display_data",
          "data": {
            "text/plain": [
              "Episode length: 229.20 +/- 44.13\n"
            ],
            "text/html": [
              "<pre style=\"white-space:pre;overflow-x:auto;line-height:normal;font-family:Menlo,'DejaVu Sans Mono',consolas,'Courier New',monospace\">Episode length: 229.20 +/- 44.13\n",
              "</pre>\n"
            ]
          },
          "metadata": {}
        },
        {
          "output_type": "display_data",
          "data": {
            "text/plain": [
              "Eval num_timesteps=30000, episode_reward=-412.97 +/- 143.54\n"
            ],
            "text/html": [
              "<pre style=\"white-space:pre;overflow-x:auto;line-height:normal;font-family:Menlo,'DejaVu Sans Mono',consolas,'Courier New',monospace\">Eval num_timesteps=30000, episode_reward=-412.97 +/- 143.54\n",
              "</pre>\n"
            ]
          },
          "metadata": {}
        },
        {
          "output_type": "display_data",
          "data": {
            "text/plain": [
              "Episode length: 505.40 +/- 85.27\n"
            ],
            "text/html": [
              "<pre style=\"white-space:pre;overflow-x:auto;line-height:normal;font-family:Menlo,'DejaVu Sans Mono',consolas,'Courier New',monospace\">Episode length: 505.40 +/- 85.27\n",
              "</pre>\n"
            ]
          },
          "metadata": {}
        },
        {
          "output_type": "display_data",
          "data": {
            "text/plain": [
              "Eval num_timesteps=40000, episode_reward=104.29 +/- 99.55\n"
            ],
            "text/html": [
              "<pre style=\"white-space:pre;overflow-x:auto;line-height:normal;font-family:Menlo,'DejaVu Sans Mono',consolas,'Courier New',monospace\">Eval num_timesteps=40000, episode_reward=104.29 +/- 99.55\n",
              "</pre>\n"
            ]
          },
          "metadata": {}
        },
        {
          "output_type": "display_data",
          "data": {
            "text/plain": [
              "Episode length: 657.80 +/- 273.29\n"
            ],
            "text/html": [
              "<pre style=\"white-space:pre;overflow-x:auto;line-height:normal;font-family:Menlo,'DejaVu Sans Mono',consolas,'Courier New',monospace\">Episode length: 657.80 +/- 273.29\n",
              "</pre>\n"
            ]
          },
          "metadata": {}
        },
        {
          "output_type": "display_data",
          "data": {
            "text/plain": [
              "New best mean reward!\n"
            ],
            "text/html": [
              "<pre style=\"white-space:pre;overflow-x:auto;line-height:normal;font-family:Menlo,'DejaVu Sans Mono',consolas,'Courier New',monospace\">New best mean reward!\n",
              "</pre>\n"
            ]
          },
          "metadata": {}
        },
        {
          "output_type": "display_data",
          "data": {
            "text/plain": [
              "Eval num_timesteps=50000, episode_reward=21.63 +/- 105.08\n"
            ],
            "text/html": [
              "<pre style=\"white-space:pre;overflow-x:auto;line-height:normal;font-family:Menlo,'DejaVu Sans Mono',consolas,'Courier New',monospace\">Eval num_timesteps=50000, episode_reward=21.63 +/- 105.08\n",
              "</pre>\n"
            ]
          },
          "metadata": {}
        },
        {
          "output_type": "display_data",
          "data": {
            "text/plain": [
              "Episode length: 559.20 +/- 206.89\n"
            ],
            "text/html": [
              "<pre style=\"white-space:pre;overflow-x:auto;line-height:normal;font-family:Menlo,'DejaVu Sans Mono',consolas,'Courier New',monospace\">Episode length: 559.20 +/- 206.89\n",
              "</pre>\n"
            ]
          },
          "metadata": {}
        },
        {
          "output_type": "display_data",
          "data": {
            "text/plain": [
              "Eval num_timesteps=60000, episode_reward=-14.47 +/- 68.61\n"
            ],
            "text/html": [
              "<pre style=\"white-space:pre;overflow-x:auto;line-height:normal;font-family:Menlo,'DejaVu Sans Mono',consolas,'Courier New',monospace\">Eval num_timesteps=60000, episode_reward=-14.47 +/- 68.61\n",
              "</pre>\n"
            ]
          },
          "metadata": {}
        },
        {
          "output_type": "display_data",
          "data": {
            "text/plain": [
              "Episode length: 727.00 +/- 261.24\n"
            ],
            "text/html": [
              "<pre style=\"white-space:pre;overflow-x:auto;line-height:normal;font-family:Menlo,'DejaVu Sans Mono',consolas,'Courier New',monospace\">Episode length: 727.00 +/- 261.24\n",
              "</pre>\n"
            ]
          },
          "metadata": {}
        },
        {
          "output_type": "display_data",
          "data": {
            "text/plain": [
              "Eval num_timesteps=70000, episode_reward=-23.55 +/- 19.76\n"
            ],
            "text/html": [
              "<pre style=\"white-space:pre;overflow-x:auto;line-height:normal;font-family:Menlo,'DejaVu Sans Mono',consolas,'Courier New',monospace\">Eval num_timesteps=70000, episode_reward=-23.55 +/- 19.76\n",
              "</pre>\n"
            ]
          },
          "metadata": {}
        },
        {
          "output_type": "display_data",
          "data": {
            "text/plain": [
              "Episode length: 1000.00 +/- 0.00\n"
            ],
            "text/html": [
              "<pre style=\"white-space:pre;overflow-x:auto;line-height:normal;font-family:Menlo,'DejaVu Sans Mono',consolas,'Courier New',monospace\">Episode length: 1000.00 +/- 0.00\n",
              "</pre>\n"
            ]
          },
          "metadata": {}
        },
        {
          "output_type": "display_data",
          "data": {
            "text/plain": [
              "Eval num_timesteps=80000, episode_reward=142.19 +/- 149.05\n"
            ],
            "text/html": [
              "<pre style=\"white-space:pre;overflow-x:auto;line-height:normal;font-family:Menlo,'DejaVu Sans Mono',consolas,'Courier New',monospace\">Eval num_timesteps=80000, episode_reward=142.19 +/- 149.05\n",
              "</pre>\n"
            ]
          },
          "metadata": {}
        },
        {
          "output_type": "display_data",
          "data": {
            "text/plain": [
              "Episode length: 571.60 +/- 163.40\n"
            ],
            "text/html": [
              "<pre style=\"white-space:pre;overflow-x:auto;line-height:normal;font-family:Menlo,'DejaVu Sans Mono',consolas,'Courier New',monospace\">Episode length: 571.60 +/- 163.40\n",
              "</pre>\n"
            ]
          },
          "metadata": {}
        },
        {
          "output_type": "display_data",
          "data": {
            "text/plain": [
              "New best mean reward!\n"
            ],
            "text/html": [
              "<pre style=\"white-space:pre;overflow-x:auto;line-height:normal;font-family:Menlo,'DejaVu Sans Mono',consolas,'Courier New',monospace\">New best mean reward!\n",
              "</pre>\n"
            ]
          },
          "metadata": {}
        },
        {
          "output_type": "display_data",
          "data": {
            "text/plain": [
              "Eval num_timesteps=90000, episode_reward=-96.81 +/- 148.02\n"
            ],
            "text/html": [
              "<pre style=\"white-space:pre;overflow-x:auto;line-height:normal;font-family:Menlo,'DejaVu Sans Mono',consolas,'Courier New',monospace\">Eval num_timesteps=90000, episode_reward=-96.81 +/- 148.02\n",
              "</pre>\n"
            ]
          },
          "metadata": {}
        },
        {
          "output_type": "display_data",
          "data": {
            "text/plain": [
              "Episode length: 650.40 +/- 235.79\n"
            ],
            "text/html": [
              "<pre style=\"white-space:pre;overflow-x:auto;line-height:normal;font-family:Menlo,'DejaVu Sans Mono',consolas,'Courier New',monospace\">Episode length: 650.40 +/- 235.79\n",
              "</pre>\n"
            ]
          },
          "metadata": {}
        },
        {
          "output_type": "display_data",
          "data": {
            "text/plain": [
              "Eval num_timesteps=100000, episode_reward=91.41 +/- 137.11\n"
            ],
            "text/html": [
              "<pre style=\"white-space:pre;overflow-x:auto;line-height:normal;font-family:Menlo,'DejaVu Sans Mono',consolas,'Courier New',monospace\">Eval num_timesteps=100000, episode_reward=91.41 +/- 137.11\n",
              "</pre>\n"
            ]
          },
          "metadata": {}
        },
        {
          "output_type": "display_data",
          "data": {
            "text/plain": [
              "Episode length: 634.80 +/- 197.80\n"
            ],
            "text/html": [
              "<pre style=\"white-space:pre;overflow-x:auto;line-height:normal;font-family:Menlo,'DejaVu Sans Mono',consolas,'Courier New',monospace\">Episode length: 634.80 +/- 197.80\n",
              "</pre>\n"
            ]
          },
          "metadata": {}
        },
        {
          "output_type": "display_data",
          "data": {
            "text/plain": [
              "Eval num_timesteps=110000, episode_reward=-39.14 +/- 110.77\n"
            ],
            "text/html": [
              "<pre style=\"white-space:pre;overflow-x:auto;line-height:normal;font-family:Menlo,'DejaVu Sans Mono',consolas,'Courier New',monospace\">Eval num_timesteps=110000, episode_reward=-39.14 +/- 110.77\n",
              "</pre>\n"
            ]
          },
          "metadata": {}
        },
        {
          "output_type": "display_data",
          "data": {
            "text/plain": [
              "Episode length: 784.80 +/- 195.66\n"
            ],
            "text/html": [
              "<pre style=\"white-space:pre;overflow-x:auto;line-height:normal;font-family:Menlo,'DejaVu Sans Mono',consolas,'Courier New',monospace\">Episode length: 784.80 +/- 195.66\n",
              "</pre>\n"
            ]
          },
          "metadata": {}
        },
        {
          "output_type": "display_data",
          "data": {
            "text/plain": [
              "Eval num_timesteps=120000, episode_reward=-20.67 +/- 66.66\n"
            ],
            "text/html": [
              "<pre style=\"white-space:pre;overflow-x:auto;line-height:normal;font-family:Menlo,'DejaVu Sans Mono',consolas,'Courier New',monospace\">Eval num_timesteps=120000, episode_reward=-20.67 +/- 66.66\n",
              "</pre>\n"
            ]
          },
          "metadata": {}
        },
        {
          "output_type": "display_data",
          "data": {
            "text/plain": [
              "Episode length: 465.40 +/- 282.96\n"
            ],
            "text/html": [
              "<pre style=\"white-space:pre;overflow-x:auto;line-height:normal;font-family:Menlo,'DejaVu Sans Mono',consolas,'Courier New',monospace\">Episode length: 465.40 +/- 282.96\n",
              "</pre>\n"
            ]
          },
          "metadata": {}
        },
        {
          "output_type": "display_data",
          "data": {
            "text/plain": [
              "Eval num_timesteps=130000, episode_reward=-2.63 +/- 84.71\n"
            ],
            "text/html": [
              "<pre style=\"white-space:pre;overflow-x:auto;line-height:normal;font-family:Menlo,'DejaVu Sans Mono',consolas,'Courier New',monospace\">Eval num_timesteps=130000, episode_reward=-2.63 +/- 84.71\n",
              "</pre>\n"
            ]
          },
          "metadata": {}
        },
        {
          "output_type": "display_data",
          "data": {
            "text/plain": [
              "Episode length: 596.20 +/- 336.01\n"
            ],
            "text/html": [
              "<pre style=\"white-space:pre;overflow-x:auto;line-height:normal;font-family:Menlo,'DejaVu Sans Mono',consolas,'Courier New',monospace\">Episode length: 596.20 +/- 336.01\n",
              "</pre>\n"
            ]
          },
          "metadata": {}
        },
        {
          "output_type": "display_data",
          "data": {
            "text/plain": [
              "Eval num_timesteps=140000, episode_reward=135.08 +/- 122.14\n"
            ],
            "text/html": [
              "<pre style=\"white-space:pre;overflow-x:auto;line-height:normal;font-family:Menlo,'DejaVu Sans Mono',consolas,'Courier New',monospace\">Eval num_timesteps=140000, episode_reward=135.08 +/- 122.14\n",
              "</pre>\n"
            ]
          },
          "metadata": {}
        },
        {
          "output_type": "display_data",
          "data": {
            "text/plain": [
              "Episode length: 493.80 +/- 119.24\n"
            ],
            "text/html": [
              "<pre style=\"white-space:pre;overflow-x:auto;line-height:normal;font-family:Menlo,'DejaVu Sans Mono',consolas,'Courier New',monospace\">Episode length: 493.80 +/- 119.24\n",
              "</pre>\n"
            ]
          },
          "metadata": {}
        },
        {
          "output_type": "display_data",
          "data": {
            "text/plain": [
              "Eval num_timesteps=150000, episode_reward=91.76 +/- 107.97\n"
            ],
            "text/html": [
              "<pre style=\"white-space:pre;overflow-x:auto;line-height:normal;font-family:Menlo,'DejaVu Sans Mono',consolas,'Courier New',monospace\">Eval num_timesteps=150000, episode_reward=91.76 +/- 107.97\n",
              "</pre>\n"
            ]
          },
          "metadata": {}
        },
        {
          "output_type": "display_data",
          "data": {
            "text/plain": [
              "Episode length: 369.40 +/- 88.76\n"
            ],
            "text/html": [
              "<pre style=\"white-space:pre;overflow-x:auto;line-height:normal;font-family:Menlo,'DejaVu Sans Mono',consolas,'Courier New',monospace\">Episode length: 369.40 +/- 88.76\n",
              "</pre>\n"
            ]
          },
          "metadata": {}
        },
        {
          "output_type": "display_data",
          "data": {
            "text/plain": [
              "Eval num_timesteps=160000, episode_reward=172.67 +/- 43.30\n"
            ],
            "text/html": [
              "<pre style=\"white-space:pre;overflow-x:auto;line-height:normal;font-family:Menlo,'DejaVu Sans Mono',consolas,'Courier New',monospace\">Eval num_timesteps=160000, episode_reward=172.67 +/- 43.30\n",
              "</pre>\n"
            ]
          },
          "metadata": {}
        },
        {
          "output_type": "display_data",
          "data": {
            "text/plain": [
              "Episode length: 587.40 +/- 115.25\n"
            ],
            "text/html": [
              "<pre style=\"white-space:pre;overflow-x:auto;line-height:normal;font-family:Menlo,'DejaVu Sans Mono',consolas,'Courier New',monospace\">Episode length: 587.40 +/- 115.25\n",
              "</pre>\n"
            ]
          },
          "metadata": {}
        },
        {
          "output_type": "display_data",
          "data": {
            "text/plain": [
              "New best mean reward!\n"
            ],
            "text/html": [
              "<pre style=\"white-space:pre;overflow-x:auto;line-height:normal;font-family:Menlo,'DejaVu Sans Mono',consolas,'Courier New',monospace\">New best mean reward!\n",
              "</pre>\n"
            ]
          },
          "metadata": {}
        },
        {
          "output_type": "display_data",
          "data": {
            "text/plain": [
              "Eval num_timesteps=170000, episode_reward=119.71 +/- 94.77\n"
            ],
            "text/html": [
              "<pre style=\"white-space:pre;overflow-x:auto;line-height:normal;font-family:Menlo,'DejaVu Sans Mono',consolas,'Courier New',monospace\">Eval num_timesteps=170000, episode_reward=119.71 +/- 94.77\n",
              "</pre>\n"
            ]
          },
          "metadata": {}
        },
        {
          "output_type": "display_data",
          "data": {
            "text/plain": [
              "Episode length: 569.60 +/- 156.29\n"
            ],
            "text/html": [
              "<pre style=\"white-space:pre;overflow-x:auto;line-height:normal;font-family:Menlo,'DejaVu Sans Mono',consolas,'Courier New',monospace\">Episode length: 569.60 +/- 156.29\n",
              "</pre>\n"
            ]
          },
          "metadata": {}
        },
        {
          "output_type": "display_data",
          "data": {
            "text/plain": [
              "Eval num_timesteps=180000, episode_reward=73.86 +/- 104.92\n"
            ],
            "text/html": [
              "<pre style=\"white-space:pre;overflow-x:auto;line-height:normal;font-family:Menlo,'DejaVu Sans Mono',consolas,'Courier New',monospace\">Eval num_timesteps=180000, episode_reward=73.86 +/- 104.92\n",
              "</pre>\n"
            ]
          },
          "metadata": {}
        },
        {
          "output_type": "display_data",
          "data": {
            "text/plain": [
              "Episode length: 354.00 +/- 73.34\n"
            ],
            "text/html": [
              "<pre style=\"white-space:pre;overflow-x:auto;line-height:normal;font-family:Menlo,'DejaVu Sans Mono',consolas,'Courier New',monospace\">Episode length: 354.00 +/- 73.34\n",
              "</pre>\n"
            ]
          },
          "metadata": {}
        },
        {
          "output_type": "display_data",
          "data": {
            "text/plain": [
              "Eval num_timesteps=190000, episode_reward=77.07 +/- 118.75\n"
            ],
            "text/html": [
              "<pre style=\"white-space:pre;overflow-x:auto;line-height:normal;font-family:Menlo,'DejaVu Sans Mono',consolas,'Courier New',monospace\">Eval num_timesteps=190000, episode_reward=77.07 +/- 118.75\n",
              "</pre>\n"
            ]
          },
          "metadata": {}
        },
        {
          "output_type": "display_data",
          "data": {
            "text/plain": [
              "Episode length: 530.20 +/- 254.95\n"
            ],
            "text/html": [
              "<pre style=\"white-space:pre;overflow-x:auto;line-height:normal;font-family:Menlo,'DejaVu Sans Mono',consolas,'Courier New',monospace\">Episode length: 530.20 +/- 254.95\n",
              "</pre>\n"
            ]
          },
          "metadata": {}
        },
        {
          "output_type": "display_data",
          "data": {
            "text/plain": [
              "Eval num_timesteps=200000, episode_reward=99.66 +/- 130.72\n"
            ],
            "text/html": [
              "<pre style=\"white-space:pre;overflow-x:auto;line-height:normal;font-family:Menlo,'DejaVu Sans Mono',consolas,'Courier New',monospace\">Eval num_timesteps=200000, episode_reward=99.66 +/- 130.72\n",
              "</pre>\n"
            ]
          },
          "metadata": {}
        },
        {
          "output_type": "display_data",
          "data": {
            "text/plain": [
              "Episode length: 518.60 +/- 252.14\n"
            ],
            "text/html": [
              "<pre style=\"white-space:pre;overflow-x:auto;line-height:normal;font-family:Menlo,'DejaVu Sans Mono',consolas,'Courier New',monospace\">Episode length: 518.60 +/- 252.14\n",
              "</pre>\n"
            ]
          },
          "metadata": {}
        },
        {
          "output_type": "display_data",
          "data": {
            "text/plain": [
              "Eval num_timesteps=210000, episode_reward=100.64 +/- 145.60\n"
            ],
            "text/html": [
              "<pre style=\"white-space:pre;overflow-x:auto;line-height:normal;font-family:Menlo,'DejaVu Sans Mono',consolas,'Courier New',monospace\">Eval num_timesteps=210000, episode_reward=100.64 +/- 145.60\n",
              "</pre>\n"
            ]
          },
          "metadata": {}
        },
        {
          "output_type": "display_data",
          "data": {
            "text/plain": [
              "Episode length: 452.20 +/- 257.61\n"
            ],
            "text/html": [
              "<pre style=\"white-space:pre;overflow-x:auto;line-height:normal;font-family:Menlo,'DejaVu Sans Mono',consolas,'Courier New',monospace\">Episode length: 452.20 +/- 257.61\n",
              "</pre>\n"
            ]
          },
          "metadata": {}
        },
        {
          "output_type": "display_data",
          "data": {
            "text/plain": [
              "Eval num_timesteps=220000, episode_reward=183.26 +/- 83.91\n"
            ],
            "text/html": [
              "<pre style=\"white-space:pre;overflow-x:auto;line-height:normal;font-family:Menlo,'DejaVu Sans Mono',consolas,'Courier New',monospace\">Eval num_timesteps=220000, episode_reward=183.26 +/- 83.91\n",
              "</pre>\n"
            ]
          },
          "metadata": {}
        },
        {
          "output_type": "display_data",
          "data": {
            "text/plain": [
              "Episode length: 334.80 +/- 15.73\n"
            ],
            "text/html": [
              "<pre style=\"white-space:pre;overflow-x:auto;line-height:normal;font-family:Menlo,'DejaVu Sans Mono',consolas,'Courier New',monospace\">Episode length: 334.80 +/- 15.73\n",
              "</pre>\n"
            ]
          },
          "metadata": {}
        },
        {
          "output_type": "display_data",
          "data": {
            "text/plain": [
              "New best mean reward!\n"
            ],
            "text/html": [
              "<pre style=\"white-space:pre;overflow-x:auto;line-height:normal;font-family:Menlo,'DejaVu Sans Mono',consolas,'Courier New',monospace\">New best mean reward!\n",
              "</pre>\n"
            ]
          },
          "metadata": {}
        },
        {
          "output_type": "display_data",
          "data": {
            "text/plain": [
              "Eval num_timesteps=230000, episode_reward=115.44 +/- 122.92\n"
            ],
            "text/html": [
              "<pre style=\"white-space:pre;overflow-x:auto;line-height:normal;font-family:Menlo,'DejaVu Sans Mono',consolas,'Courier New',monospace\">Eval num_timesteps=230000, episode_reward=115.44 +/- 122.92\n",
              "</pre>\n"
            ]
          },
          "metadata": {}
        },
        {
          "output_type": "display_data",
          "data": {
            "text/plain": [
              "Episode length: 294.80 +/- 63.00\n"
            ],
            "text/html": [
              "<pre style=\"white-space:pre;overflow-x:auto;line-height:normal;font-family:Menlo,'DejaVu Sans Mono',consolas,'Courier New',monospace\">Episode length: 294.80 +/- 63.00\n",
              "</pre>\n"
            ]
          },
          "metadata": {}
        },
        {
          "output_type": "display_data",
          "data": {
            "text/plain": [
              "Eval num_timesteps=240000, episode_reward=152.85 +/- 76.25\n"
            ],
            "text/html": [
              "<pre style=\"white-space:pre;overflow-x:auto;line-height:normal;font-family:Menlo,'DejaVu Sans Mono',consolas,'Courier New',monospace\">Eval num_timesteps=240000, episode_reward=152.85 +/- 76.25\n",
              "</pre>\n"
            ]
          },
          "metadata": {}
        },
        {
          "output_type": "display_data",
          "data": {
            "text/plain": [
              "Episode length: 435.00 +/- 292.40\n"
            ],
            "text/html": [
              "<pre style=\"white-space:pre;overflow-x:auto;line-height:normal;font-family:Menlo,'DejaVu Sans Mono',consolas,'Courier New',monospace\">Episode length: 435.00 +/- 292.40\n",
              "</pre>\n"
            ]
          },
          "metadata": {}
        },
        {
          "output_type": "display_data",
          "data": {
            "text/plain": [
              "Eval num_timesteps=250000, episode_reward=237.30 +/- 25.95\n"
            ],
            "text/html": [
              "<pre style=\"white-space:pre;overflow-x:auto;line-height:normal;font-family:Menlo,'DejaVu Sans Mono',consolas,'Courier New',monospace\">Eval num_timesteps=250000, episode_reward=237.30 +/- 25.95\n",
              "</pre>\n"
            ]
          },
          "metadata": {}
        },
        {
          "output_type": "display_data",
          "data": {
            "text/plain": [
              "Episode length: 444.40 +/- 94.68\n"
            ],
            "text/html": [
              "<pre style=\"white-space:pre;overflow-x:auto;line-height:normal;font-family:Menlo,'DejaVu Sans Mono',consolas,'Courier New',monospace\">Episode length: 444.40 +/- 94.68\n",
              "</pre>\n"
            ]
          },
          "metadata": {}
        },
        {
          "output_type": "display_data",
          "data": {
            "text/plain": [
              "New best mean reward!\n"
            ],
            "text/html": [
              "<pre style=\"white-space:pre;overflow-x:auto;line-height:normal;font-family:Menlo,'DejaVu Sans Mono',consolas,'Courier New',monospace\">New best mean reward!\n",
              "</pre>\n"
            ]
          },
          "metadata": {}
        },
        {
          "output_type": "display_data",
          "data": {
            "text/plain": [
              "Eval num_timesteps=260000, episode_reward=165.28 +/- 64.21\n"
            ],
            "text/html": [
              "<pre style=\"white-space:pre;overflow-x:auto;line-height:normal;font-family:Menlo,'DejaVu Sans Mono',consolas,'Courier New',monospace\">Eval num_timesteps=260000, episode_reward=165.28 +/- 64.21\n",
              "</pre>\n"
            ]
          },
          "metadata": {}
        },
        {
          "output_type": "display_data",
          "data": {
            "text/plain": [
              "Episode length: 484.00 +/- 75.14\n"
            ],
            "text/html": [
              "<pre style=\"white-space:pre;overflow-x:auto;line-height:normal;font-family:Menlo,'DejaVu Sans Mono',consolas,'Courier New',monospace\">Episode length: 484.00 +/- 75.14\n",
              "</pre>\n"
            ]
          },
          "metadata": {}
        },
        {
          "output_type": "display_data",
          "data": {
            "text/plain": [
              "Eval num_timesteps=270000, episode_reward=-24.56 +/- 186.89\n"
            ],
            "text/html": [
              "<pre style=\"white-space:pre;overflow-x:auto;line-height:normal;font-family:Menlo,'DejaVu Sans Mono',consolas,'Courier New',monospace\">Eval num_timesteps=270000, episode_reward=-24.56 +/- 186.89\n",
              "</pre>\n"
            ]
          },
          "metadata": {}
        },
        {
          "output_type": "display_data",
          "data": {
            "text/plain": [
              "Episode length: 483.80 +/- 62.31\n"
            ],
            "text/html": [
              "<pre style=\"white-space:pre;overflow-x:auto;line-height:normal;font-family:Menlo,'DejaVu Sans Mono',consolas,'Courier New',monospace\">Episode length: 483.80 +/- 62.31\n",
              "</pre>\n"
            ]
          },
          "metadata": {}
        },
        {
          "output_type": "display_data",
          "data": {
            "text/plain": [
              "Eval num_timesteps=280000, episode_reward=153.29 +/- 92.71\n"
            ],
            "text/html": [
              "<pre style=\"white-space:pre;overflow-x:auto;line-height:normal;font-family:Menlo,'DejaVu Sans Mono',consolas,'Courier New',monospace\">Eval num_timesteps=280000, episode_reward=153.29 +/- 92.71\n",
              "</pre>\n"
            ]
          },
          "metadata": {}
        },
        {
          "output_type": "display_data",
          "data": {
            "text/plain": [
              "Episode length: 532.40 +/- 247.08\n"
            ],
            "text/html": [
              "<pre style=\"white-space:pre;overflow-x:auto;line-height:normal;font-family:Menlo,'DejaVu Sans Mono',consolas,'Courier New',monospace\">Episode length: 532.40 +/- 247.08\n",
              "</pre>\n"
            ]
          },
          "metadata": {}
        },
        {
          "output_type": "display_data",
          "data": {
            "text/plain": [
              "Eval num_timesteps=290000, episode_reward=142.85 +/- 108.45\n"
            ],
            "text/html": [
              "<pre style=\"white-space:pre;overflow-x:auto;line-height:normal;font-family:Menlo,'DejaVu Sans Mono',consolas,'Courier New',monospace\">Eval num_timesteps=290000, episode_reward=142.85 +/- 108.45\n",
              "</pre>\n"
            ]
          },
          "metadata": {}
        },
        {
          "output_type": "display_data",
          "data": {
            "text/plain": [
              "Episode length: 415.00 +/- 152.87\n"
            ],
            "text/html": [
              "<pre style=\"white-space:pre;overflow-x:auto;line-height:normal;font-family:Menlo,'DejaVu Sans Mono',consolas,'Courier New',monospace\">Episode length: 415.00 +/- 152.87\n",
              "</pre>\n"
            ]
          },
          "metadata": {}
        },
        {
          "output_type": "display_data",
          "data": {
            "text/plain": [
              "Eval num_timesteps=300000, episode_reward=191.06 +/- 103.53\n"
            ],
            "text/html": [
              "<pre style=\"white-space:pre;overflow-x:auto;line-height:normal;font-family:Menlo,'DejaVu Sans Mono',consolas,'Courier New',monospace\">Eval num_timesteps=300000, episode_reward=191.06 +/- 103.53\n",
              "</pre>\n"
            ]
          },
          "metadata": {}
        },
        {
          "output_type": "display_data",
          "data": {
            "text/plain": [
              "Episode length: 511.60 +/- 244.23\n"
            ],
            "text/html": [
              "<pre style=\"white-space:pre;overflow-x:auto;line-height:normal;font-family:Menlo,'DejaVu Sans Mono',consolas,'Courier New',monospace\">Episode length: 511.60 +/- 244.23\n",
              "</pre>\n"
            ]
          },
          "metadata": {}
        },
        {
          "output_type": "display_data",
          "data": {
            "text/plain": [
              "Eval num_timesteps=310000, episode_reward=164.97 +/- 102.66\n"
            ],
            "text/html": [
              "<pre style=\"white-space:pre;overflow-x:auto;line-height:normal;font-family:Menlo,'DejaVu Sans Mono',consolas,'Courier New',monospace\">Eval num_timesteps=310000, episode_reward=164.97 +/- 102.66\n",
              "</pre>\n"
            ]
          },
          "metadata": {}
        },
        {
          "output_type": "display_data",
          "data": {
            "text/plain": [
              "Episode length: 339.40 +/- 46.07\n"
            ],
            "text/html": [
              "<pre style=\"white-space:pre;overflow-x:auto;line-height:normal;font-family:Menlo,'DejaVu Sans Mono',consolas,'Courier New',monospace\">Episode length: 339.40 +/- 46.07\n",
              "</pre>\n"
            ]
          },
          "metadata": {}
        },
        {
          "output_type": "display_data",
          "data": {
            "text/plain": [
              "Eval num_timesteps=320000, episode_reward=217.95 +/- 24.69\n"
            ],
            "text/html": [
              "<pre style=\"white-space:pre;overflow-x:auto;line-height:normal;font-family:Menlo,'DejaVu Sans Mono',consolas,'Courier New',monospace\">Eval num_timesteps=320000, episode_reward=217.95 +/- 24.69\n",
              "</pre>\n"
            ]
          },
          "metadata": {}
        },
        {
          "output_type": "display_data",
          "data": {
            "text/plain": [
              "Episode length: 416.40 +/- 39.86\n"
            ],
            "text/html": [
              "<pre style=\"white-space:pre;overflow-x:auto;line-height:normal;font-family:Menlo,'DejaVu Sans Mono',consolas,'Courier New',monospace\">Episode length: 416.40 +/- 39.86\n",
              "</pre>\n"
            ]
          },
          "metadata": {}
        },
        {
          "output_type": "display_data",
          "data": {
            "text/plain": [
              "Eval num_timesteps=330000, episode_reward=201.20 +/- 109.48\n"
            ],
            "text/html": [
              "<pre style=\"white-space:pre;overflow-x:auto;line-height:normal;font-family:Menlo,'DejaVu Sans Mono',consolas,'Courier New',monospace\">Eval num_timesteps=330000, episode_reward=201.20 +/- 109.48\n",
              "</pre>\n"
            ]
          },
          "metadata": {}
        },
        {
          "output_type": "display_data",
          "data": {
            "text/plain": [
              "Episode length: 339.80 +/- 19.36\n"
            ],
            "text/html": [
              "<pre style=\"white-space:pre;overflow-x:auto;line-height:normal;font-family:Menlo,'DejaVu Sans Mono',consolas,'Courier New',monospace\">Episode length: 339.80 +/- 19.36\n",
              "</pre>\n"
            ]
          },
          "metadata": {}
        },
        {
          "output_type": "display_data",
          "data": {
            "text/plain": [
              "Eval num_timesteps=340000, episode_reward=146.79 +/- 93.76\n"
            ],
            "text/html": [
              "<pre style=\"white-space:pre;overflow-x:auto;line-height:normal;font-family:Menlo,'DejaVu Sans Mono',consolas,'Courier New',monospace\">Eval num_timesteps=340000, episode_reward=146.79 +/- 93.76\n",
              "</pre>\n"
            ]
          },
          "metadata": {}
        },
        {
          "output_type": "display_data",
          "data": {
            "text/plain": [
              "Episode length: 502.00 +/- 98.12\n"
            ],
            "text/html": [
              "<pre style=\"white-space:pre;overflow-x:auto;line-height:normal;font-family:Menlo,'DejaVu Sans Mono',consolas,'Courier New',monospace\">Episode length: 502.00 +/- 98.12\n",
              "</pre>\n"
            ]
          },
          "metadata": {}
        },
        {
          "output_type": "display_data",
          "data": {
            "text/plain": [
              "Eval num_timesteps=350000, episode_reward=250.03 +/- 14.50\n"
            ],
            "text/html": [
              "<pre style=\"white-space:pre;overflow-x:auto;line-height:normal;font-family:Menlo,'DejaVu Sans Mono',consolas,'Courier New',monospace\">Eval num_timesteps=350000, episode_reward=250.03 +/- 14.50\n",
              "</pre>\n"
            ]
          },
          "metadata": {}
        },
        {
          "output_type": "display_data",
          "data": {
            "text/plain": [
              "Episode length: 380.80 +/- 20.45\n"
            ],
            "text/html": [
              "<pre style=\"white-space:pre;overflow-x:auto;line-height:normal;font-family:Menlo,'DejaVu Sans Mono',consolas,'Courier New',monospace\">Episode length: 380.80 +/- 20.45\n",
              "</pre>\n"
            ]
          },
          "metadata": {}
        },
        {
          "output_type": "display_data",
          "data": {
            "text/plain": [
              "New best mean reward!\n"
            ],
            "text/html": [
              "<pre style=\"white-space:pre;overflow-x:auto;line-height:normal;font-family:Menlo,'DejaVu Sans Mono',consolas,'Courier New',monospace\">New best mean reward!\n",
              "</pre>\n"
            ]
          },
          "metadata": {}
        },
        {
          "output_type": "display_data",
          "data": {
            "text/plain": [
              "Stopping training because the mean reward 250.03  is above the threshold 250\n"
            ],
            "text/html": [
              "<pre style=\"white-space:pre;overflow-x:auto;line-height:normal;font-family:Menlo,'DejaVu Sans Mono',consolas,'Courier New',monospace\">Stopping training because the mean reward 250.03  is above the threshold 250\n",
              "</pre>\n"
            ]
          },
          "metadata": {}
        },
        {
          "output_type": "display_data",
          "data": {
            "text/plain": [],
            "text/html": [
              "<pre style=\"white-space:pre;overflow-x:auto;line-height:normal;font-family:Menlo,'DejaVu Sans Mono',consolas,'Courier New',monospace\"></pre>\n"
            ]
          },
          "metadata": {}
        },
        {
          "output_type": "display_data",
          "data": {
            "text/plain": [
              "\n"
            ],
            "text/html": [
              "<pre style=\"white-space:pre;overflow-x:auto;line-height:normal;font-family:Menlo,'DejaVu Sans Mono',consolas,'Courier New',monospace\">\n",
              "</pre>\n"
            ]
          },
          "metadata": {}
        }
      ],
      "source": [
        "from stable_baselines3 import PPO\n",
        "from stable_baselines3.common.callbacks import EvalCallback, StopTrainingOnRewardThreshold\n",
        "\n",
        "arch = \"ppo\"\n",
        "model_name = \"{arch}-{env}\".format(arch=arch, env=env_id)\n",
        "net_arch = [128, 128]\n",
        "env = make_env()\n",
        "\n",
        "model = PPO(\"MlpPolicy\", env, batch_size=64, learning_rate=1e-3,\n",
        "            policy_kwargs=dict(\n",
        "              net_arch=net_arch\n",
        "            ))\n",
        "callback_on_best = StopTrainingOnRewardThreshold(reward_threshold=250,\n",
        "                                                 verbose=1)\n",
        "eval_callback = EvalCallback(env, callback_on_new_best=callback_on_best,\n",
        "                             verbose=1)\n",
        "model.learn(total_timesteps=int(1e6), log_interval=10,\n",
        "            callback=eval_callback, progress_bar=True)\n",
        "model.save(model_name)"
      ]
    },
    {
      "cell_type": "code",
      "source": [
        "from stable_baselines3.common.vec_env import DummyVecEnv\n",
        "from stable_baselines3.common.monitor import Monitor\n",
        "\n",
        "repo_id = \"rhiga/{model_name}\".format(model_name=model_name)\n",
        "eval_env = DummyVecEnv([lambda: Monitor(gym.make(env_id, render_mode=\"rgb_array\"))])\n",
        "package_to_hub(\n",
        "    model=model,\n",
        "    model_name=model_name,\n",
        "    model_architecture=arch,\n",
        "    env_id=env_id,\n",
        "    eval_env=eval_env,\n",
        "    repo_id=\"rhiga/dqn-LunarLander-v2\",\n",
        "    commit_message=\"Initial commit\"\n",
        ")"
      ],
      "metadata": {
        "colab": {
          "base_uri": "https://localhost:8080/",
          "height": 433,
          "referenced_widgets": [
            "3a38f0f53a844e31856a9272ab7cc221",
            "f1fe3bc5a1904bb9962d350841922b6a",
            "8a719676320c4bf59450376735f3b2c5",
            "7630ba0c7d35487f8e7a08b7d22cdf4d",
            "d6c42869ef3b46f1a9231c7d33a4ec27",
            "02898a83fb2944d4b9d0ba6bff398f86",
            "ff74c1b65c2646cea61101163acc3f11",
            "319f73f6db8b4738bc27c37d1bc5b6f8",
            "f903a9bb33854d37bd51c549fbd3538a",
            "50d12b08a70b447da070e1b1fd0c9217",
            "bc920d34a1dd4a39824b90f4eba50131",
            "94a4abdc5b8642e6800fce5f97f7bee8",
            "af57c12682af49878c1c83b9e434c6c3",
            "44e9cae57d53402395295fb43009cab9",
            "ef331e7ea09245379fbbd700fe797a3f",
            "fe2787120f1b4fbd8710b198565cf2ab",
            "35c34933f2e242e6bd5c204d0894c09f",
            "ea66539f25e04006bb46295fd1109f6d",
            "becfbdb64061484fa82cf233b431e83f",
            "e44e67b4f5344755b27410fab53ff11a",
            "602c0c276d854af5b294762cd8e0752c",
            "32a36b53d0c4497a8890f0edbb541d0b",
            "bc1aaed1fc44491ba89fa238a2e56e42",
            "51a755a00db74e54bb797f81fe521d42",
            "2a6950260b6a43de93cefdee86fc2e24",
            "429d3b002a304071a91421c41032af83",
            "d08c22e0fc324fcab65829ddb4e18e82",
            "d3384677204542cfb1a2154eb6440b48",
            "ad67e4fd4f27473994702539a16f60f3",
            "6b9cadafdf754fd0bc43161b4fcc77c9",
            "43933cac96f54545a282eeaa5f3818b4",
            "02a682aa0dae41a4806e0271b82c0058",
            "5d92ffea42564fc9aafe5833cefddd03",
            "fac0cdc978b44df58f4e711a490a6de6",
            "4371d9732f0d4dd1926d4e7cd60095e8",
            "729063ea0fbc47f09a28159d154a8e97",
            "87c3efa32501428694337030ee4e0969",
            "a778411311d94152aac0d909091a61dd",
            "c14c73d92d3a4fabab32e6548daf2078",
            "5ae27d04177b4689b7759cdd072275c0",
            "3d377ee350754e74bffba555f6536299",
            "e2e9fa315d1b4e1aac1aa4c157d07522",
            "d8a6e30cbc224ba99e474bc8aadbb4e6",
            "5404e81d5a9744f898d5dac1e2d75207"
          ]
        },
        "id": "IZjdf1Oao_z2",
        "outputId": "f4bf7624-d45a-4ae4-e027-b034204ac794"
      },
      "execution_count": 10,
      "outputs": [
        {
          "output_type": "stream",
          "name": "stderr",
          "text": [
            "/usr/local/lib/python3.10/dist-packages/ipykernel/ipkernel.py:283: DeprecationWarning: `should_run_async` will not call `transform_cell` automatically in the future. Please pass the result to `transformed_cell` argument and any exception that happen during thetransform in `preprocessing_exc_tuple` in IPython 7.17 and above.\n",
            "  and should_run_async(code)\n"
          ]
        },
        {
          "output_type": "stream",
          "name": "stdout",
          "text": [
            "\u001b[38;5;4mℹ This function will save, evaluate, generate a video of your agent,\n",
            "create a model card and push everything to the hub. It might take up to 1min.\n",
            "This is a work in progress: if you encounter a bug, please open an issue.\u001b[0m\n",
            "Saving video to /tmp/tmp9yykrhus/-step-0-to-step-1000.mp4\n",
            "Moviepy - Building video /tmp/tmp9yykrhus/-step-0-to-step-1000.mp4.\n",
            "Moviepy - Writing video /tmp/tmp9yykrhus/-step-0-to-step-1000.mp4\n",
            "\n"
          ]
        },
        {
          "output_type": "stream",
          "name": "stderr",
          "text": []
        },
        {
          "output_type": "stream",
          "name": "stdout",
          "text": [
            "Moviepy - Done !\n",
            "Moviepy - video ready /tmp/tmp9yykrhus/-step-0-to-step-1000.mp4\n",
            "\u001b[38;5;4mℹ Pushing repo rhiga/dqn-LunarLander-v2 to the Hugging Face Hub\u001b[0m\n"
          ]
        },
        {
          "output_type": "display_data",
          "data": {
            "text/plain": [
              "policy.optimizer.pth:   0%|          | 0.00/298k [00:00<?, ?B/s]"
            ],
            "application/vnd.jupyter.widget-view+json": {
              "version_major": 2,
              "version_minor": 0,
              "model_id": "3a38f0f53a844e31856a9272ab7cc221"
            }
          },
          "metadata": {}
        },
        {
          "output_type": "display_data",
          "data": {
            "text/plain": [
              "policy.pth:   0%|          | 0.00/148k [00:00<?, ?B/s]"
            ],
            "application/vnd.jupyter.widget-view+json": {
              "version_major": 2,
              "version_minor": 0,
              "model_id": "94a4abdc5b8642e6800fce5f97f7bee8"
            }
          },
          "metadata": {}
        },
        {
          "output_type": "display_data",
          "data": {
            "text/plain": [
              "Upload 3 LFS files:   0%|          | 0/3 [00:00<?, ?it/s]"
            ],
            "application/vnd.jupyter.widget-view+json": {
              "version_major": 2,
              "version_minor": 0,
              "model_id": "bc1aaed1fc44491ba89fa238a2e56e42"
            }
          },
          "metadata": {}
        },
        {
          "output_type": "display_data",
          "data": {
            "text/plain": [
              "ppo-LunarLander-v2.zip:   0%|          | 0.00/461k [00:00<?, ?B/s]"
            ],
            "application/vnd.jupyter.widget-view+json": {
              "version_major": 2,
              "version_minor": 0,
              "model_id": "fac0cdc978b44df58f4e711a490a6de6"
            }
          },
          "metadata": {}
        },
        {
          "output_type": "stream",
          "name": "stdout",
          "text": [
            "\u001b[38;5;4mℹ Your model is pushed to the Hub. You can view your model here:\n",
            "https://huggingface.co/rhiga/dqn-LunarLander-v2/tree/main/\u001b[0m\n"
          ]
        },
        {
          "output_type": "execute_result",
          "data": {
            "text/plain": [
              "'https://huggingface.co/rhiga/dqn-LunarLander-v2/tree/main/'"
            ],
            "application/vnd.google.colaboratory.intrinsic+json": {
              "type": "string"
            }
          },
          "metadata": {},
          "execution_count": 10
        }
      ]
    },
    {
      "cell_type": "code",
      "source": [
        "artifact = load_from_hub(\n",
        "    repo_id,\n",
        "    \"{}.zip\".format(model_name)\n",
        ")\n",
        "model = PPO.load(artifact)"
      ],
      "metadata": {
        "colab": {
          "base_uri": "https://localhost:8080/"
        },
        "id": "jvV6vwAW2ZMj",
        "outputId": "08ab846c-4372-4b88-c288-1349ba86791d"
      },
      "execution_count": 16,
      "outputs": [
        {
          "output_type": "stream",
          "name": "stderr",
          "text": [
            "/usr/local/lib/python3.10/dist-packages/ipykernel/ipkernel.py:283: DeprecationWarning: `should_run_async` will not call `transform_cell` automatically in the future. Please pass the result to `transformed_cell` argument and any exception that happen during thetransform in `preprocessing_exc_tuple` in IPython 7.17 and above.\n",
            "  and should_run_async(code)\n"
          ]
        }
      ]
    },
    {
      "cell_type": "code",
      "execution_count": 17,
      "metadata": {
        "colab": {
          "base_uri": "https://localhost:8080/",
          "height": 548
        },
        "id": "Ies8zJUfvwf7",
        "outputId": "3e281bff-99e7-459a-f789-32c74cc2831d"
      },
      "outputs": [
        {
          "output_type": "stream",
          "name": "stderr",
          "text": [
            "/usr/local/lib/python3.10/dist-packages/gym/core.py:317: DeprecationWarning: \u001b[33mWARN: Initializing wrapper in old step API which returns one bool instead of two. It is recommended to set `new_step_api=True` to use new step API. This will be the default behaviour in future.\u001b[0m\n",
            "  deprecation(\n",
            "/usr/local/lib/python3.10/dist-packages/gym/wrappers/record_video.py:78: UserWarning: \u001b[33mWARN: Overwriting existing videos at /content/video folder (try specifying a different `video_folder` for the `RecordVideo` wrapper if this is not desired)\u001b[0m\n",
            "  logger.warn(\n",
            "/usr/local/lib/python3.10/dist-packages/gymnasium/core.py:311: UserWarning: \u001b[33mWARN: env.is_vector_env to get variables from other wrappers is deprecated and will be removed in v1.0, to get this variable you can do `env.unwrapped.is_vector_env` for environment variables or `env.get_wrapper_attr('is_vector_env')` that will search the reminding wrappers.\u001b[0m\n",
            "  logger.warn(\n"
          ]
        },
        {
          "output_type": "display_data",
          "data": {
            "text/plain": [
              "<IPython.core.display.HTML object>"
            ],
            "text/html": [
              "<video alt=\"test\" autoplay\n",
              "                loop controls style=\"height: 400px;\">\n",
              "                <source src=\"data:video/mp4;base64,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\" type=\"video/mp4\" />\n",
              "             </video>"
            ]
          },
          "metadata": {}
        }
      ],
      "source": [
        "env = make_env()\n",
        "record_env = RecordVideo(env, './video')\n",
        "obs, info = record_env.reset()\n",
        "terminated = False\n",
        "while not terminated:\n",
        "    action, _ = model.predict(obs, deterministic=True)\n",
        "    obs, reward, terminated, info = record_env.step(action)\n",
        "record_env.close()\n",
        "show_video()"
      ]
    },
    {
      "cell_type": "code",
      "execution_count": null,
      "metadata": {
        "id": "3fLL_Iwhw03Q"
      },
      "outputs": [],
      "source": []
    }
  ],
  "metadata": {
    "accelerator": "GPU",
    "colab": {
      "provenance": [],
      "toc_visible": true,
      "mount_file_id": "1PWzTL5DbXzahqj-o3PKkgHu_gXt_l06p",
      "authorship_tag": "ABX9TyP/Wxl3QTjbv3tCIxRuVThs",
      "include_colab_link": true
    },
    "kernelspec": {
      "display_name": "Python 3",
      "name": "python3"
    },
    "language_info": {
      "name": "python"
    },
    "widgets": {
      "application/vnd.jupyter.widget-state+json": {
        "bf38da56524c46a8b17850f6ba85c113": {
          "model_module": "@jupyter-widgets/controls",
          "model_name": "VBoxModel",
          "model_module_version": "1.5.0",
          "state": {
            "_dom_classes": [],
            "_model_module": "@jupyter-widgets/controls",
            "_model_module_version": "1.5.0",
            "_model_name": "VBoxModel",
            "_view_count": null,
            "_view_module": "@jupyter-widgets/controls",
            "_view_module_version": "1.5.0",
            "_view_name": "VBoxView",
            "box_style": "",
            "children": [
              "IPY_MODEL_b5d9e83f432b44009f18b3f05f828d93",
              "IPY_MODEL_11029079138a42e09173c643f871fc30",
              "IPY_MODEL_20574804464c44c8a957841c4bbd1158",
              "IPY_MODEL_d2d10eea1d9c47128c67a6bcbf91aec3"
            ],
            "layout": "IPY_MODEL_d1fa9bd52bd14d08b3ddb3b4da41c36f"
          }
        },
        "63fdf99343734cfa92e3a09945dfd2c4": {
          "model_module": "@jupyter-widgets/controls",
          "model_name": "HTMLModel",
          "model_module_version": "1.5.0",
          "state": {
            "_dom_classes": [],
            "_model_module": "@jupyter-widgets/controls",
            "_model_module_version": "1.5.0",
            "_model_name": "HTMLModel",
            "_view_count": null,
            "_view_module": "@jupyter-widgets/controls",
            "_view_module_version": "1.5.0",
            "_view_name": "HTMLView",
            "description": "",
            "description_tooltip": null,
            "layout": "IPY_MODEL_60f3e63e638b4c43be3ceebd5b498361",
            "placeholder": "​",
            "style": "IPY_MODEL_0bd61ae9e1374499be87a467af6917cd",
            "value": "<center> <img\nsrc=https://huggingface.co/front/assets/huggingface_logo-noborder.svg\nalt='Hugging Face'> <br> Copy a token from <a\nhref=\"https://huggingface.co/settings/tokens\" target=\"_blank\">your Hugging Face\ntokens page</a> and paste it below. <br> Immediately click login after copying\nyour token or it might be stored in plain text in this notebook file. </center>"
          }
        },
        "969a12dfddc44040af8940a7bbe5bb77": {
          "model_module": "@jupyter-widgets/controls",
          "model_name": "PasswordModel",
          "model_module_version": "1.5.0",
          "state": {
            "_dom_classes": [],
            "_model_module": "@jupyter-widgets/controls",
            "_model_module_version": "1.5.0",
            "_model_name": "PasswordModel",
            "_view_count": null,
            "_view_module": "@jupyter-widgets/controls",
            "_view_module_version": "1.5.0",
            "_view_name": "PasswordView",
            "continuous_update": true,
            "description": "Token:",
            "description_tooltip": null,
            "disabled": false,
            "layout": "IPY_MODEL_087d100d0749495aa8e907768347b09d",
            "placeholder": "​",
            "style": "IPY_MODEL_0dc31d0da7904a34bc0ee04c999d0a20",
            "value": ""
          }
        },
        "2f5581fe386249aeade18c0d96eb1b64": {
          "model_module": "@jupyter-widgets/controls",
          "model_name": "CheckboxModel",
          "model_module_version": "1.5.0",
          "state": {
            "_dom_classes": [],
            "_model_module": "@jupyter-widgets/controls",
            "_model_module_version": "1.5.0",
            "_model_name": "CheckboxModel",
            "_view_count": null,
            "_view_module": "@jupyter-widgets/controls",
            "_view_module_version": "1.5.0",
            "_view_name": "CheckboxView",
            "description": "Add token as git credential?",
            "description_tooltip": null,
            "disabled": false,
            "indent": true,
            "layout": "IPY_MODEL_07c2526a1dff47088c624ee3298b0969",
            "style": "IPY_MODEL_995ad4df728e40ef8ecd15a6bb51fb53",
            "value": true
          }
        },
        "ccfae63285cb48d582f12dfddd10ceb4": {
          "model_module": "@jupyter-widgets/controls",
          "model_name": "ButtonModel",
          "model_module_version": "1.5.0",
          "state": {
            "_dom_classes": [],
            "_model_module": "@jupyter-widgets/controls",
            "_model_module_version": "1.5.0",
            "_model_name": "ButtonModel",
            "_view_count": null,
            "_view_module": "@jupyter-widgets/controls",
            "_view_module_version": "1.5.0",
            "_view_name": "ButtonView",
            "button_style": "",
            "description": "Login",
            "disabled": false,
            "icon": "",
            "layout": "IPY_MODEL_f532954b48fa4546aa7e45697e810895",
            "style": "IPY_MODEL_1e6cfe10c9a14bda8b8db8c5ea6fda65",
            "tooltip": ""
          }
        },
        "078c978ac56f4f89943b767f8070d9be": {
          "model_module": "@jupyter-widgets/controls",
          "model_name": "HTMLModel",
          "model_module_version": "1.5.0",
          "state": {
            "_dom_classes": [],
            "_model_module": "@jupyter-widgets/controls",
            "_model_module_version": "1.5.0",
            "_model_name": "HTMLModel",
            "_view_count": null,
            "_view_module": "@jupyter-widgets/controls",
            "_view_module_version": "1.5.0",
            "_view_name": "HTMLView",
            "description": "",
            "description_tooltip": null,
            "layout": "IPY_MODEL_977c588b5866491f8e82f25367c1853b",
            "placeholder": "​",
            "style": "IPY_MODEL_b3a3b8314923439b9a45e07eb5ee6873",
            "value": "\n<b>Pro Tip:</b> If you don't already have one, you can create a dedicated\n'notebooks' token with 'write' access, that you can then easily reuse for all\nnotebooks. </center>"
          }
        },
        "d1fa9bd52bd14d08b3ddb3b4da41c36f": {
          "model_module": "@jupyter-widgets/base",
          "model_name": "LayoutModel",
          "model_module_version": "1.2.0",
          "state": {
            "_model_module": "@jupyter-widgets/base",
            "_model_module_version": "1.2.0",
            "_model_name": "LayoutModel",
            "_view_count": null,
            "_view_module": "@jupyter-widgets/base",
            "_view_module_version": "1.2.0",
            "_view_name": "LayoutView",
            "align_content": null,
            "align_items": "center",
            "align_self": null,
            "border": null,
            "bottom": null,
            "display": "flex",
            "flex": null,
            "flex_flow": "column",
            "grid_area": null,
            "grid_auto_columns": null,
            "grid_auto_flow": null,
            "grid_auto_rows": null,
            "grid_column": null,
            "grid_gap": null,
            "grid_row": null,
            "grid_template_areas": null,
            "grid_template_columns": null,
            "grid_template_rows": null,
            "height": null,
            "justify_content": null,
            "justify_items": null,
            "left": null,
            "margin": null,
            "max_height": null,
            "max_width": null,
            "min_height": null,
            "min_width": null,
            "object_fit": null,
            "object_position": null,
            "order": null,
            "overflow": null,
            "overflow_x": null,
            "overflow_y": null,
            "padding": null,
            "right": null,
            "top": null,
            "visibility": null,
            "width": "50%"
          }
        },
        "60f3e63e638b4c43be3ceebd5b498361": {
          "model_module": "@jupyter-widgets/base",
          "model_name": "LayoutModel",
          "model_module_version": "1.2.0",
          "state": {
            "_model_module": "@jupyter-widgets/base",
            "_model_module_version": "1.2.0",
            "_model_name": "LayoutModel",
            "_view_count": null,
            "_view_module": "@jupyter-widgets/base",
            "_view_module_version": "1.2.0",
            "_view_name": "LayoutView",
            "align_content": null,
            "align_items": null,
            "align_self": null,
            "border": null,
            "bottom": null,
            "display": null,
            "flex": null,
            "flex_flow": null,
            "grid_area": null,
            "grid_auto_columns": null,
            "grid_auto_flow": null,
            "grid_auto_rows": null,
            "grid_column": null,
            "grid_gap": null,
            "grid_row": null,
            "grid_template_areas": null,
            "grid_template_columns": null,
            "grid_template_rows": null,
            "height": null,
            "justify_content": null,
            "justify_items": null,
            "left": null,
            "margin": null,
            "max_height": null,
            "max_width": null,
            "min_height": null,
            "min_width": null,
            "object_fit": null,
            "object_position": null,
            "order": null,
            "overflow": null,
            "overflow_x": null,
            "overflow_y": null,
            "padding": null,
            "right": null,
            "top": null,
            "visibility": null,
            "width": null
          }
        },
        "0bd61ae9e1374499be87a467af6917cd": {
          "model_module": "@jupyter-widgets/controls",
          "model_name": "DescriptionStyleModel",
          "model_module_version": "1.5.0",
          "state": {
            "_model_module": "@jupyter-widgets/controls",
            "_model_module_version": "1.5.0",
            "_model_name": "DescriptionStyleModel",
            "_view_count": null,
            "_view_module": "@jupyter-widgets/base",
            "_view_module_version": "1.2.0",
            "_view_name": "StyleView",
            "description_width": ""
          }
        },
        "087d100d0749495aa8e907768347b09d": {
          "model_module": "@jupyter-widgets/base",
          "model_name": "LayoutModel",
          "model_module_version": "1.2.0",
          "state": {
            "_model_module": "@jupyter-widgets/base",
            "_model_module_version": "1.2.0",
            "_model_name": "LayoutModel",
            "_view_count": null,
            "_view_module": "@jupyter-widgets/base",
            "_view_module_version": "1.2.0",
            "_view_name": "LayoutView",
            "align_content": null,
            "align_items": null,
            "align_self": null,
            "border": null,
            "bottom": null,
            "display": null,
            "flex": null,
            "flex_flow": null,
            "grid_area": null,
            "grid_auto_columns": null,
            "grid_auto_flow": null,
            "grid_auto_rows": null,
            "grid_column": null,
            "grid_gap": null,
            "grid_row": null,
            "grid_template_areas": null,
            "grid_template_columns": null,
            "grid_template_rows": null,
            "height": null,
            "justify_content": null,
            "justify_items": null,
            "left": null,
            "margin": null,
            "max_height": null,
            "max_width": null,
            "min_height": null,
            "min_width": null,
            "object_fit": null,
            "object_position": null,
            "order": null,
            "overflow": null,
            "overflow_x": null,
            "overflow_y": null,
            "padding": null,
            "right": null,
            "top": null,
            "visibility": null,
            "width": null
          }
        },
        "0dc31d0da7904a34bc0ee04c999d0a20": {
          "model_module": "@jupyter-widgets/controls",
          "model_name": "DescriptionStyleModel",
          "model_module_version": "1.5.0",
          "state": {
            "_model_module": "@jupyter-widgets/controls",
            "_model_module_version": "1.5.0",
            "_model_name": "DescriptionStyleModel",
            "_view_count": null,
            "_view_module": "@jupyter-widgets/base",
            "_view_module_version": "1.2.0",
            "_view_name": "StyleView",
            "description_width": ""
          }
        },
        "07c2526a1dff47088c624ee3298b0969": {
          "model_module": "@jupyter-widgets/base",
          "model_name": "LayoutModel",
          "model_module_version": "1.2.0",
          "state": {
            "_model_module": "@jupyter-widgets/base",
            "_model_module_version": "1.2.0",
            "_model_name": "LayoutModel",
            "_view_count": null,
            "_view_module": "@jupyter-widgets/base",
            "_view_module_version": "1.2.0",
            "_view_name": "LayoutView",
            "align_content": null,
            "align_items": null,
            "align_self": null,
            "border": null,
            "bottom": null,
            "display": null,
            "flex": null,
            "flex_flow": null,
            "grid_area": null,
            "grid_auto_columns": null,
            "grid_auto_flow": null,
            "grid_auto_rows": null,
            "grid_column": null,
            "grid_gap": null,
            "grid_row": null,
            "grid_template_areas": null,
            "grid_template_columns": null,
            "grid_template_rows": null,
            "height": null,
            "justify_content": null,
            "justify_items": null,
            "left": null,
            "margin": null,
            "max_height": null,
            "max_width": null,
            "min_height": null,
            "min_width": null,
            "object_fit": null,
            "object_position": null,
            "order": null,
            "overflow": null,
            "overflow_x": null,
            "overflow_y": null,
            "padding": null,
            "right": null,
            "top": null,
            "visibility": null,
            "width": null
          }
        },
        "995ad4df728e40ef8ecd15a6bb51fb53": {
          "model_module": "@jupyter-widgets/controls",
          "model_name": "DescriptionStyleModel",
          "model_module_version": "1.5.0",
          "state": {
            "_model_module": "@jupyter-widgets/controls",
            "_model_module_version": "1.5.0",
            "_model_name": "DescriptionStyleModel",
            "_view_count": null,
            "_view_module": "@jupyter-widgets/base",
            "_view_module_version": "1.2.0",
            "_view_name": "StyleView",
            "description_width": ""
          }
        },
        "f532954b48fa4546aa7e45697e810895": {
          "model_module": "@jupyter-widgets/base",
          "model_name": "LayoutModel",
          "model_module_version": "1.2.0",
          "state": {
            "_model_module": "@jupyter-widgets/base",
            "_model_module_version": "1.2.0",
            "_model_name": "LayoutModel",
            "_view_count": null,
            "_view_module": "@jupyter-widgets/base",
            "_view_module_version": "1.2.0",
            "_view_name": "LayoutView",
            "align_content": null,
            "align_items": null,
            "align_self": null,
            "border": null,
            "bottom": null,
            "display": null,
            "flex": null,
            "flex_flow": null,
            "grid_area": null,
            "grid_auto_columns": null,
            "grid_auto_flow": null,
            "grid_auto_rows": null,
            "grid_column": null,
            "grid_gap": null,
            "grid_row": null,
            "grid_template_areas": null,
            "grid_template_columns": null,
            "grid_template_rows": null,
            "height": null,
            "justify_content": null,
            "justify_items": null,
            "left": null,
            "margin": null,
            "max_height": null,
            "max_width": null,
            "min_height": null,
            "min_width": null,
            "object_fit": null,
            "object_position": null,
            "order": null,
            "overflow": null,
            "overflow_x": null,
            "overflow_y": null,
            "padding": null,
            "right": null,
            "top": null,
            "visibility": null,
            "width": null
          }
        },
        "1e6cfe10c9a14bda8b8db8c5ea6fda65": {
          "model_module": "@jupyter-widgets/controls",
          "model_name": "ButtonStyleModel",
          "model_module_version": "1.5.0",
          "state": {
            "_model_module": "@jupyter-widgets/controls",
            "_model_module_version": "1.5.0",
            "_model_name": "ButtonStyleModel",
            "_view_count": null,
            "_view_module": "@jupyter-widgets/base",
            "_view_module_version": "1.2.0",
            "_view_name": "StyleView",
            "button_color": null,
            "font_weight": ""
          }
        },
        "977c588b5866491f8e82f25367c1853b": {
          "model_module": "@jupyter-widgets/base",
          "model_name": "LayoutModel",
          "model_module_version": "1.2.0",
          "state": {
            "_model_module": "@jupyter-widgets/base",
            "_model_module_version": "1.2.0",
            "_model_name": "LayoutModel",
            "_view_count": null,
            "_view_module": "@jupyter-widgets/base",
            "_view_module_version": "1.2.0",
            "_view_name": "LayoutView",
            "align_content": null,
            "align_items": null,
            "align_self": null,
            "border": null,
            "bottom": null,
            "display": null,
            "flex": null,
            "flex_flow": null,
            "grid_area": null,
            "grid_auto_columns": null,
            "grid_auto_flow": null,
            "grid_auto_rows": null,
            "grid_column": null,
            "grid_gap": null,
            "grid_row": null,
            "grid_template_areas": null,
            "grid_template_columns": null,
            "grid_template_rows": null,
            "height": null,
            "justify_content": null,
            "justify_items": null,
            "left": null,
            "margin": null,
            "max_height": null,
            "max_width": null,
            "min_height": null,
            "min_width": null,
            "object_fit": null,
            "object_position": null,
            "order": null,
            "overflow": null,
            "overflow_x": null,
            "overflow_y": null,
            "padding": null,
            "right": null,
            "top": null,
            "visibility": null,
            "width": null
          }
        },
        "b3a3b8314923439b9a45e07eb5ee6873": {
          "model_module": "@jupyter-widgets/controls",
          "model_name": "DescriptionStyleModel",
          "model_module_version": "1.5.0",
          "state": {
            "_model_module": "@jupyter-widgets/controls",
            "_model_module_version": "1.5.0",
            "_model_name": "DescriptionStyleModel",
            "_view_count": null,
            "_view_module": "@jupyter-widgets/base",
            "_view_module_version": "1.2.0",
            "_view_name": "StyleView",
            "description_width": ""
          }
        },
        "b9088e2e30ae4e0fbe1324ab16e18b29": {
          "model_module": "@jupyter-widgets/controls",
          "model_name": "LabelModel",
          "model_module_version": "1.5.0",
          "state": {
            "_dom_classes": [],
            "_model_module": "@jupyter-widgets/controls",
            "_model_module_version": "1.5.0",
            "_model_name": "LabelModel",
            "_view_count": null,
            "_view_module": "@jupyter-widgets/controls",
            "_view_module_version": "1.5.0",
            "_view_name": "LabelView",
            "description": "",
            "description_tooltip": null,
            "layout": "IPY_MODEL_8e570301ac97407aa3f82c68689ffeab",
            "placeholder": "​",
            "style": "IPY_MODEL_2c90e7f5d47d4e258eb6c3447054af91",
            "value": "Connecting..."
          }
        },
        "8e570301ac97407aa3f82c68689ffeab": {
          "model_module": "@jupyter-widgets/base",
          "model_name": "LayoutModel",
          "model_module_version": "1.2.0",
          "state": {
            "_model_module": "@jupyter-widgets/base",
            "_model_module_version": "1.2.0",
            "_model_name": "LayoutModel",
            "_view_count": null,
            "_view_module": "@jupyter-widgets/base",
            "_view_module_version": "1.2.0",
            "_view_name": "LayoutView",
            "align_content": null,
            "align_items": null,
            "align_self": null,
            "border": null,
            "bottom": null,
            "display": null,
            "flex": null,
            "flex_flow": null,
            "grid_area": null,
            "grid_auto_columns": null,
            "grid_auto_flow": null,
            "grid_auto_rows": null,
            "grid_column": null,
            "grid_gap": null,
            "grid_row": null,
            "grid_template_areas": null,
            "grid_template_columns": null,
            "grid_template_rows": null,
            "height": null,
            "justify_content": null,
            "justify_items": null,
            "left": null,
            "margin": null,
            "max_height": null,
            "max_width": null,
            "min_height": null,
            "min_width": null,
            "object_fit": null,
            "object_position": null,
            "order": null,
            "overflow": null,
            "overflow_x": null,
            "overflow_y": null,
            "padding": null,
            "right": null,
            "top": null,
            "visibility": null,
            "width": null
          }
        },
        "2c90e7f5d47d4e258eb6c3447054af91": {
          "model_module": "@jupyter-widgets/controls",
          "model_name": "DescriptionStyleModel",
          "model_module_version": "1.5.0",
          "state": {
            "_model_module": "@jupyter-widgets/controls",
            "_model_module_version": "1.5.0",
            "_model_name": "DescriptionStyleModel",
            "_view_count": null,
            "_view_module": "@jupyter-widgets/base",
            "_view_module_version": "1.2.0",
            "_view_name": "StyleView",
            "description_width": ""
          }
        },
        "b5d9e83f432b44009f18b3f05f828d93": {
          "model_module": "@jupyter-widgets/controls",
          "model_name": "LabelModel",
          "model_module_version": "1.5.0",
          "state": {
            "_dom_classes": [],
            "_model_module": "@jupyter-widgets/controls",
            "_model_module_version": "1.5.0",
            "_model_name": "LabelModel",
            "_view_count": null,
            "_view_module": "@jupyter-widgets/controls",
            "_view_module_version": "1.5.0",
            "_view_name": "LabelView",
            "description": "",
            "description_tooltip": null,
            "layout": "IPY_MODEL_2c4f332f5a1d4fdc8c819340ddbafb39",
            "placeholder": "​",
            "style": "IPY_MODEL_2a76590b9f50415dbad2efbecd354012",
            "value": "Token is valid (permission: write)."
          }
        },
        "11029079138a42e09173c643f871fc30": {
          "model_module": "@jupyter-widgets/controls",
          "model_name": "LabelModel",
          "model_module_version": "1.5.0",
          "state": {
            "_dom_classes": [],
            "_model_module": "@jupyter-widgets/controls",
            "_model_module_version": "1.5.0",
            "_model_name": "LabelModel",
            "_view_count": null,
            "_view_module": "@jupyter-widgets/controls",
            "_view_module_version": "1.5.0",
            "_view_name": "LabelView",
            "description": "",
            "description_tooltip": null,
            "layout": "IPY_MODEL_a7c0d380949d40c396361e603e7539c1",
            "placeholder": "​",
            "style": "IPY_MODEL_67009e71d13b4e00a341dff5795241a6",
            "value": "Your token has been saved in your configured git credential helpers (store)."
          }
        },
        "20574804464c44c8a957841c4bbd1158": {
          "model_module": "@jupyter-widgets/controls",
          "model_name": "LabelModel",
          "model_module_version": "1.5.0",
          "state": {
            "_dom_classes": [],
            "_model_module": "@jupyter-widgets/controls",
            "_model_module_version": "1.5.0",
            "_model_name": "LabelModel",
            "_view_count": null,
            "_view_module": "@jupyter-widgets/controls",
            "_view_module_version": "1.5.0",
            "_view_name": "LabelView",
            "description": "",
            "description_tooltip": null,
            "layout": "IPY_MODEL_331ca20473184ca498ba0e974ac1980d",
            "placeholder": "​",
            "style": "IPY_MODEL_6383a9901e374867a3007c289fac97af",
            "value": "Your token has been saved to /root/.cache/huggingface/token"
          }
        },
        "d2d10eea1d9c47128c67a6bcbf91aec3": {
          "model_module": "@jupyter-widgets/controls",
          "model_name": "LabelModel",
          "model_module_version": "1.5.0",
          "state": {
            "_dom_classes": [],
            "_model_module": "@jupyter-widgets/controls",
            "_model_module_version": "1.5.0",
            "_model_name": "LabelModel",
            "_view_count": null,
            "_view_module": "@jupyter-widgets/controls",
            "_view_module_version": "1.5.0",
            "_view_name": "LabelView",
            "description": "",
            "description_tooltip": null,
            "layout": "IPY_MODEL_3e74f55818a147acbbd9aa69c3019694",
            "placeholder": "​",
            "style": "IPY_MODEL_3d5513f9c69d4f98864f677e9560cd3b",
            "value": "Login successful"
          }
        },
        "2c4f332f5a1d4fdc8c819340ddbafb39": {
          "model_module": "@jupyter-widgets/base",
          "model_name": "LayoutModel",
          "model_module_version": "1.2.0",
          "state": {
            "_model_module": "@jupyter-widgets/base",
            "_model_module_version": "1.2.0",
            "_model_name": "LayoutModel",
            "_view_count": null,
            "_view_module": "@jupyter-widgets/base",
            "_view_module_version": "1.2.0",
            "_view_name": "LayoutView",
            "align_content": null,
            "align_items": null,
            "align_self": null,
            "border": null,
            "bottom": null,
            "display": null,
            "flex": null,
            "flex_flow": null,
            "grid_area": null,
            "grid_auto_columns": null,
            "grid_auto_flow": null,
            "grid_auto_rows": null,
            "grid_column": null,
            "grid_gap": null,
            "grid_row": null,
            "grid_template_areas": null,
            "grid_template_columns": null,
            "grid_template_rows": null,
            "height": null,
            "justify_content": null,
            "justify_items": null,
            "left": null,
            "margin": null,
            "max_height": null,
            "max_width": null,
            "min_height": null,
            "min_width": null,
            "object_fit": null,
            "object_position": null,
            "order": null,
            "overflow": null,
            "overflow_x": null,
            "overflow_y": null,
            "padding": null,
            "right": null,
            "top": null,
            "visibility": null,
            "width": null
          }
        },
        "2a76590b9f50415dbad2efbecd354012": {
          "model_module": "@jupyter-widgets/controls",
          "model_name": "DescriptionStyleModel",
          "model_module_version": "1.5.0",
          "state": {
            "_model_module": "@jupyter-widgets/controls",
            "_model_module_version": "1.5.0",
            "_model_name": "DescriptionStyleModel",
            "_view_count": null,
            "_view_module": "@jupyter-widgets/base",
            "_view_module_version": "1.2.0",
            "_view_name": "StyleView",
            "description_width": ""
          }
        },
        "a7c0d380949d40c396361e603e7539c1": {
          "model_module": "@jupyter-widgets/base",
          "model_name": "LayoutModel",
          "model_module_version": "1.2.0",
          "state": {
            "_model_module": "@jupyter-widgets/base",
            "_model_module_version": "1.2.0",
            "_model_name": "LayoutModel",
            "_view_count": null,
            "_view_module": "@jupyter-widgets/base",
            "_view_module_version": "1.2.0",
            "_view_name": "LayoutView",
            "align_content": null,
            "align_items": null,
            "align_self": null,
            "border": null,
            "bottom": null,
            "display": null,
            "flex": null,
            "flex_flow": null,
            "grid_area": null,
            "grid_auto_columns": null,
            "grid_auto_flow": null,
            "grid_auto_rows": null,
            "grid_column": null,
            "grid_gap": null,
            "grid_row": null,
            "grid_template_areas": null,
            "grid_template_columns": null,
            "grid_template_rows": null,
            "height": null,
            "justify_content": null,
            "justify_items": null,
            "left": null,
            "margin": null,
            "max_height": null,
            "max_width": null,
            "min_height": null,
            "min_width": null,
            "object_fit": null,
            "object_position": null,
            "order": null,
            "overflow": null,
            "overflow_x": null,
            "overflow_y": null,
            "padding": null,
            "right": null,
            "top": null,
            "visibility": null,
            "width": null
          }
        },
        "67009e71d13b4e00a341dff5795241a6": {
          "model_module": "@jupyter-widgets/controls",
          "model_name": "DescriptionStyleModel",
          "model_module_version": "1.5.0",
          "state": {
            "_model_module": "@jupyter-widgets/controls",
            "_model_module_version": "1.5.0",
            "_model_name": "DescriptionStyleModel",
            "_view_count": null,
            "_view_module": "@jupyter-widgets/base",
            "_view_module_version": "1.2.0",
            "_view_name": "StyleView",
            "description_width": ""
          }
        },
        "331ca20473184ca498ba0e974ac1980d": {
          "model_module": "@jupyter-widgets/base",
          "model_name": "LayoutModel",
          "model_module_version": "1.2.0",
          "state": {
            "_model_module": "@jupyter-widgets/base",
            "_model_module_version": "1.2.0",
            "_model_name": "LayoutModel",
            "_view_count": null,
            "_view_module": "@jupyter-widgets/base",
            "_view_module_version": "1.2.0",
            "_view_name": "LayoutView",
            "align_content": null,
            "align_items": null,
            "align_self": null,
            "border": null,
            "bottom": null,
            "display": null,
            "flex": null,
            "flex_flow": null,
            "grid_area": null,
            "grid_auto_columns": null,
            "grid_auto_flow": null,
            "grid_auto_rows": null,
            "grid_column": null,
            "grid_gap": null,
            "grid_row": null,
            "grid_template_areas": null,
            "grid_template_columns": null,
            "grid_template_rows": null,
            "height": null,
            "justify_content": null,
            "justify_items": null,
            "left": null,
            "margin": null,
            "max_height": null,
            "max_width": null,
            "min_height": null,
            "min_width": null,
            "object_fit": null,
            "object_position": null,
            "order": null,
            "overflow": null,
            "overflow_x": null,
            "overflow_y": null,
            "padding": null,
            "right": null,
            "top": null,
            "visibility": null,
            "width": null
          }
        },
        "6383a9901e374867a3007c289fac97af": {
          "model_module": "@jupyter-widgets/controls",
          "model_name": "DescriptionStyleModel",
          "model_module_version": "1.5.0",
          "state": {
            "_model_module": "@jupyter-widgets/controls",
            "_model_module_version": "1.5.0",
            "_model_name": "DescriptionStyleModel",
            "_view_count": null,
            "_view_module": "@jupyter-widgets/base",
            "_view_module_version": "1.2.0",
            "_view_name": "StyleView",
            "description_width": ""
          }
        },
        "3e74f55818a147acbbd9aa69c3019694": {
          "model_module": "@jupyter-widgets/base",
          "model_name": "LayoutModel",
          "model_module_version": "1.2.0",
          "state": {
            "_model_module": "@jupyter-widgets/base",
            "_model_module_version": "1.2.0",
            "_model_name": "LayoutModel",
            "_view_count": null,
            "_view_module": "@jupyter-widgets/base",
            "_view_module_version": "1.2.0",
            "_view_name": "LayoutView",
            "align_content": null,
            "align_items": null,
            "align_self": null,
            "border": null,
            "bottom": null,
            "display": null,
            "flex": null,
            "flex_flow": null,
            "grid_area": null,
            "grid_auto_columns": null,
            "grid_auto_flow": null,
            "grid_auto_rows": null,
            "grid_column": null,
            "grid_gap": null,
            "grid_row": null,
            "grid_template_areas": null,
            "grid_template_columns": null,
            "grid_template_rows": null,
            "height": null,
            "justify_content": null,
            "justify_items": null,
            "left": null,
            "margin": null,
            "max_height": null,
            "max_width": null,
            "min_height": null,
            "min_width": null,
            "object_fit": null,
            "object_position": null,
            "order": null,
            "overflow": null,
            "overflow_x": null,
            "overflow_y": null,
            "padding": null,
            "right": null,
            "top": null,
            "visibility": null,
            "width": null
          }
        },
        "3d5513f9c69d4f98864f677e9560cd3b": {
          "model_module": "@jupyter-widgets/controls",
          "model_name": "DescriptionStyleModel",
          "model_module_version": "1.5.0",
          "state": {
            "_model_module": "@jupyter-widgets/controls",
            "_model_module_version": "1.5.0",
            "_model_name": "DescriptionStyleModel",
            "_view_count": null,
            "_view_module": "@jupyter-widgets/base",
            "_view_module_version": "1.2.0",
            "_view_name": "StyleView",
            "description_width": ""
          }
        },
        "5fd57a16bf594eed854361c05194b85f": {
          "model_module": "@jupyter-widgets/output",
          "model_name": "OutputModel",
          "model_module_version": "1.0.0",
          "state": {
            "_dom_classes": [],
            "_model_module": "@jupyter-widgets/output",
            "_model_module_version": "1.0.0",
            "_model_name": "OutputModel",
            "_view_count": null,
            "_view_module": "@jupyter-widgets/output",
            "_view_module_version": "1.0.0",
            "_view_name": "OutputView",
            "layout": "IPY_MODEL_af4d651d68594a9183fa55a03ee40369",
            "msg_id": "",
            "outputs": [
              {
                "output_type": "display_data",
                "data": {
                  "text/plain": "\u001b[35m  35%\u001b[0m \u001b[38;2;249;38;114m━━━━━━━━━━━━━━━━━━━\u001b[0m\u001b[38;2;249;38;114m╸\u001b[0m\u001b[38;5;237m━━━━━━━━━━━━━━━━━━━━━━━━━━━━━━━━━━━━━\u001b[0m \u001b[32m349,967/1,000,000 \u001b[0m [ \u001b[33m0:22:42\u001b[0m < \u001b[36m0:33:26\u001b[0m , \u001b[31m324 it/s\u001b[0m ]\n",
                  "text/html": "<pre style=\"white-space:pre;overflow-x:auto;line-height:normal;font-family:Menlo,'DejaVu Sans Mono',consolas,'Courier New',monospace\"><span style=\"color: #800080; text-decoration-color: #800080\">  35%</span> <span style=\"color: #f92672; text-decoration-color: #f92672\">━━━━━━━━━━━━━━━━━━━╸</span><span style=\"color: #3a3a3a; text-decoration-color: #3a3a3a\">━━━━━━━━━━━━━━━━━━━━━━━━━━━━━━━━━━━━━</span> <span style=\"color: #008000; text-decoration-color: #008000\">349,967/1,000,000 </span> [ <span style=\"color: #808000; text-decoration-color: #808000\">0:22:42</span> &lt; <span style=\"color: #008080; text-decoration-color: #008080\">0:33:26</span> , <span style=\"color: #800000; text-decoration-color: #800000\">324 it/s</span> ]\n</pre>\n"
                },
                "metadata": {}
              }
            ]
          }
        },
        "af4d651d68594a9183fa55a03ee40369": {
          "model_module": "@jupyter-widgets/base",
          "model_name": "LayoutModel",
          "model_module_version": "1.2.0",
          "state": {
            "_model_module": "@jupyter-widgets/base",
            "_model_module_version": "1.2.0",
            "_model_name": "LayoutModel",
            "_view_count": null,
            "_view_module": "@jupyter-widgets/base",
            "_view_module_version": "1.2.0",
            "_view_name": "LayoutView",
            "align_content": null,
            "align_items": null,
            "align_self": null,
            "border": null,
            "bottom": null,
            "display": null,
            "flex": null,
            "flex_flow": null,
            "grid_area": null,
            "grid_auto_columns": null,
            "grid_auto_flow": null,
            "grid_auto_rows": null,
            "grid_column": null,
            "grid_gap": null,
            "grid_row": null,
            "grid_template_areas": null,
            "grid_template_columns": null,
            "grid_template_rows": null,
            "height": null,
            "justify_content": null,
            "justify_items": null,
            "left": null,
            "margin": null,
            "max_height": null,
            "max_width": null,
            "min_height": null,
            "min_width": null,
            "object_fit": null,
            "object_position": null,
            "order": null,
            "overflow": null,
            "overflow_x": null,
            "overflow_y": null,
            "padding": null,
            "right": null,
            "top": null,
            "visibility": null,
            "width": null
          }
        },
        "3a38f0f53a844e31856a9272ab7cc221": {
          "model_module": "@jupyter-widgets/controls",
          "model_name": "HBoxModel",
          "model_module_version": "1.5.0",
          "state": {
            "_dom_classes": [],
            "_model_module": "@jupyter-widgets/controls",
            "_model_module_version": "1.5.0",
            "_model_name": "HBoxModel",
            "_view_count": null,
            "_view_module": "@jupyter-widgets/controls",
            "_view_module_version": "1.5.0",
            "_view_name": "HBoxView",
            "box_style": "",
            "children": [
              "IPY_MODEL_f1fe3bc5a1904bb9962d350841922b6a",
              "IPY_MODEL_8a719676320c4bf59450376735f3b2c5",
              "IPY_MODEL_7630ba0c7d35487f8e7a08b7d22cdf4d"
            ],
            "layout": "IPY_MODEL_d6c42869ef3b46f1a9231c7d33a4ec27"
          }
        },
        "f1fe3bc5a1904bb9962d350841922b6a": {
          "model_module": "@jupyter-widgets/controls",
          "model_name": "HTMLModel",
          "model_module_version": "1.5.0",
          "state": {
            "_dom_classes": [],
            "_model_module": "@jupyter-widgets/controls",
            "_model_module_version": "1.5.0",
            "_model_name": "HTMLModel",
            "_view_count": null,
            "_view_module": "@jupyter-widgets/controls",
            "_view_module_version": "1.5.0",
            "_view_name": "HTMLView",
            "description": "",
            "description_tooltip": null,
            "layout": "IPY_MODEL_02898a83fb2944d4b9d0ba6bff398f86",
            "placeholder": "​",
            "style": "IPY_MODEL_ff74c1b65c2646cea61101163acc3f11",
            "value": "policy.optimizer.pth: 100%"
          }
        },
        "8a719676320c4bf59450376735f3b2c5": {
          "model_module": "@jupyter-widgets/controls",
          "model_name": "FloatProgressModel",
          "model_module_version": "1.5.0",
          "state": {
            "_dom_classes": [],
            "_model_module": "@jupyter-widgets/controls",
            "_model_module_version": "1.5.0",
            "_model_name": "FloatProgressModel",
            "_view_count": null,
            "_view_module": "@jupyter-widgets/controls",
            "_view_module_version": "1.5.0",
            "_view_name": "ProgressView",
            "bar_style": "success",
            "description": "",
            "description_tooltip": null,
            "layout": "IPY_MODEL_319f73f6db8b4738bc27c37d1bc5b6f8",
            "max": 297770,
            "min": 0,
            "orientation": "horizontal",
            "style": "IPY_MODEL_f903a9bb33854d37bd51c549fbd3538a",
            "value": 297770
          }
        },
        "7630ba0c7d35487f8e7a08b7d22cdf4d": {
          "model_module": "@jupyter-widgets/controls",
          "model_name": "HTMLModel",
          "model_module_version": "1.5.0",
          "state": {
            "_dom_classes": [],
            "_model_module": "@jupyter-widgets/controls",
            "_model_module_version": "1.5.0",
            "_model_name": "HTMLModel",
            "_view_count": null,
            "_view_module": "@jupyter-widgets/controls",
            "_view_module_version": "1.5.0",
            "_view_name": "HTMLView",
            "description": "",
            "description_tooltip": null,
            "layout": "IPY_MODEL_50d12b08a70b447da070e1b1fd0c9217",
            "placeholder": "​",
            "style": "IPY_MODEL_bc920d34a1dd4a39824b90f4eba50131",
            "value": " 298k/298k [00:00&lt;00:00, 34.1kB/s]"
          }
        },
        "d6c42869ef3b46f1a9231c7d33a4ec27": {
          "model_module": "@jupyter-widgets/base",
          "model_name": "LayoutModel",
          "model_module_version": "1.2.0",
          "state": {
            "_model_module": "@jupyter-widgets/base",
            "_model_module_version": "1.2.0",
            "_model_name": "LayoutModel",
            "_view_count": null,
            "_view_module": "@jupyter-widgets/base",
            "_view_module_version": "1.2.0",
            "_view_name": "LayoutView",
            "align_content": null,
            "align_items": null,
            "align_self": null,
            "border": null,
            "bottom": null,
            "display": null,
            "flex": null,
            "flex_flow": null,
            "grid_area": null,
            "grid_auto_columns": null,
            "grid_auto_flow": null,
            "grid_auto_rows": null,
            "grid_column": null,
            "grid_gap": null,
            "grid_row": null,
            "grid_template_areas": null,
            "grid_template_columns": null,
            "grid_template_rows": null,
            "height": null,
            "justify_content": null,
            "justify_items": null,
            "left": null,
            "margin": null,
            "max_height": null,
            "max_width": null,
            "min_height": null,
            "min_width": null,
            "object_fit": null,
            "object_position": null,
            "order": null,
            "overflow": null,
            "overflow_x": null,
            "overflow_y": null,
            "padding": null,
            "right": null,
            "top": null,
            "visibility": null,
            "width": null
          }
        },
        "02898a83fb2944d4b9d0ba6bff398f86": {
          "model_module": "@jupyter-widgets/base",
          "model_name": "LayoutModel",
          "model_module_version": "1.2.0",
          "state": {
            "_model_module": "@jupyter-widgets/base",
            "_model_module_version": "1.2.0",
            "_model_name": "LayoutModel",
            "_view_count": null,
            "_view_module": "@jupyter-widgets/base",
            "_view_module_version": "1.2.0",
            "_view_name": "LayoutView",
            "align_content": null,
            "align_items": null,
            "align_self": null,
            "border": null,
            "bottom": null,
            "display": null,
            "flex": null,
            "flex_flow": null,
            "grid_area": null,
            "grid_auto_columns": null,
            "grid_auto_flow": null,
            "grid_auto_rows": null,
            "grid_column": null,
            "grid_gap": null,
            "grid_row": null,
            "grid_template_areas": null,
            "grid_template_columns": null,
            "grid_template_rows": null,
            "height": null,
            "justify_content": null,
            "justify_items": null,
            "left": null,
            "margin": null,
            "max_height": null,
            "max_width": null,
            "min_height": null,
            "min_width": null,
            "object_fit": null,
            "object_position": null,
            "order": null,
            "overflow": null,
            "overflow_x": null,
            "overflow_y": null,
            "padding": null,
            "right": null,
            "top": null,
            "visibility": null,
            "width": null
          }
        },
        "ff74c1b65c2646cea61101163acc3f11": {
          "model_module": "@jupyter-widgets/controls",
          "model_name": "DescriptionStyleModel",
          "model_module_version": "1.5.0",
          "state": {
            "_model_module": "@jupyter-widgets/controls",
            "_model_module_version": "1.5.0",
            "_model_name": "DescriptionStyleModel",
            "_view_count": null,
            "_view_module": "@jupyter-widgets/base",
            "_view_module_version": "1.2.0",
            "_view_name": "StyleView",
            "description_width": ""
          }
        },
        "319f73f6db8b4738bc27c37d1bc5b6f8": {
          "model_module": "@jupyter-widgets/base",
          "model_name": "LayoutModel",
          "model_module_version": "1.2.0",
          "state": {
            "_model_module": "@jupyter-widgets/base",
            "_model_module_version": "1.2.0",
            "_model_name": "LayoutModel",
            "_view_count": null,
            "_view_module": "@jupyter-widgets/base",
            "_view_module_version": "1.2.0",
            "_view_name": "LayoutView",
            "align_content": null,
            "align_items": null,
            "align_self": null,
            "border": null,
            "bottom": null,
            "display": null,
            "flex": null,
            "flex_flow": null,
            "grid_area": null,
            "grid_auto_columns": null,
            "grid_auto_flow": null,
            "grid_auto_rows": null,
            "grid_column": null,
            "grid_gap": null,
            "grid_row": null,
            "grid_template_areas": null,
            "grid_template_columns": null,
            "grid_template_rows": null,
            "height": null,
            "justify_content": null,
            "justify_items": null,
            "left": null,
            "margin": null,
            "max_height": null,
            "max_width": null,
            "min_height": null,
            "min_width": null,
            "object_fit": null,
            "object_position": null,
            "order": null,
            "overflow": null,
            "overflow_x": null,
            "overflow_y": null,
            "padding": null,
            "right": null,
            "top": null,
            "visibility": null,
            "width": null
          }
        },
        "f903a9bb33854d37bd51c549fbd3538a": {
          "model_module": "@jupyter-widgets/controls",
          "model_name": "ProgressStyleModel",
          "model_module_version": "1.5.0",
          "state": {
            "_model_module": "@jupyter-widgets/controls",
            "_model_module_version": "1.5.0",
            "_model_name": "ProgressStyleModel",
            "_view_count": null,
            "_view_module": "@jupyter-widgets/base",
            "_view_module_version": "1.2.0",
            "_view_name": "StyleView",
            "bar_color": null,
            "description_width": ""
          }
        },
        "50d12b08a70b447da070e1b1fd0c9217": {
          "model_module": "@jupyter-widgets/base",
          "model_name": "LayoutModel",
          "model_module_version": "1.2.0",
          "state": {
            "_model_module": "@jupyter-widgets/base",
            "_model_module_version": "1.2.0",
            "_model_name": "LayoutModel",
            "_view_count": null,
            "_view_module": "@jupyter-widgets/base",
            "_view_module_version": "1.2.0",
            "_view_name": "LayoutView",
            "align_content": null,
            "align_items": null,
            "align_self": null,
            "border": null,
            "bottom": null,
            "display": null,
            "flex": null,
            "flex_flow": null,
            "grid_area": null,
            "grid_auto_columns": null,
            "grid_auto_flow": null,
            "grid_auto_rows": null,
            "grid_column": null,
            "grid_gap": null,
            "grid_row": null,
            "grid_template_areas": null,
            "grid_template_columns": null,
            "grid_template_rows": null,
            "height": null,
            "justify_content": null,
            "justify_items": null,
            "left": null,
            "margin": null,
            "max_height": null,
            "max_width": null,
            "min_height": null,
            "min_width": null,
            "object_fit": null,
            "object_position": null,
            "order": null,
            "overflow": null,
            "overflow_x": null,
            "overflow_y": null,
            "padding": null,
            "right": null,
            "top": null,
            "visibility": null,
            "width": null
          }
        },
        "bc920d34a1dd4a39824b90f4eba50131": {
          "model_module": "@jupyter-widgets/controls",
          "model_name": "DescriptionStyleModel",
          "model_module_version": "1.5.0",
          "state": {
            "_model_module": "@jupyter-widgets/controls",
            "_model_module_version": "1.5.0",
            "_model_name": "DescriptionStyleModel",
            "_view_count": null,
            "_view_module": "@jupyter-widgets/base",
            "_view_module_version": "1.2.0",
            "_view_name": "StyleView",
            "description_width": ""
          }
        },
        "94a4abdc5b8642e6800fce5f97f7bee8": {
          "model_module": "@jupyter-widgets/controls",
          "model_name": "HBoxModel",
          "model_module_version": "1.5.0",
          "state": {
            "_dom_classes": [],
            "_model_module": "@jupyter-widgets/controls",
            "_model_module_version": "1.5.0",
            "_model_name": "HBoxModel",
            "_view_count": null,
            "_view_module": "@jupyter-widgets/controls",
            "_view_module_version": "1.5.0",
            "_view_name": "HBoxView",
            "box_style": "",
            "children": [
              "IPY_MODEL_af57c12682af49878c1c83b9e434c6c3",
              "IPY_MODEL_44e9cae57d53402395295fb43009cab9",
              "IPY_MODEL_ef331e7ea09245379fbbd700fe797a3f"
            ],
            "layout": "IPY_MODEL_fe2787120f1b4fbd8710b198565cf2ab"
          }
        },
        "af57c12682af49878c1c83b9e434c6c3": {
          "model_module": "@jupyter-widgets/controls",
          "model_name": "HTMLModel",
          "model_module_version": "1.5.0",
          "state": {
            "_dom_classes": [],
            "_model_module": "@jupyter-widgets/controls",
            "_model_module_version": "1.5.0",
            "_model_name": "HTMLModel",
            "_view_count": null,
            "_view_module": "@jupyter-widgets/controls",
            "_view_module_version": "1.5.0",
            "_view_name": "HTMLView",
            "description": "",
            "description_tooltip": null,
            "layout": "IPY_MODEL_35c34933f2e242e6bd5c204d0894c09f",
            "placeholder": "​",
            "style": "IPY_MODEL_ea66539f25e04006bb46295fd1109f6d",
            "value": "policy.pth: 100%"
          }
        },
        "44e9cae57d53402395295fb43009cab9": {
          "model_module": "@jupyter-widgets/controls",
          "model_name": "FloatProgressModel",
          "model_module_version": "1.5.0",
          "state": {
            "_dom_classes": [],
            "_model_module": "@jupyter-widgets/controls",
            "_model_module_version": "1.5.0",
            "_model_name": "FloatProgressModel",
            "_view_count": null,
            "_view_module": "@jupyter-widgets/controls",
            "_view_module_version": "1.5.0",
            "_view_name": "ProgressView",
            "bar_style": "success",
            "description": "",
            "description_tooltip": null,
            "layout": "IPY_MODEL_becfbdb64061484fa82cf233b431e83f",
            "max": 148466,
            "min": 0,
            "orientation": "horizontal",
            "style": "IPY_MODEL_e44e67b4f5344755b27410fab53ff11a",
            "value": 148466
          }
        },
        "ef331e7ea09245379fbbd700fe797a3f": {
          "model_module": "@jupyter-widgets/controls",
          "model_name": "HTMLModel",
          "model_module_version": "1.5.0",
          "state": {
            "_dom_classes": [],
            "_model_module": "@jupyter-widgets/controls",
            "_model_module_version": "1.5.0",
            "_model_name": "HTMLModel",
            "_view_count": null,
            "_view_module": "@jupyter-widgets/controls",
            "_view_module_version": "1.5.0",
            "_view_name": "HTMLView",
            "description": "",
            "description_tooltip": null,
            "layout": "IPY_MODEL_602c0c276d854af5b294762cd8e0752c",
            "placeholder": "​",
            "style": "IPY_MODEL_32a36b53d0c4497a8890f0edbb541d0b",
            "value": " 148k/148k [00:00&lt;00:00, 33.0kB/s]"
          }
        },
        "fe2787120f1b4fbd8710b198565cf2ab": {
          "model_module": "@jupyter-widgets/base",
          "model_name": "LayoutModel",
          "model_module_version": "1.2.0",
          "state": {
            "_model_module": "@jupyter-widgets/base",
            "_model_module_version": "1.2.0",
            "_model_name": "LayoutModel",
            "_view_count": null,
            "_view_module": "@jupyter-widgets/base",
            "_view_module_version": "1.2.0",
            "_view_name": "LayoutView",
            "align_content": null,
            "align_items": null,
            "align_self": null,
            "border": null,
            "bottom": null,
            "display": null,
            "flex": null,
            "flex_flow": null,
            "grid_area": null,
            "grid_auto_columns": null,
            "grid_auto_flow": null,
            "grid_auto_rows": null,
            "grid_column": null,
            "grid_gap": null,
            "grid_row": null,
            "grid_template_areas": null,
            "grid_template_columns": null,
            "grid_template_rows": null,
            "height": null,
            "justify_content": null,
            "justify_items": null,
            "left": null,
            "margin": null,
            "max_height": null,
            "max_width": null,
            "min_height": null,
            "min_width": null,
            "object_fit": null,
            "object_position": null,
            "order": null,
            "overflow": null,
            "overflow_x": null,
            "overflow_y": null,
            "padding": null,
            "right": null,
            "top": null,
            "visibility": null,
            "width": null
          }
        },
        "35c34933f2e242e6bd5c204d0894c09f": {
          "model_module": "@jupyter-widgets/base",
          "model_name": "LayoutModel",
          "model_module_version": "1.2.0",
          "state": {
            "_model_module": "@jupyter-widgets/base",
            "_model_module_version": "1.2.0",
            "_model_name": "LayoutModel",
            "_view_count": null,
            "_view_module": "@jupyter-widgets/base",
            "_view_module_version": "1.2.0",
            "_view_name": "LayoutView",
            "align_content": null,
            "align_items": null,
            "align_self": null,
            "border": null,
            "bottom": null,
            "display": null,
            "flex": null,
            "flex_flow": null,
            "grid_area": null,
            "grid_auto_columns": null,
            "grid_auto_flow": null,
            "grid_auto_rows": null,
            "grid_column": null,
            "grid_gap": null,
            "grid_row": null,
            "grid_template_areas": null,
            "grid_template_columns": null,
            "grid_template_rows": null,
            "height": null,
            "justify_content": null,
            "justify_items": null,
            "left": null,
            "margin": null,
            "max_height": null,
            "max_width": null,
            "min_height": null,
            "min_width": null,
            "object_fit": null,
            "object_position": null,
            "order": null,
            "overflow": null,
            "overflow_x": null,
            "overflow_y": null,
            "padding": null,
            "right": null,
            "top": null,
            "visibility": null,
            "width": null
          }
        },
        "ea66539f25e04006bb46295fd1109f6d": {
          "model_module": "@jupyter-widgets/controls",
          "model_name": "DescriptionStyleModel",
          "model_module_version": "1.5.0",
          "state": {
            "_model_module": "@jupyter-widgets/controls",
            "_model_module_version": "1.5.0",
            "_model_name": "DescriptionStyleModel",
            "_view_count": null,
            "_view_module": "@jupyter-widgets/base",
            "_view_module_version": "1.2.0",
            "_view_name": "StyleView",
            "description_width": ""
          }
        },
        "becfbdb64061484fa82cf233b431e83f": {
          "model_module": "@jupyter-widgets/base",
          "model_name": "LayoutModel",
          "model_module_version": "1.2.0",
          "state": {
            "_model_module": "@jupyter-widgets/base",
            "_model_module_version": "1.2.0",
            "_model_name": "LayoutModel",
            "_view_count": null,
            "_view_module": "@jupyter-widgets/base",
            "_view_module_version": "1.2.0",
            "_view_name": "LayoutView",
            "align_content": null,
            "align_items": null,
            "align_self": null,
            "border": null,
            "bottom": null,
            "display": null,
            "flex": null,
            "flex_flow": null,
            "grid_area": null,
            "grid_auto_columns": null,
            "grid_auto_flow": null,
            "grid_auto_rows": null,
            "grid_column": null,
            "grid_gap": null,
            "grid_row": null,
            "grid_template_areas": null,
            "grid_template_columns": null,
            "grid_template_rows": null,
            "height": null,
            "justify_content": null,
            "justify_items": null,
            "left": null,
            "margin": null,
            "max_height": null,
            "max_width": null,
            "min_height": null,
            "min_width": null,
            "object_fit": null,
            "object_position": null,
            "order": null,
            "overflow": null,
            "overflow_x": null,
            "overflow_y": null,
            "padding": null,
            "right": null,
            "top": null,
            "visibility": null,
            "width": null
          }
        },
        "e44e67b4f5344755b27410fab53ff11a": {
          "model_module": "@jupyter-widgets/controls",
          "model_name": "ProgressStyleModel",
          "model_module_version": "1.5.0",
          "state": {
            "_model_module": "@jupyter-widgets/controls",
            "_model_module_version": "1.5.0",
            "_model_name": "ProgressStyleModel",
            "_view_count": null,
            "_view_module": "@jupyter-widgets/base",
            "_view_module_version": "1.2.0",
            "_view_name": "StyleView",
            "bar_color": null,
            "description_width": ""
          }
        },
        "602c0c276d854af5b294762cd8e0752c": {
          "model_module": "@jupyter-widgets/base",
          "model_name": "LayoutModel",
          "model_module_version": "1.2.0",
          "state": {
            "_model_module": "@jupyter-widgets/base",
            "_model_module_version": "1.2.0",
            "_model_name": "LayoutModel",
            "_view_count": null,
            "_view_module": "@jupyter-widgets/base",
            "_view_module_version": "1.2.0",
            "_view_name": "LayoutView",
            "align_content": null,
            "align_items": null,
            "align_self": null,
            "border": null,
            "bottom": null,
            "display": null,
            "flex": null,
            "flex_flow": null,
            "grid_area": null,
            "grid_auto_columns": null,
            "grid_auto_flow": null,
            "grid_auto_rows": null,
            "grid_column": null,
            "grid_gap": null,
            "grid_row": null,
            "grid_template_areas": null,
            "grid_template_columns": null,
            "grid_template_rows": null,
            "height": null,
            "justify_content": null,
            "justify_items": null,
            "left": null,
            "margin": null,
            "max_height": null,
            "max_width": null,
            "min_height": null,
            "min_width": null,
            "object_fit": null,
            "object_position": null,
            "order": null,
            "overflow": null,
            "overflow_x": null,
            "overflow_y": null,
            "padding": null,
            "right": null,
            "top": null,
            "visibility": null,
            "width": null
          }
        },
        "32a36b53d0c4497a8890f0edbb541d0b": {
          "model_module": "@jupyter-widgets/controls",
          "model_name": "DescriptionStyleModel",
          "model_module_version": "1.5.0",
          "state": {
            "_model_module": "@jupyter-widgets/controls",
            "_model_module_version": "1.5.0",
            "_model_name": "DescriptionStyleModel",
            "_view_count": null,
            "_view_module": "@jupyter-widgets/base",
            "_view_module_version": "1.2.0",
            "_view_name": "StyleView",
            "description_width": ""
          }
        },
        "bc1aaed1fc44491ba89fa238a2e56e42": {
          "model_module": "@jupyter-widgets/controls",
          "model_name": "HBoxModel",
          "model_module_version": "1.5.0",
          "state": {
            "_dom_classes": [],
            "_model_module": "@jupyter-widgets/controls",
            "_model_module_version": "1.5.0",
            "_model_name": "HBoxModel",
            "_view_count": null,
            "_view_module": "@jupyter-widgets/controls",
            "_view_module_version": "1.5.0",
            "_view_name": "HBoxView",
            "box_style": "",
            "children": [
              "IPY_MODEL_51a755a00db74e54bb797f81fe521d42",
              "IPY_MODEL_2a6950260b6a43de93cefdee86fc2e24",
              "IPY_MODEL_429d3b002a304071a91421c41032af83"
            ],
            "layout": "IPY_MODEL_d08c22e0fc324fcab65829ddb4e18e82"
          }
        },
        "51a755a00db74e54bb797f81fe521d42": {
          "model_module": "@jupyter-widgets/controls",
          "model_name": "HTMLModel",
          "model_module_version": "1.5.0",
          "state": {
            "_dom_classes": [],
            "_model_module": "@jupyter-widgets/controls",
            "_model_module_version": "1.5.0",
            "_model_name": "HTMLModel",
            "_view_count": null,
            "_view_module": "@jupyter-widgets/controls",
            "_view_module_version": "1.5.0",
            "_view_name": "HTMLView",
            "description": "",
            "description_tooltip": null,
            "layout": "IPY_MODEL_d3384677204542cfb1a2154eb6440b48",
            "placeholder": "​",
            "style": "IPY_MODEL_ad67e4fd4f27473994702539a16f60f3",
            "value": "Upload 3 LFS files: 100%"
          }
        },
        "2a6950260b6a43de93cefdee86fc2e24": {
          "model_module": "@jupyter-widgets/controls",
          "model_name": "FloatProgressModel",
          "model_module_version": "1.5.0",
          "state": {
            "_dom_classes": [],
            "_model_module": "@jupyter-widgets/controls",
            "_model_module_version": "1.5.0",
            "_model_name": "FloatProgressModel",
            "_view_count": null,
            "_view_module": "@jupyter-widgets/controls",
            "_view_module_version": "1.5.0",
            "_view_name": "ProgressView",
            "bar_style": "success",
            "description": "",
            "description_tooltip": null,
            "layout": "IPY_MODEL_6b9cadafdf754fd0bc43161b4fcc77c9",
            "max": 3,
            "min": 0,
            "orientation": "horizontal",
            "style": "IPY_MODEL_43933cac96f54545a282eeaa5f3818b4",
            "value": 3
          }
        },
        "429d3b002a304071a91421c41032af83": {
          "model_module": "@jupyter-widgets/controls",
          "model_name": "HTMLModel",
          "model_module_version": "1.5.0",
          "state": {
            "_dom_classes": [],
            "_model_module": "@jupyter-widgets/controls",
            "_model_module_version": "1.5.0",
            "_model_name": "HTMLModel",
            "_view_count": null,
            "_view_module": "@jupyter-widgets/controls",
            "_view_module_version": "1.5.0",
            "_view_name": "HTMLView",
            "description": "",
            "description_tooltip": null,
            "layout": "IPY_MODEL_02a682aa0dae41a4806e0271b82c0058",
            "placeholder": "​",
            "style": "IPY_MODEL_5d92ffea42564fc9aafe5833cefddd03",
            "value": " 3/3 [00:01&lt;00:00,  1.16s/it]"
          }
        },
        "d08c22e0fc324fcab65829ddb4e18e82": {
          "model_module": "@jupyter-widgets/base",
          "model_name": "LayoutModel",
          "model_module_version": "1.2.0",
          "state": {
            "_model_module": "@jupyter-widgets/base",
            "_model_module_version": "1.2.0",
            "_model_name": "LayoutModel",
            "_view_count": null,
            "_view_module": "@jupyter-widgets/base",
            "_view_module_version": "1.2.0",
            "_view_name": "LayoutView",
            "align_content": null,
            "align_items": null,
            "align_self": null,
            "border": null,
            "bottom": null,
            "display": null,
            "flex": null,
            "flex_flow": null,
            "grid_area": null,
            "grid_auto_columns": null,
            "grid_auto_flow": null,
            "grid_auto_rows": null,
            "grid_column": null,
            "grid_gap": null,
            "grid_row": null,
            "grid_template_areas": null,
            "grid_template_columns": null,
            "grid_template_rows": null,
            "height": null,
            "justify_content": null,
            "justify_items": null,
            "left": null,
            "margin": null,
            "max_height": null,
            "max_width": null,
            "min_height": null,
            "min_width": null,
            "object_fit": null,
            "object_position": null,
            "order": null,
            "overflow": null,
            "overflow_x": null,
            "overflow_y": null,
            "padding": null,
            "right": null,
            "top": null,
            "visibility": null,
            "width": null
          }
        },
        "d3384677204542cfb1a2154eb6440b48": {
          "model_module": "@jupyter-widgets/base",
          "model_name": "LayoutModel",
          "model_module_version": "1.2.0",
          "state": {
            "_model_module": "@jupyter-widgets/base",
            "_model_module_version": "1.2.0",
            "_model_name": "LayoutModel",
            "_view_count": null,
            "_view_module": "@jupyter-widgets/base",
            "_view_module_version": "1.2.0",
            "_view_name": "LayoutView",
            "align_content": null,
            "align_items": null,
            "align_self": null,
            "border": null,
            "bottom": null,
            "display": null,
            "flex": null,
            "flex_flow": null,
            "grid_area": null,
            "grid_auto_columns": null,
            "grid_auto_flow": null,
            "grid_auto_rows": null,
            "grid_column": null,
            "grid_gap": null,
            "grid_row": null,
            "grid_template_areas": null,
            "grid_template_columns": null,
            "grid_template_rows": null,
            "height": null,
            "justify_content": null,
            "justify_items": null,
            "left": null,
            "margin": null,
            "max_height": null,
            "max_width": null,
            "min_height": null,
            "min_width": null,
            "object_fit": null,
            "object_position": null,
            "order": null,
            "overflow": null,
            "overflow_x": null,
            "overflow_y": null,
            "padding": null,
            "right": null,
            "top": null,
            "visibility": null,
            "width": null
          }
        },
        "ad67e4fd4f27473994702539a16f60f3": {
          "model_module": "@jupyter-widgets/controls",
          "model_name": "DescriptionStyleModel",
          "model_module_version": "1.5.0",
          "state": {
            "_model_module": "@jupyter-widgets/controls",
            "_model_module_version": "1.5.0",
            "_model_name": "DescriptionStyleModel",
            "_view_count": null,
            "_view_module": "@jupyter-widgets/base",
            "_view_module_version": "1.2.0",
            "_view_name": "StyleView",
            "description_width": ""
          }
        },
        "6b9cadafdf754fd0bc43161b4fcc77c9": {
          "model_module": "@jupyter-widgets/base",
          "model_name": "LayoutModel",
          "model_module_version": "1.2.0",
          "state": {
            "_model_module": "@jupyter-widgets/base",
            "_model_module_version": "1.2.0",
            "_model_name": "LayoutModel",
            "_view_count": null,
            "_view_module": "@jupyter-widgets/base",
            "_view_module_version": "1.2.0",
            "_view_name": "LayoutView",
            "align_content": null,
            "align_items": null,
            "align_self": null,
            "border": null,
            "bottom": null,
            "display": null,
            "flex": null,
            "flex_flow": null,
            "grid_area": null,
            "grid_auto_columns": null,
            "grid_auto_flow": null,
            "grid_auto_rows": null,
            "grid_column": null,
            "grid_gap": null,
            "grid_row": null,
            "grid_template_areas": null,
            "grid_template_columns": null,
            "grid_template_rows": null,
            "height": null,
            "justify_content": null,
            "justify_items": null,
            "left": null,
            "margin": null,
            "max_height": null,
            "max_width": null,
            "min_height": null,
            "min_width": null,
            "object_fit": null,
            "object_position": null,
            "order": null,
            "overflow": null,
            "overflow_x": null,
            "overflow_y": null,
            "padding": null,
            "right": null,
            "top": null,
            "visibility": null,
            "width": null
          }
        },
        "43933cac96f54545a282eeaa5f3818b4": {
          "model_module": "@jupyter-widgets/controls",
          "model_name": "ProgressStyleModel",
          "model_module_version": "1.5.0",
          "state": {
            "_model_module": "@jupyter-widgets/controls",
            "_model_module_version": "1.5.0",
            "_model_name": "ProgressStyleModel",
            "_view_count": null,
            "_view_module": "@jupyter-widgets/base",
            "_view_module_version": "1.2.0",
            "_view_name": "StyleView",
            "bar_color": null,
            "description_width": ""
          }
        },
        "02a682aa0dae41a4806e0271b82c0058": {
          "model_module": "@jupyter-widgets/base",
          "model_name": "LayoutModel",
          "model_module_version": "1.2.0",
          "state": {
            "_model_module": "@jupyter-widgets/base",
            "_model_module_version": "1.2.0",
            "_model_name": "LayoutModel",
            "_view_count": null,
            "_view_module": "@jupyter-widgets/base",
            "_view_module_version": "1.2.0",
            "_view_name": "LayoutView",
            "align_content": null,
            "align_items": null,
            "align_self": null,
            "border": null,
            "bottom": null,
            "display": null,
            "flex": null,
            "flex_flow": null,
            "grid_area": null,
            "grid_auto_columns": null,
            "grid_auto_flow": null,
            "grid_auto_rows": null,
            "grid_column": null,
            "grid_gap": null,
            "grid_row": null,
            "grid_template_areas": null,
            "grid_template_columns": null,
            "grid_template_rows": null,
            "height": null,
            "justify_content": null,
            "justify_items": null,
            "left": null,
            "margin": null,
            "max_height": null,
            "max_width": null,
            "min_height": null,
            "min_width": null,
            "object_fit": null,
            "object_position": null,
            "order": null,
            "overflow": null,
            "overflow_x": null,
            "overflow_y": null,
            "padding": null,
            "right": null,
            "top": null,
            "visibility": null,
            "width": null
          }
        },
        "5d92ffea42564fc9aafe5833cefddd03": {
          "model_module": "@jupyter-widgets/controls",
          "model_name": "DescriptionStyleModel",
          "model_module_version": "1.5.0",
          "state": {
            "_model_module": "@jupyter-widgets/controls",
            "_model_module_version": "1.5.0",
            "_model_name": "DescriptionStyleModel",
            "_view_count": null,
            "_view_module": "@jupyter-widgets/base",
            "_view_module_version": "1.2.0",
            "_view_name": "StyleView",
            "description_width": ""
          }
        },
        "fac0cdc978b44df58f4e711a490a6de6": {
          "model_module": "@jupyter-widgets/controls",
          "model_name": "HBoxModel",
          "model_module_version": "1.5.0",
          "state": {
            "_dom_classes": [],
            "_model_module": "@jupyter-widgets/controls",
            "_model_module_version": "1.5.0",
            "_model_name": "HBoxModel",
            "_view_count": null,
            "_view_module": "@jupyter-widgets/controls",
            "_view_module_version": "1.5.0",
            "_view_name": "HBoxView",
            "box_style": "",
            "children": [
              "IPY_MODEL_4371d9732f0d4dd1926d4e7cd60095e8",
              "IPY_MODEL_729063ea0fbc47f09a28159d154a8e97",
              "IPY_MODEL_87c3efa32501428694337030ee4e0969"
            ],
            "layout": "IPY_MODEL_a778411311d94152aac0d909091a61dd"
          }
        },
        "4371d9732f0d4dd1926d4e7cd60095e8": {
          "model_module": "@jupyter-widgets/controls",
          "model_name": "HTMLModel",
          "model_module_version": "1.5.0",
          "state": {
            "_dom_classes": [],
            "_model_module": "@jupyter-widgets/controls",
            "_model_module_version": "1.5.0",
            "_model_name": "HTMLModel",
            "_view_count": null,
            "_view_module": "@jupyter-widgets/controls",
            "_view_module_version": "1.5.0",
            "_view_name": "HTMLView",
            "description": "",
            "description_tooltip": null,
            "layout": "IPY_MODEL_c14c73d92d3a4fabab32e6548daf2078",
            "placeholder": "​",
            "style": "IPY_MODEL_5ae27d04177b4689b7759cdd072275c0",
            "value": "ppo-LunarLander-v2.zip: 100%"
          }
        },
        "729063ea0fbc47f09a28159d154a8e97": {
          "model_module": "@jupyter-widgets/controls",
          "model_name": "FloatProgressModel",
          "model_module_version": "1.5.0",
          "state": {
            "_dom_classes": [],
            "_model_module": "@jupyter-widgets/controls",
            "_model_module_version": "1.5.0",
            "_model_name": "FloatProgressModel",
            "_view_count": null,
            "_view_module": "@jupyter-widgets/controls",
            "_view_module_version": "1.5.0",
            "_view_name": "ProgressView",
            "bar_style": "success",
            "description": "",
            "description_tooltip": null,
            "layout": "IPY_MODEL_3d377ee350754e74bffba555f6536299",
            "max": 461499,
            "min": 0,
            "orientation": "horizontal",
            "style": "IPY_MODEL_e2e9fa315d1b4e1aac1aa4c157d07522",
            "value": 461499
          }
        },
        "87c3efa32501428694337030ee4e0969": {
          "model_module": "@jupyter-widgets/controls",
          "model_name": "HTMLModel",
          "model_module_version": "1.5.0",
          "state": {
            "_dom_classes": [],
            "_model_module": "@jupyter-widgets/controls",
            "_model_module_version": "1.5.0",
            "_model_name": "HTMLModel",
            "_view_count": null,
            "_view_module": "@jupyter-widgets/controls",
            "_view_module_version": "1.5.0",
            "_view_name": "HTMLView",
            "description": "",
            "description_tooltip": null,
            "layout": "IPY_MODEL_d8a6e30cbc224ba99e474bc8aadbb4e6",
            "placeholder": "​",
            "style": "IPY_MODEL_5404e81d5a9744f898d5dac1e2d75207",
            "value": " 461k/461k [00:00&lt;00:00, 34.9kB/s]"
          }
        },
        "a778411311d94152aac0d909091a61dd": {
          "model_module": "@jupyter-widgets/base",
          "model_name": "LayoutModel",
          "model_module_version": "1.2.0",
          "state": {
            "_model_module": "@jupyter-widgets/base",
            "_model_module_version": "1.2.0",
            "_model_name": "LayoutModel",
            "_view_count": null,
            "_view_module": "@jupyter-widgets/base",
            "_view_module_version": "1.2.0",
            "_view_name": "LayoutView",
            "align_content": null,
            "align_items": null,
            "align_self": null,
            "border": null,
            "bottom": null,
            "display": null,
            "flex": null,
            "flex_flow": null,
            "grid_area": null,
            "grid_auto_columns": null,
            "grid_auto_flow": null,
            "grid_auto_rows": null,
            "grid_column": null,
            "grid_gap": null,
            "grid_row": null,
            "grid_template_areas": null,
            "grid_template_columns": null,
            "grid_template_rows": null,
            "height": null,
            "justify_content": null,
            "justify_items": null,
            "left": null,
            "margin": null,
            "max_height": null,
            "max_width": null,
            "min_height": null,
            "min_width": null,
            "object_fit": null,
            "object_position": null,
            "order": null,
            "overflow": null,
            "overflow_x": null,
            "overflow_y": null,
            "padding": null,
            "right": null,
            "top": null,
            "visibility": null,
            "width": null
          }
        },
        "c14c73d92d3a4fabab32e6548daf2078": {
          "model_module": "@jupyter-widgets/base",
          "model_name": "LayoutModel",
          "model_module_version": "1.2.0",
          "state": {
            "_model_module": "@jupyter-widgets/base",
            "_model_module_version": "1.2.0",
            "_model_name": "LayoutModel",
            "_view_count": null,
            "_view_module": "@jupyter-widgets/base",
            "_view_module_version": "1.2.0",
            "_view_name": "LayoutView",
            "align_content": null,
            "align_items": null,
            "align_self": null,
            "border": null,
            "bottom": null,
            "display": null,
            "flex": null,
            "flex_flow": null,
            "grid_area": null,
            "grid_auto_columns": null,
            "grid_auto_flow": null,
            "grid_auto_rows": null,
            "grid_column": null,
            "grid_gap": null,
            "grid_row": null,
            "grid_template_areas": null,
            "grid_template_columns": null,
            "grid_template_rows": null,
            "height": null,
            "justify_content": null,
            "justify_items": null,
            "left": null,
            "margin": null,
            "max_height": null,
            "max_width": null,
            "min_height": null,
            "min_width": null,
            "object_fit": null,
            "object_position": null,
            "order": null,
            "overflow": null,
            "overflow_x": null,
            "overflow_y": null,
            "padding": null,
            "right": null,
            "top": null,
            "visibility": null,
            "width": null
          }
        },
        "5ae27d04177b4689b7759cdd072275c0": {
          "model_module": "@jupyter-widgets/controls",
          "model_name": "DescriptionStyleModel",
          "model_module_version": "1.5.0",
          "state": {
            "_model_module": "@jupyter-widgets/controls",
            "_model_module_version": "1.5.0",
            "_model_name": "DescriptionStyleModel",
            "_view_count": null,
            "_view_module": "@jupyter-widgets/base",
            "_view_module_version": "1.2.0",
            "_view_name": "StyleView",
            "description_width": ""
          }
        },
        "3d377ee350754e74bffba555f6536299": {
          "model_module": "@jupyter-widgets/base",
          "model_name": "LayoutModel",
          "model_module_version": "1.2.0",
          "state": {
            "_model_module": "@jupyter-widgets/base",
            "_model_module_version": "1.2.0",
            "_model_name": "LayoutModel",
            "_view_count": null,
            "_view_module": "@jupyter-widgets/base",
            "_view_module_version": "1.2.0",
            "_view_name": "LayoutView",
            "align_content": null,
            "align_items": null,
            "align_self": null,
            "border": null,
            "bottom": null,
            "display": null,
            "flex": null,
            "flex_flow": null,
            "grid_area": null,
            "grid_auto_columns": null,
            "grid_auto_flow": null,
            "grid_auto_rows": null,
            "grid_column": null,
            "grid_gap": null,
            "grid_row": null,
            "grid_template_areas": null,
            "grid_template_columns": null,
            "grid_template_rows": null,
            "height": null,
            "justify_content": null,
            "justify_items": null,
            "left": null,
            "margin": null,
            "max_height": null,
            "max_width": null,
            "min_height": null,
            "min_width": null,
            "object_fit": null,
            "object_position": null,
            "order": null,
            "overflow": null,
            "overflow_x": null,
            "overflow_y": null,
            "padding": null,
            "right": null,
            "top": null,
            "visibility": null,
            "width": null
          }
        },
        "e2e9fa315d1b4e1aac1aa4c157d07522": {
          "model_module": "@jupyter-widgets/controls",
          "model_name": "ProgressStyleModel",
          "model_module_version": "1.5.0",
          "state": {
            "_model_module": "@jupyter-widgets/controls",
            "_model_module_version": "1.5.0",
            "_model_name": "ProgressStyleModel",
            "_view_count": null,
            "_view_module": "@jupyter-widgets/base",
            "_view_module_version": "1.2.0",
            "_view_name": "StyleView",
            "bar_color": null,
            "description_width": ""
          }
        },
        "d8a6e30cbc224ba99e474bc8aadbb4e6": {
          "model_module": "@jupyter-widgets/base",
          "model_name": "LayoutModel",
          "model_module_version": "1.2.0",
          "state": {
            "_model_module": "@jupyter-widgets/base",
            "_model_module_version": "1.2.0",
            "_model_name": "LayoutModel",
            "_view_count": null,
            "_view_module": "@jupyter-widgets/base",
            "_view_module_version": "1.2.0",
            "_view_name": "LayoutView",
            "align_content": null,
            "align_items": null,
            "align_self": null,
            "border": null,
            "bottom": null,
            "display": null,
            "flex": null,
            "flex_flow": null,
            "grid_area": null,
            "grid_auto_columns": null,
            "grid_auto_flow": null,
            "grid_auto_rows": null,
            "grid_column": null,
            "grid_gap": null,
            "grid_row": null,
            "grid_template_areas": null,
            "grid_template_columns": null,
            "grid_template_rows": null,
            "height": null,
            "justify_content": null,
            "justify_items": null,
            "left": null,
            "margin": null,
            "max_height": null,
            "max_width": null,
            "min_height": null,
            "min_width": null,
            "object_fit": null,
            "object_position": null,
            "order": null,
            "overflow": null,
            "overflow_x": null,
            "overflow_y": null,
            "padding": null,
            "right": null,
            "top": null,
            "visibility": null,
            "width": null
          }
        },
        "5404e81d5a9744f898d5dac1e2d75207": {
          "model_module": "@jupyter-widgets/controls",
          "model_name": "DescriptionStyleModel",
          "model_module_version": "1.5.0",
          "state": {
            "_model_module": "@jupyter-widgets/controls",
            "_model_module_version": "1.5.0",
            "_model_name": "DescriptionStyleModel",
            "_view_count": null,
            "_view_module": "@jupyter-widgets/base",
            "_view_module_version": "1.2.0",
            "_view_name": "StyleView",
            "description_width": ""
          }
        }
      }
    }
  },
  "nbformat": 4,
  "nbformat_minor": 0
}