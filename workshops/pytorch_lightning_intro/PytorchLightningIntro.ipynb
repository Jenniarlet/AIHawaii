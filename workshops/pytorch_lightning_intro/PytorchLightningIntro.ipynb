{
  "nbformat": 4,
  "nbformat_minor": 0,
  "metadata": {
    "colab": {
      "provenance": [],
      "toc_visible": true,
      "authorship_tag": "ABX9TyNAv2CNkB1TE7P540/7B7gi",
      "include_colab_link": true
    },
    "kernelspec": {
      "name": "python3",
      "display_name": "Python 3"
    },
    "language_info": {
      "name": "python"
    },
    "accelerator": "GPU",
    "gpuClass": "standard"
  },
  "cells": [
    {
      "cell_type": "markdown",
      "metadata": {
        "id": "view-in-github",
        "colab_type": "text"
      },
      "source": [
        "<a href=\"https://colab.research.google.com/github/rhiga2/DeepLearningHawaii/blob/main/workshops/pytorch_lightning_intro/PytorchLightningIntro.ipynb\" target=\"_parent\"><img src=\"https://colab.research.google.com/assets/colab-badge.svg\" alt=\"Open In Colab\"/></a>"
      ]
    },
    {
      "cell_type": "markdown",
      "source": [
        "# Pytorch Lightning Introduction\n"
      ],
      "metadata": {
        "id": "85rn0WfUxZc4"
      }
    },
    {
      "cell_type": "code",
      "source": [
        "!pip install torch\n",
        "!pip install matplotlib\n",
        "!pip install pytorch_lightning\n",
        "!pip install torchvision\n",
        "!pip install torchinfo\n",
        "!pip install torchmetrics\n",
        "!pip install wandb"
      ],
      "metadata": {
        "id": "PaScavsZJMps"
      },
      "execution_count": null,
      "outputs": []
    },
    {
      "cell_type": "code",
      "execution_count": null,
      "metadata": {
        "id": "TUMnHEUdxJT4"
      },
      "outputs": [],
      "source": [
        "import matplotlib.pyplot as plt\n",
        "import torch\n",
        "import torch.nn as nn\n",
        "import torch.nn.functional as F\n",
        "from torchinfo import summary\n",
        "from torchmetrics import Accuracy\n",
        "import time\n",
        "import pytorch_lightning as pl"
      ]
    },
    {
      "cell_type": "markdown",
      "source": [
        "## Pytorch Performance"
      ],
      "metadata": {
        "id": "5aHrqPR8yEcT"
      }
    },
    {
      "cell_type": "code",
      "source": [
        "def time_function(function, *args):\n",
        "  start = time.time()\n",
        "  output = function(*args)\n",
        "  end = time.time()\n",
        "  return output, end - start"
      ],
      "metadata": {
        "id": "Q-WwtmJ-LFRx"
      },
      "execution_count": null,
      "outputs": []
    },
    {
      "cell_type": "code",
      "source": [
        "# initialize data\n",
        "a = torch.rand((20, 20))\n",
        "b = torch.rand((20, 20))"
      ],
      "metadata": {
        "id": "iOkqf-UvxY6g"
      },
      "execution_count": null,
      "outputs": []
    },
    {
      "cell_type": "code",
      "source": [
        "# my own matrix multiplication implementation \n",
        "def my_mm(a, b):\n",
        "  c = torch.zeros(a.size(0), b.size(1))\n",
        "  for i in range(a.size(0)):\n",
        "    for j in range(a.size(1)):\n",
        "      for k in range(b.size(1)):\n",
        "        c[i, k] += a[i, j] * b[j, k]\n",
        "  return c \n",
        "\n",
        "my_output, my_duration = time_function(my_mm, a, b)\n",
        "print(\"Time for custom matrix multiplication: \", my_duration)"
      ],
      "metadata": {
        "id": "0StH6ycsNIF3"
      },
      "execution_count": null,
      "outputs": []
    },
    {
      "cell_type": "code",
      "source": [
        "# matrix multiplication in pytorch \n",
        "def torch_mm(a, b):\n",
        "  # write matrix multiplication in pytorch\n",
        "  pass\n",
        "\n",
        "torch_output, torch_duration = time_function(torch_mm, a, b)\n",
        "print(\"Square error between torch and my output: \", torch.sum((my_output - torch_output)**2).item())\n",
        "print(\"Time for torch's matrix multiplication: \", torch_duration)\n",
        "print(\"How much faster is pytorch: \", my_duration / torch_duration)"
      ],
      "metadata": {
        "id": "wwgS8xlLyPwB"
      },
      "execution_count": null,
      "outputs": []
    },
    {
      "cell_type": "markdown",
      "source": [
        "What can time difference be attributed to?\n",
        "* Vectorized batch processing in pytorch implementation, better usage of memory and CPU\n",
        "* Better algorithms for matrix multiplication\n",
        "* Low-level optimizations in pytorch"
      ],
      "metadata": {
        "id": "qW7aZInYOa0p"
      }
    },
    {
      "cell_type": "markdown",
      "source": [
        "## Weights and Biases"
      ],
      "metadata": {
        "id": "UGelsKbV5Jtt"
      }
    },
    {
      "cell_type": "code",
      "source": [
        "from pytorch_lightning.loggers import WandbLogger\n",
        "%env WANDB_NOTEBOOK_NAME='PytorchLightningIntro.ipynb'\n",
        "\n",
        "logger = WandbLogger(project='mnist_classifier')"
      ],
      "metadata": {
        "id": "pk70JzZD7GuQ"
      },
      "execution_count": null,
      "outputs": []
    },
    {
      "cell_type": "markdown",
      "source": [
        "## Image Classification in Pytorch Lightning"
      ],
      "metadata": {
        "id": "s27YuO98yQrP"
      }
    },
    {
      "cell_type": "markdown",
      "source": [
        "What do you need to specify when training a pytorch lightning model?\n",
        "* The dataset / dataloader\n",
        "* The model\n",
        "* The trainer \n"
      ],
      "metadata": {
        "id": "KP-LOOCrSONn"
      }
    },
    {
      "cell_type": "markdown",
      "source": [
        "### Load the Dataset"
      ],
      "metadata": {
        "id": "edpoHbg_tbRO"
      }
    },
    {
      "cell_type": "code",
      "source": [
        "# Load the dataset\n",
        "import torchvision\n",
        "\n",
        "train_dataset = torchvision.datasets.MNIST(\n",
        "    '/files/', train=True, download=True,\n",
        "    transform=torchvision.transforms.Compose([\n",
        "        torchvision.transforms.ToTensor(),\n",
        "        torchvision.transforms.Normalize((0.1307,), (0.3081,))\n",
        "    ]))\n",
        "\n",
        "test_dataset = torchvision.datasets.MNIST(\n",
        "    '/files/', train=False, download=True,\n",
        "    transform=torchvision.transforms.Compose([\n",
        "        torchvision.transforms.ToTensor(),\n",
        "        torchvision.transforms.Normalize((0.1307,), (0.3081,))\n",
        "    ]))\n",
        "\n",
        "fig, ax = plt.subplots(5, 5, figsize=(10, 10))\n",
        "for i in range(5):\n",
        "  for j in range(5):\n",
        "    ax[i, j].grid(False)\n",
        "    ax[i, j].set_xticks([])\n",
        "    ax[i, j].set_yticks([])\n",
        "    ax[i, j].imshow(train_dataset[5*i+j][0].squeeze(0), cmap='gray')"
      ],
      "metadata": {
        "id": "NNThLZ-RiDrc"
      },
      "execution_count": null,
      "outputs": []
    },
    {
      "cell_type": "code",
      "source": [
        "# Create dataloaders\n",
        "from torch.utils.data.sampler import SubsetRandomSampler\n",
        "\n",
        "batch_size = 32\n",
        "val_proportion = 0.2\n",
        "\n",
        "# Split train set into train and validation.\n",
        "pass\n",
        "\n",
        "trainloader = torch.utils.data.DataLoader(train_dataset, \n",
        "                                          batch_size=batch_size,\n",
        "                                          sampler=train_sampler)\n",
        "\n",
        "valloader = torch.utils.data.DataLoader(train_dataset, \n",
        "                                        batch_size=batch_size,\n",
        "                                        sampler=val_sampler)\n",
        "\n",
        "testloader = torch.utils.data.DataLoader(train_dataset, \n",
        "                                          batch_size=batch_size, \n",
        "                                          shuffle=True)\n"
      ],
      "metadata": {
        "id": "r6ll4Y46lnex"
      },
      "execution_count": null,
      "outputs": []
    },
    {
      "cell_type": "markdown",
      "source": [
        "### Specify the Model\n",
        "Description of model:\n",
        "* Input: (batch_size, 1, 28, 28)\n",
        "* 1st 3x3 Convolution w/ 32 units\n",
        "* 2nd 3x3 Convolution w/ 64 units\n",
        "* 2x2 Max Pool\n",
        "* 1st Dropout 25%\n",
        "* Flatten\n",
        "* 1st Dense + ReLU w/ 128 units\n",
        "* 2nd Dropout 50%\n",
        "* 2nd Dense w/ 10 units"
      ],
      "metadata": {
        "id": "eQ8gm6ZUfTEc"
      }
    },
    {
      "cell_type": "code",
      "source": [
        "from IPython.lib.security import passwd\n",
        "# Conv net\n",
        "accuracy = Accuracy('multiclass', num_classes=10).to(\n",
        "    'cuda' if torch.cuda.is_available() else 'cpu'\n",
        ")\n",
        "\n",
        "class MnistClassifier(pl.LightningModule):\n",
        "  def __init__(self):\n",
        "    super().__init__()\n",
        "    network = []\n",
        "    \n",
        "    # 1st 3x3 Convolution + ReLU w/ 32 units\n",
        "    pass\n",
        "    \n",
        "    # 2nd 3x3 Convolution + ReLU w/ 64 units\n",
        "    pass\n",
        "    \n",
        "    # 2x2 Max Pool\n",
        "    pass\n",
        "    \n",
        "    # 1st Dropout 25%\n",
        "    pass\n",
        "\n",
        "    # Flatten\n",
        "    pass\n",
        "\n",
        "    # 1st Dense + ReLU w/ 128 units\n",
        "    pass\n",
        "\n",
        "    # 2nd Dropout 50%\n",
        "    pass\n",
        "\n",
        "    # 2nd Dense w/ 10 units\n",
        "    pass\n",
        "    self.network = nn.Sequential(*network)\n",
        "\n",
        "  def forward(self, x):\n",
        "    return self.network(x)\n",
        "\n",
        "  def training_step(self, batch, batch_idx):\n",
        "    x, y = batch\n",
        "    logits = self(x)\n",
        "    loss, acc = self._get_loss_and_accuracy(logits, y)\n",
        "    self.log('training loss', loss)\n",
        "    self.log(\"training accuracy\", acc, prog_bar=True, on_step=False, \n",
        "             on_epoch=True)\n",
        "    return loss\n",
        "\n",
        "  def validation_step(self, batch, batch_idx):\n",
        "    x, y = batch\n",
        "    logits = self(x)\n",
        "    loss, acc = self._get_loss_and_accuracy(logits, y)\n",
        "    self.log('validation loss', loss)\n",
        "    self.log(\"validation accuracy\", acc)\n",
        "    return loss, acc\n",
        "\n",
        "  def test_step(self, batch, batch_idx):\n",
        "    x, y = batch\n",
        "    logits = self(x)\n",
        "    loss, acc = self._get_loss_and_accuracy(logits, y)\n",
        "    self.log('test loss', loss)\n",
        "    self.log('test accuracy', acc)\n",
        "    return loss, acc\n",
        "\n",
        "  def configure_optimizers(self):\n",
        "    optimizer = torch.optim.Adam(self.parameters(), lr = 1e-4)\n",
        "    return optimizer\n",
        "\n",
        "  def _get_loss_and_accuracy(self, logits, y):\n",
        "    loss = F.cross_entropy(logits, y)\n",
        "    acc = accuracy(logits, y)\n",
        "    return loss, acc"
      ],
      "metadata": {
        "id": "JYoggntNO6Kk"
      },
      "execution_count": null,
      "outputs": []
    },
    {
      "cell_type": "code",
      "source": [
        "model = MnistClassifier()\n",
        "summary(model, (32, 1, 28, 28))"
      ],
      "metadata": {
        "id": "XWKhuT3ir1-I"
      },
      "execution_count": null,
      "outputs": []
    },
    {
      "cell_type": "markdown",
      "source": [
        "### Create the Trainer"
      ],
      "metadata": {
        "id": "UaA5nCYX3CRF"
      }
    },
    {
      "cell_type": "code",
      "source": [
        "# Create the trainer\n",
        "trainer = pl.Trainer(accelerator=\"cuda\", max_epochs=4, logger=logger)\n",
        "trainer.fit(model, train_dataloaders=trainloader, val_dataloaders=valloader)"
      ],
      "metadata": {
        "id": "ChJnTKwjygGw"
      },
      "execution_count": null,
      "outputs": []
    },
    {
      "cell_type": "code",
      "source": [
        "trainer.test(model, dataloaders=testloader)"
      ],
      "metadata": {
        "id": "yolpaOTCpcrI"
      },
      "execution_count": null,
      "outputs": []
    },
    {
      "cell_type": "code",
      "source": [
        "# Visualize results\n",
        "index = 3\n",
        "fig, axs = plt.subplots(1, 2, figsize=(10, 5))\n",
        "\n",
        "axs[0].axis('off')\n",
        "image = test_dataset[index][0]\n",
        "axs[0].imshow(image.squeeze(0), cmap='gray')\n",
        "\n",
        "classes = torch.arange(10).detach().numpy()\n",
        "axs[1].barh(classes, \n",
        "            F.softmax(model(image.unsqueeze(0)), dim=1).squeeze(0).detach().numpy())\n",
        "axs[1].set_yticks(classes)\n",
        "axs[1].set_xlabel('Confidence')\n",
        "axs[1].set_ylabel('Class Label')"
      ],
      "metadata": {
        "id": "RTmkNi2isOnu"
      },
      "execution_count": null,
      "outputs": []
    },
    {
      "cell_type": "code",
      "source": [],
      "metadata": {
        "id": "Mlb_SOTPhGFW"
      },
      "execution_count": null,
      "outputs": []
    }
  ]
}