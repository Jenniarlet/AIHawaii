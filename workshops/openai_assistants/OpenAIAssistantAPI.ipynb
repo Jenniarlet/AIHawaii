{
  "nbformat": 4,
  "nbformat_minor": 0,
  "metadata": {
    "colab": {
      "provenance": [],
      "authorship_tag": "ABX9TyPRBun9ebtXin/xu91078Un",
      "include_colab_link": true
    },
    "kernelspec": {
      "name": "python3",
      "display_name": "Python 3"
    },
    "language_info": {
      "name": "python"
    }
  },
  "cells": [
    {
      "cell_type": "markdown",
      "metadata": {
        "id": "view-in-github",
        "colab_type": "text"
      },
      "source": [
        "<a href=\"https://colab.research.google.com/github/rhiga2/AIHawaii/blob/main/workshops/openai_assistants/OpenAIAssistantAPI.ipynb\" target=\"_parent\"><img src=\"https://colab.research.google.com/assets/colab-badge.svg\" alt=\"Open In Colab\"/></a>"
      ]
    },
    {
      "cell_type": "code",
      "execution_count": 5,
      "metadata": {
        "id": "GmmFarBsCuDB"
      },
      "outputs": [],
      "source": [
        "%%capture\n",
        "!pip install --upgrade tiktoken\n",
        "!pip install --upgrade cohere\n",
        "!pip install --upgrade openai"
      ]
    },
    {
      "cell_type": "markdown",
      "source": [
        "# OpenAI's Assistant's API Workshop"
      ],
      "metadata": {
        "id": "Pmv5hnNFA01x"
      }
    },
    {
      "cell_type": "markdown",
      "source": [
        "## Create an Assistant"
      ],
      "metadata": {
        "id": "Y0pGt18n31yO"
      }
    },
    {
      "cell_type": "code",
      "source": [
        "import os\n",
        "from google.colab import userdata\n",
        "\n",
        "os.environ['OPENAI_API_KEY'] = userdata.get('openai_api_key')"
      ],
      "metadata": {
        "id": "Q_2pMQjhFMLb"
      },
      "execution_count": 8,
      "outputs": []
    },
    {
      "cell_type": "code",
      "source": [
        "from openai import OpenAI\n",
        "client = OpenAI()\n",
        "\n",
        "file = client.files.create(\n",
        "  file=open(\" CHANGE THIS TO YOUR PDF", \"rb\"),\n",
        "  purpose='assistants'\n",
        ")\n",
        "\n",
        "assistant = client.beta.assistants.create(\n",
        "    name=\"CHANGE THIS ASSISTANT NAME\",\n",
        "    instructions=\"CHANGE THIS COMAND INSTRUCTIONS TO CUSTIMIZED ASSISTANT \" + \\\n",
        "      \"that can answer questions about the employee handbook.\",\n",
        "    tools=[{\"type\": \"retrieval\"}],\n",
        "    model=\"gpt-4-1106-preview\",\n",
        "    file_ids=[file.id]\n",
        ")"
      ],
      "metadata": {
        "id": "PZZnt9Wt13y2"
      },
      "execution_count": 9,
      "outputs": []
    },
    {
      "cell_type": "markdown",
      "source": [
        "## Create a Thread"
      ],
      "metadata": {
        "id": "TbJw4bXx93pX"
      }
    },
    {
      "cell_type": "code",
      "source": [
        "thread = client.beta.threads.create()"
      ],
      "metadata": {
        "id": "elJP3e_02Fnd"
      },
      "execution_count": null,
      "outputs": []
    },
    {
      "cell_type": "markdown",
      "source": [
        "## Add messages to the thread"
      ],
      "metadata": {
        "id": "bQAxVXmO96tO"
      }
    },
    {
      "cell_type": "code",
      "source": [
        "message = client.beta.threads.messages.create(\n",
        "    thread_id=thread.id,\n",
        "    role=\"user\",\n",
        "    content=\"Do I get time off if I plan to vote in the upcoming election?\"\n",
        ")"
      ],
      "metadata": {
        "id": "XJLE6g8W2PBF"
      },
      "execution_count": null,
      "outputs": []
    },
    {
      "cell_type": "code",
      "source": [
        "print(client.beta.threads.messages.list(thread_id = thread.id).data[0].content)"
      ],
      "metadata": {
        "colab": {
          "base_uri": "https://localhost:8080/"
        },
        "id": "3YeAvnne2Umz",
        "outputId": "45d3d7a9-4ba4-4af6-b1b1-b1a426b6b7bc"
      },
      "execution_count": null,
      "outputs": [
        {
          "output_type": "stream",
          "name": "stdout",
          "text": [
            "[MessageContentText(text=Text(annotations=[], value='Do I get time off if I plan to vote in the upcoming election?'), type='text')]\n"
          ]
        }
      ]
    },
    {
      "cell_type": "markdown",
      "source": [
        "## Run the thread and retrieve the results"
      ],
      "metadata": {
        "id": "Z3myOVNRAZk7"
      }
    },
    {
      "cell_type": "code",
      "source": [
        "run = client.beta.threads.runs.create(\n",
        "  thread_id=thread.id,\n",
        "  assistant_id=assistant.id,\n",
        "  instructions=\"Please address the user as Employee X. The user has a premium account.\"\n",
        ")"
      ],
      "metadata": {
        "id": "DAk5Q8m05upo"
      },
      "execution_count": null,
      "outputs": []
    },
    {
      "cell_type": "code",
      "source": [
        "run = client.beta.threads.runs.retrieve(\n",
        "  thread_id=thread.id,\n",
        "  run_id=run.id\n",
        ")\n",
        "print(run.status)"
      ],
      "metadata": {
        "colab": {
          "base_uri": "https://localhost:8080/"
        },
        "id": "lMmoYbZE7VCE",
        "outputId": "e2f38c34-9e15-46b2-e0d0-332caa3cba0b"
      },
      "execution_count": null,
      "outputs": [
        {
          "output_type": "stream",
          "name": "stdout",
          "text": [
            "completed\n"
          ]
        }
      ]
    },
    {
      "cell_type": "code",
      "source": [
        "messages = client.beta.threads.messages.list(\n",
        "  thread_id=thread.id,\n",
        "  order=\"asc\"\n",
        ")"
      ],
      "metadata": {
        "id": "qCnUvRj27p_T"
      },
      "execution_count": null,
      "outputs": []
    },
    {
      "cell_type": "code",
      "source": [
        "for msg in messages.data:\n",
        "  print(msg.role, end=': ')\n",
        "  print(msg.content[0].text.value)"
      ],
      "metadata": {
        "colab": {
          "base_uri": "https://localhost:8080/"
        },
        "id": "kY4nmtQK6B8U",
        "outputId": "43e31475-058b-4562-e1c2-be82de0773cd"
      },
      "execution_count": null,
      "outputs": [
        {
          "output_type": "stream",
          "name": "stdout",
          "text": [
            "user: Do I get time off if I plan to vote in the upcoming election?\n",
            "assistant: Yes, Employee X, you are entitled to time off to vote. Your organization encourages employees to participate in elections and recognizes the importance of fulfilling civic responsibilities. If your work schedule prohibits you from voting outside your working hours, the organization will grant you up to 2 hours of paid time off to vote. \n",
            "\n",
            "To take advantage of this policy, you need to request time off from your supervisor at least two working days prior to Election Day, and the time off can be scheduled at either the beginning or the end of your work shift to minimize disruption. Remember, you must submit a voter's receipt on the first working day following the election to qualify for this paid time off【7†source】.\n"
          ]
        }
      ]
    },
    {
      "cell_type": "code",
      "source": [],
      "metadata": {
        "id": "ElLignlNJDwl"
      },
      "execution_count": null,
      "outputs": []
    }
  ]
}
